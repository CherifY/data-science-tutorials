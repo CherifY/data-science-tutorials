{
  "cells": [
    {
      "cell_type": "markdown",
      "metadata": {
        "id": "EVc91QO8bTto"
      },
      "source": [
        "# Introduction to Python"
      ]
    },
    {
      "cell_type": "markdown",
      "metadata": {
        "id": "eBo2NpUTbTtq"
      },
      "source": [
        "[Originally written](https://www.math.univ-toulouse.fr/~xgendre/ens/m2se/introduction_to_python.pdf) by [Xavier Gendre](https://www.math.univ-toulouse.fr/~xgendre/), adapted to the Jupyter Notebook format by [Max Halford](https://maxhalford.github.io/)."
      ]
    },
    {
      "cell_type": "markdown",
      "metadata": {
        "id": "NmKzwZTqbTtr"
      },
      "source": [
        "## Contents"
      ]
    },
    {
      "cell_type": "markdown",
      "metadata": {
        "id": "E5npPLAsbTtr"
      },
      "source": [
        "## License"
      ]
    },
    {
      "cell_type": "markdown",
      "metadata": {
        "id": "30m31f1dbTts"
      },
      "source": [
        "This work is licensed under a Creative Commons Attribution - NonCommercial -ShareAlike 4.0 International License. To obtain a copy of this license, please visit [https://creativecommons.org/licenses/by-nc-sa/4.0/](https://creativecommons.org/licenses/by-nc-sa/4.0/)."
      ]
    },
    {
      "cell_type": "markdown",
      "metadata": {
        "id": "UuuBPyDpbTts"
      },
      "source": [
        "## Preliminaries"
      ]
    },
    {
      "cell_type": "markdown",
      "metadata": {
        "id": "tKzk-3OfbTts"
      },
      "source": [
        "### What is Python?"
      ]
    },
    {
      "cell_type": "markdown",
      "metadata": {
        "id": "UWbIGpsWbTtt"
      },
      "source": [
        "[Python](https://www.python.org/) is a widely used programming language initially implemented in 1989 by Guido van\n",
        "Rossum who is still playing an important role in the Python community. Its reference imple-mentation, called CPython, is managed by the [Python Software Fundation](https://www.python.org/psf-landing/) and distributed according to the [Python Software Foundation License](https://docs.python.org/3/license.html). This licence is compatible with the GNU General Public License and approved by the Open Source Initiative, thus CPython is free and open-source software.\n",
        "\n",
        "To run Python code, a specific software called interpreter is needed. Such softwares are available for many operating systems, allowing Python code to run on a wide variety of systems. Commonly, installing Python amounts to get and install such an interpreter from the [Download page](https://www.python.org/downloads/) of the project.\n",
        "\n",
        "The Python philosophy is summarized in a sequence of aphorisms known as [PEP 20](https://www.python.org/dev/peps/pep-0020/). It gives a great importance to code readability and to the capacity to express concepts in few lines of code. The ability to produce good code in the sense of this philosophy comes with reading and writing code, a lot of code! Anyone who wants to produce Python code has to read the [PEP 8](https://www.python.org/dev/peps/pep-0008/#code-lay-out) and to deeply thinks about the advices given in this document. Python supports multiple programming paradigms, including object-oriented, imperative and functional programming or procedural styles. It features a dynamic type system and automatic memory management and has a large and comprehensive standard library."
      ]
    },
    {
      "cell_type": "markdown",
      "metadata": {
        "id": "vPMlJppsbTtu"
      },
      "source": [
        "### About Python versions"
      ]
    },
    {
      "cell_type": "markdown",
      "metadata": {
        "id": "7a0clIs2bTtu"
      },
      "source": [
        "Nowadays, two distinct versions of Python coexist, the version 2 and version 3. These versions are not compatible. This is an important point to keep in mind, especially when help or code examples are searched on the Web. A list of the main incompatibilities (and problems to solve when porting code from Python 2.x to Python 3.x) can be found in an article of Guido van Rossum called [What’s New In Python 3.0](https://docs.python.org/3/whatsnew/3.0.html).\n",
        "\n",
        "The last release of version 2 is Python 2.7 and it was announced in November 2014 that\n",
        "this is the last one, no 2.8 will be released in the future. This version is supported until 2020 but the users are deeply encouraged to move to version 3 as soon as possible.\n",
        "\n",
        "The current stable release is Python 3.7 and the development version is 3.8. Some attention should be paid to that when documentation pages are browsed. In the sequel of this document, Python 3.7 is silently assumed in all the examples."
      ]
    },
    {
      "cell_type": "markdown",
      "metadata": {
        "id": "57nKqaejbTtv"
      },
      "source": [
        "### Where to find help?"
      ]
    },
    {
      "cell_type": "markdown",
      "metadata": {
        "id": "qKXyQV1FbTtv"
      },
      "source": [
        "An undeniable force of Python language is its large community. A lot of tutorials, forum threads, articles, ... can easily be found on the Web. Again, it is important to ensure version compatiblity when pieces of code are found in such a way.\n",
        "\n",
        "[Official documentation](https://docs.python.org/3/) is an endless source of information about the language and its ecosystem. By default, the documentation is the one for the development version of Python (currently, version 3.7.4). In the top left corner of the page, a selector allows to choose what is the required version. Picking 3.7 leads to documentation for the latest stable release, namely version 3.7.4.\n",
        "\n",
        "As usual with programming languages, a lot of questions are answered in [Stack Overflow](https://stackoverflow.com/). A good advice when some problem is encountered is to first browse these pages before posting elsewhere.\n",
        "\n",
        "A very useful feature of using Jupyter Notebooks is that can prefix a function with a `?` to access their documentation. For example:"
      ]
    },
    {
      "cell_type": "code",
      "execution_count": null,
      "metadata": {
        "id": "0kP87pgcbTtw"
      },
      "outputs": [],
      "source": [
        "?max"
      ]
    },
    {
      "cell_type": "markdown",
      "metadata": {
        "id": "Qtf1tcfgbTtx"
      },
      "source": [
        "In some cases using `??` will also display the source code of the function."
      ]
    },
    {
      "cell_type": "markdown",
      "metadata": {
        "id": "ClXICBJ4bTty"
      },
      "source": [
        "## A programming language"
      ]
    },
    {
      "cell_type": "markdown",
      "metadata": {
        "id": "zx91P0yObTty"
      },
      "source": [
        "### Variables"
      ]
    },
    {
      "cell_type": "markdown",
      "metadata": {
        "id": "a120CQr4bTty"
      },
      "source": [
        "A *variable* is a symbolic name associated with a value. In Python, the name of a variable has\n",
        "to follow several rules:\n",
        "\n",
        "- it must start with a letter or an underscore,\n",
        "- remainder characters may consist of letters, numbers and underscores.\n",
        "\n",
        "Valid variable name examples are `my_var`, `_var`, `_MyVar01`, `x42_`, ... Moreover, like everything else in Python, variable names are **case sensitive**, i.e. `myVar`, `MyVar` and `mYvaR` are three distinct variable names.\n",
        "\n",
        "To assign a value to a variable, we use the operator `=` with the variable name on the left and the value to assign on the right. If the variable does not yet exist, it is created. Otherwise, its value is simply modified."
      ]
    },
    {
      "cell_type": "code",
      "execution_count": null,
      "metadata": {
        "id": "hUsKNdzCbTty",
        "outputId": "9ac0382c-638d-478a-a373-01a5d5e0e721",
        "colab": {
          "base_uri": "https://localhost:8080/"
        }
      },
      "outputs": [
        {
          "output_type": "stream",
          "name": "stdout",
          "text": [
            "19\n",
            "8\n"
          ]
        }
      ],
      "source": [
        "a = 19\n",
        "print(a)\n",
        "a = 8\n",
        "print(a)"
      ]
    },
    {
      "cell_type": "markdown",
      "metadata": {
        "id": "ngW-MhRObTtz"
      },
      "source": [
        "If you try to use a variable that is not defined, you will get an error:"
      ]
    },
    {
      "cell_type": "code",
      "execution_count": null,
      "metadata": {
        "id": "CKAnw7WQbTtz",
        "outputId": "4a7e0fe2-0c1c-4f75-8034-825313b7bd1e",
        "colab": {
          "base_uri": "https://localhost:8080/",
          "height": 166
        }
      },
      "outputs": [
        {
          "output_type": "error",
          "ename": "NameError",
          "evalue": "ignored",
          "traceback": [
            "\u001b[0;31m---------------------------------------------------------------------------\u001b[0m",
            "\u001b[0;31mNameError\u001b[0m                                 Traceback (most recent call last)",
            "\u001b[0;32m<ipython-input-16-b3b3b04032c5>\u001b[0m in \u001b[0;36m<module>\u001b[0;34m\u001b[0m\n\u001b[0;32m----> 1\u001b[0;31m \u001b[0mprint\u001b[0m\u001b[0;34m(\u001b[0m\u001b[0mundefined_variable\u001b[0m\u001b[0;34m)\u001b[0m\u001b[0;34m\u001b[0m\u001b[0;34m\u001b[0m\u001b[0m\n\u001b[0m",
            "\u001b[0;31mNameError\u001b[0m: name 'undefined_variable' is not defined"
          ]
        }
      ],
      "source": [
        " print(undefined_variable)"
      ]
    },
    {
      "cell_type": "markdown",
      "metadata": {
        "id": "VnPRhm3MbTtz"
      },
      "source": [
        "The mechanism to handle errors in Python will be covered later in this document.\n",
        "\n",
        "The content of a variable has a *type*, i.e. a category that determines the possible values.\n",
        "Usual types are boolean, integer, real number, string, . . . To know the type of a variable, we\n",
        "use the function `type`:"
      ]
    },
    {
      "cell_type": "code",
      "execution_count": null,
      "metadata": {
        "id": "i6LwJJ23bTtz"
      },
      "outputs": [],
      "source": [
        "x = True; type(x)"
      ]
    },
    {
      "cell_type": "code",
      "execution_count": null,
      "metadata": {
        "id": "Kce9XXyvbTt0",
        "colab": {
          "base_uri": "https://localhost:8080/"
        },
        "outputId": "ee82999c-7762-4d04-ef8b-7821c158f82a"
      },
      "outputs": [
        {
          "output_type": "execute_result",
          "data": {
            "text/plain": [
              "int"
            ]
          },
          "metadata": {},
          "execution_count": 17
        }
      ],
      "source": [
        "x = 42; type(x)"
      ]
    },
    {
      "cell_type": "code",
      "execution_count": null,
      "metadata": {
        "id": "91-zODlGbTt0"
      },
      "outputs": [],
      "source": [
        "x = 42.0; type(x)"
      ]
    },
    {
      "cell_type": "code",
      "execution_count": null,
      "metadata": {
        "id": "b4Z-bH5KbTt0"
      },
      "outputs": [],
      "source": [
        "x = 'Hello World!'; type(x)"
      ]
    },
    {
      "cell_type": "markdown",
      "metadata": {
        "id": "_t6tjBQMbTt0"
      },
      "source": [
        "The properties of common types will be introduced in the next section. This is important to bear in mind that Python has typed objects but untyped variable names. It means that the content of the variable has a type, not the variable itself. This is why we could assign contents from various types to x in the previous example without any trouble. In Python, the assignment of a value to a variable amounts to make the variable names pointing to a specific location in the memory which contains the value itself. This location in the memory is called an address and assigning a value with a different type to a variable simply consists in making this address pointing elsewhere in the memory. To get the address, we use the function `id`:"
      ]
    },
    {
      "cell_type": "code",
      "execution_count": null,
      "metadata": {
        "id": "I44ksVs8bTt0",
        "outputId": "c587c311-0393-40f7-983f-b3c221ac6f6a",
        "colab": {
          "base_uri": "https://localhost:8080/"
        }
      },
      "outputs": [
        {
          "output_type": "execute_result",
          "data": {
            "text/plain": [
              "11115712"
            ]
          },
          "metadata": {},
          "execution_count": 4
        }
      ],
      "source": [
        "x = True; id(x)"
      ]
    },
    {
      "cell_type": "code",
      "execution_count": null,
      "metadata": {
        "id": "TqM-7ZcVbTt1",
        "outputId": "64194c9b-cd27-446a-86d8-13b3f7e30e11",
        "colab": {
          "base_uri": "https://localhost:8080/"
        }
      },
      "outputs": [
        {
          "output_type": "execute_result",
          "data": {
            "text/plain": [
              "140712665150448"
            ]
          },
          "metadata": {},
          "execution_count": 5
        }
      ],
      "source": [
        "x = 1234; id(x)"
      ]
    },
    {
      "cell_type": "markdown",
      "metadata": {
        "id": "BTeSDG-mbTt1"
      },
      "source": [
        "If the same value is assigned to two distinct variable names, both of them can point to the\n",
        "same address, avoiding data replication. To test this mechanism, we can use operators `is`\n",
        "and `is not` to for object identity:"
      ]
    },
    {
      "cell_type": "code",
      "execution_count": null,
      "metadata": {
        "id": "__cv3LItbTt1",
        "outputId": "4d19cc93-c905-4a3b-ab49-65e8ae8a3905",
        "colab": {
          "base_uri": "https://localhost:8080/"
        }
      },
      "outputs": [
        {
          "output_type": "execute_result",
          "data": {
            "text/plain": [
              "11123904"
            ]
          },
          "metadata": {},
          "execution_count": 6
        }
      ],
      "source": [
        "x = 42; id(x)"
      ]
    },
    {
      "cell_type": "code",
      "execution_count": null,
      "metadata": {
        "id": "64ajbuhbbTt1",
        "outputId": "18c390d0-79a1-48ef-c86a-21a2142a6046",
        "colab": {
          "base_uri": "https://localhost:8080/"
        }
      },
      "outputs": [
        {
          "output_type": "execute_result",
          "data": {
            "text/plain": [
              "11123904"
            ]
          },
          "metadata": {},
          "execution_count": 7
        }
      ],
      "source": [
        "y = 42; id(y)"
      ]
    },
    {
      "cell_type": "code",
      "execution_count": null,
      "metadata": {
        "id": "TTeFo3rybTt2",
        "outputId": "38b2f6b8-0b5f-4c5c-e9da-973830a5d232",
        "colab": {
          "base_uri": "https://localhost:8080/"
        }
      },
      "outputs": [
        {
          "output_type": "execute_result",
          "data": {
            "text/plain": [
              "11123936"
            ]
          },
          "metadata": {},
          "execution_count": 8
        }
      ],
      "source": [
        "z = 43; id(z)"
      ]
    },
    {
      "cell_type": "code",
      "execution_count": null,
      "metadata": {
        "id": "JXhgtwdfbTt2",
        "outputId": "d0fa401b-540d-4307-d410-8201274c8200",
        "colab": {
          "base_uri": "https://localhost:8080/"
        }
      },
      "outputs": [
        {
          "output_type": "execute_result",
          "data": {
            "text/plain": [
              "True"
            ]
          },
          "metadata": {},
          "execution_count": 9
        }
      ],
      "source": [
        "x is y"
      ]
    },
    {
      "cell_type": "code",
      "execution_count": null,
      "metadata": {
        "id": "Dk0KKQHpbTt2",
        "outputId": "6f00a115-02c4-401d-feb4-d14441de81b7",
        "colab": {
          "base_uri": "https://localhost:8080/"
        }
      },
      "outputs": [
        {
          "output_type": "execute_result",
          "data": {
            "text/plain": [
              "True"
            ]
          },
          "metadata": {},
          "execution_count": 10
        }
      ],
      "source": [
        "x is not z"
      ]
    },
    {
      "cell_type": "markdown",
      "metadata": {
        "id": "8AifdirVbTt2"
      },
      "source": [
        "When a variable name is no longer needed, it is possible to break the link with a memory\n",
        "location and to delete it with the operator `del`:"
      ]
    },
    {
      "cell_type": "code",
      "execution_count": null,
      "metadata": {
        "id": "ATfFDL2lbTt2",
        "outputId": "4694b3a8-b238-4936-ba6e-a18084e57857",
        "colab": {
          "base_uri": "https://localhost:8080/"
        }
      },
      "outputs": [
        {
          "output_type": "stream",
          "name": "stdout",
          "text": [
            "I exist!\n"
          ]
        }
      ],
      "source": [
        "x = 'I exist!'\n",
        "print(x)"
      ]
    },
    {
      "cell_type": "code",
      "execution_count": null,
      "metadata": {
        "id": "3GZ21bpvbTt3",
        "outputId": "d7056e51-c383-431c-b7bf-da8dd625081b",
        "colab": {
          "base_uri": "https://localhost:8080/",
          "height": 184
        }
      },
      "outputs": [
        {
          "output_type": "error",
          "ename": "NameError",
          "evalue": "ignored",
          "traceback": [
            "\u001b[0;31m---------------------------------------------------------------------------\u001b[0m",
            "\u001b[0;31mNameError\u001b[0m                                 Traceback (most recent call last)",
            "\u001b[0;32m<ipython-input-12-8c23cd95a3fd>\u001b[0m in \u001b[0;36m<module>\u001b[0;34m\u001b[0m\n\u001b[1;32m      1\u001b[0m \u001b[0;32mdel\u001b[0m \u001b[0mx\u001b[0m\u001b[0;34m\u001b[0m\u001b[0;34m\u001b[0m\u001b[0m\n\u001b[0;32m----> 2\u001b[0;31m \u001b[0mprint\u001b[0m\u001b[0;34m(\u001b[0m\u001b[0mx\u001b[0m\u001b[0;34m)\u001b[0m\u001b[0;34m\u001b[0m\u001b[0;34m\u001b[0m\u001b[0m\n\u001b[0m",
            "\u001b[0;31mNameError\u001b[0m: name 'x' is not defined"
          ]
        }
      ],
      "source": [
        "del x\n",
        "print(x)"
      ]
    },
    {
      "cell_type": "markdown",
      "metadata": {
        "id": "F3NUVLf8bTt3"
      },
      "source": [
        "### Standard types"
      ]
    },
    {
      "cell_type": "markdown",
      "metadata": {
        "id": "a3k_3cgBbTt3"
      },
      "source": [
        "#### Boolean"
      ]
    },
    {
      "cell_type": "markdown",
      "metadata": {
        "id": "pQa_OWhRbTt3"
      },
      "source": [
        "The type `bool` can only take two values: `True` and `False`. Operators `not`, `and` and `or` allow to combine them to produce other boolean values."
      ]
    },
    {
      "cell_type": "code",
      "execution_count": null,
      "metadata": {
        "id": "-jA82ZuobTt3",
        "colab": {
          "base_uri": "https://localhost:8080/"
        },
        "outputId": "6474d9d0-7366-4ce0-d9b7-8c6fda7e4e97"
      },
      "outputs": [
        {
          "output_type": "execute_result",
          "data": {
            "text/plain": [
              "bool"
            ]
          },
          "metadata": {},
          "execution_count": 18
        }
      ],
      "source": [
        "x = True\n",
        "type(x)"
      ]
    },
    {
      "cell_type": "code",
      "execution_count": null,
      "metadata": {
        "id": "mYpmU-MlbTt3",
        "colab": {
          "base_uri": "https://localhost:8080/"
        },
        "outputId": "7b828f95-1fca-40e6-a969-775ea012eda3"
      },
      "outputs": [
        {
          "output_type": "stream",
          "name": "stdout",
          "text": [
            "True\n"
          ]
        }
      ],
      "source": [
        "print(x)"
      ]
    },
    {
      "cell_type": "code",
      "execution_count": null,
      "metadata": {
        "id": "08Jik0bXbTt4",
        "colab": {
          "base_uri": "https://localhost:8080/"
        },
        "outputId": "ee781f37-2347-4ca0-8c45-26816a996080"
      },
      "outputs": [
        {
          "output_type": "stream",
          "name": "stdout",
          "text": [
            "False\n"
          ]
        }
      ],
      "source": [
        "print(not x)"
      ]
    },
    {
      "cell_type": "code",
      "execution_count": null,
      "metadata": {
        "id": "LcVnYzOebTt4",
        "colab": {
          "base_uri": "https://localhost:8080/"
        },
        "outputId": "1b305bfe-ec68-45fb-9fc1-aa1a526825e1"
      },
      "outputs": [
        {
          "output_type": "stream",
          "name": "stdout",
          "text": [
            "False\n"
          ]
        }
      ],
      "source": [
        "y = False\n",
        "print(x and y)"
      ]
    },
    {
      "cell_type": "code",
      "execution_count": null,
      "metadata": {
        "id": "b2Op5SMxbTt4",
        "colab": {
          "base_uri": "https://localhost:8080/"
        },
        "outputId": "9a2b885e-af9f-4189-e1bf-7569f98ce74b"
      },
      "outputs": [
        {
          "output_type": "stream",
          "name": "stdout",
          "text": [
            "True\n"
          ]
        }
      ],
      "source": [
        "print(x and not y)"
      ]
    },
    {
      "cell_type": "code",
      "execution_count": null,
      "metadata": {
        "id": "T45xMymgbTt4",
        "colab": {
          "base_uri": "https://localhost:8080/"
        },
        "outputId": "69968dd1-5e20-4253-fef4-ddce7db5fccc"
      },
      "outputs": [
        {
          "output_type": "stream",
          "name": "stdout",
          "text": [
            "True\n"
          ]
        }
      ],
      "source": [
        "print(x or y)"
      ]
    },
    {
      "cell_type": "code",
      "execution_count": null,
      "metadata": {
        "id": "JrIMY66IbTt4",
        "colab": {
          "base_uri": "https://localhost:8080/"
        },
        "outputId": "93428d73-3921-4fef-8c4d-232f65a36a42"
      },
      "outputs": [
        {
          "output_type": "stream",
          "name": "stdout",
          "text": [
            "False\n"
          ]
        }
      ],
      "source": [
        "print(not x or y)"
      ]
    },
    {
      "cell_type": "markdown",
      "metadata": {
        "id": "M13tqv73bTt4"
      },
      "source": [
        "Booleans mainly appear in conditional structures (see explanations further) to test some\n",
        "conditions. Nevertheless, in Python, a lot of not boolean values are considered false:\n",
        "\n",
        "- special value `None` which is a null value, i.e. a value assigned to a variable name only to make it exist,\n",
        "- zero numeric values `0`, `0.0`, ...,\n",
        "- any empty sequence `''`, `()`, `[]`, ... (see further),\n",
        "- empty mapping `{}` (see further),\n",
        "- any class with a `__bool__` method which returns `False` (see further).\n",
        "\n",
        "All other values are considered true, so objects of many types are always true.\n",
        "\n",
        "Some operators also produce boolean values:\n",
        "\n",
        "- `==` (equal)\n",
        "- `!=` (not equal)\n",
        "- `<` (strictly lower than)\n",
        "- `<=` (lower than or equal)\n",
        "- `>` (strictly greater than)\n",
        "- `>=` (greater than or equal)\n",
        "- `in` and `not in` (belong operator, see further)\n",
        "- `is` and `is not` (object identity)"
      ]
    },
    {
      "cell_type": "code",
      "execution_count": null,
      "metadata": {
        "id": "q0JSoo6AbTt5",
        "colab": {
          "base_uri": "https://localhost:8080/"
        },
        "outputId": "c2bf4733-c82c-4188-8119-98683bad898d"
      },
      "outputs": [
        {
          "output_type": "execute_result",
          "data": {
            "text/plain": [
              "False"
            ]
          },
          "metadata": {},
          "execution_count": 25
        }
      ],
      "source": [
        "'Hello' == 'hello'"
      ]
    },
    {
      "cell_type": "code",
      "execution_count": null,
      "metadata": {
        "id": "ho_xRrXvbTt5",
        "colab": {
          "base_uri": "https://localhost:8080/"
        },
        "outputId": "d87ab5a9-e08f-4dde-a7cc-c610ddb7af9f"
      },
      "outputs": [
        {
          "output_type": "execute_result",
          "data": {
            "text/plain": [
              "True"
            ]
          },
          "metadata": {},
          "execution_count": 26
        }
      ],
      "source": [
        "'aaa' <= 'aab'"
      ]
    },
    {
      "cell_type": "code",
      "execution_count": null,
      "metadata": {
        "id": "xOUnQKfrbTt5",
        "colab": {
          "base_uri": "https://localhost:8080/"
        },
        "outputId": "bba11192-32f3-4a05-a0d3-f7ea834e39e7"
      },
      "outputs": [
        {
          "output_type": "execute_result",
          "data": {
            "text/plain": [
              "True"
            ]
          },
          "metadata": {},
          "execution_count": 27
        }
      ],
      "source": [
        "17 > 8"
      ]
    },
    {
      "cell_type": "markdown",
      "metadata": {
        "id": "JkcEBCwpbTt5"
      },
      "source": [
        "#### Numeric types"
      ]
    },
    {
      "cell_type": "markdown",
      "metadata": {
        "id": "bdK-NbgXbTt5"
      },
      "source": [
        "Three distinct numeric types are at our disposal: `int` for integers, `float` for floating point\n",
        "numbers and `complex` for complex numbers. Floating point numbers are usually implemented\n",
        "using double precision and complex numbers have a real and imaginary part, which are each\n",
        "a floating point number. To produce an imaginary number, the character `j` or `J` has to be\n",
        "appended to a numeric literal.\n",
        "\n",
        "Common operations on numeric types are available in Python as illustrated in the following\n",
        "examples. When an operation between two numeric types makes sense, note that the type\n",
        "of the result is the more widened (*e.g.* adding a floating and a complex number leads to a\n",
        "complex number).\n",
        "\n",
        "**Various numeric types**"
      ]
    },
    {
      "cell_type": "code",
      "execution_count": null,
      "metadata": {
        "id": "LDP-Q8-vbTt5",
        "colab": {
          "base_uri": "https://localhost:8080/"
        },
        "outputId": "4c4bf963-64e1-4cf1-d76d-e96a80210d55"
      },
      "outputs": [
        {
          "output_type": "execute_result",
          "data": {
            "text/plain": [
              "int"
            ]
          },
          "metadata": {},
          "execution_count": 28
        }
      ],
      "source": [
        "x = 5; type(x)"
      ]
    },
    {
      "cell_type": "code",
      "execution_count": null,
      "metadata": {
        "id": "EWsgk21GbTt5",
        "colab": {
          "base_uri": "https://localhost:8080/"
        },
        "outputId": "fe3beb5b-a804-4a67-8b5e-1455c6c57236"
      },
      "outputs": [
        {
          "output_type": "execute_result",
          "data": {
            "text/plain": [
              "float"
            ]
          },
          "metadata": {},
          "execution_count": 29
        }
      ],
      "source": [
        "y = 3.14159; type(y)"
      ]
    },
    {
      "cell_type": "code",
      "execution_count": null,
      "metadata": {
        "id": "3KWZ36lRbTt6",
        "colab": {
          "base_uri": "https://localhost:8080/"
        },
        "outputId": "9e17dc66-4e37-44bb-b656-f97bec23df7a"
      },
      "outputs": [
        {
          "output_type": "execute_result",
          "data": {
            "text/plain": [
              "complex"
            ]
          },
          "metadata": {},
          "execution_count": 30
        }
      ],
      "source": [
        "z = 2+3j; type(z)"
      ]
    },
    {
      "cell_type": "markdown",
      "metadata": {
        "id": "Xl1vsevObTt6"
      },
      "source": [
        "**Explicit type**"
      ]
    },
    {
      "cell_type": "code",
      "execution_count": null,
      "metadata": {
        "id": "hI2loJGUbTt6",
        "colab": {
          "base_uri": "https://localhost:8080/"
        },
        "outputId": "81a69190-c7d0-4e15-b191-6268e673a9f2"
      },
      "outputs": [
        {
          "output_type": "execute_result",
          "data": {
            "text/plain": [
              "5"
            ]
          },
          "metadata": {},
          "execution_count": 31
        }
      ],
      "source": [
        "int(x)"
      ]
    },
    {
      "cell_type": "code",
      "execution_count": null,
      "metadata": {
        "id": "_wV_t0CmbTt6",
        "colab": {
          "base_uri": "https://localhost:8080/"
        },
        "outputId": "8979b2e0-c018-4875-9ea6-8f0909094612"
      },
      "outputs": [
        {
          "output_type": "execute_result",
          "data": {
            "text/plain": [
              "5.0"
            ]
          },
          "metadata": {},
          "execution_count": 32
        }
      ],
      "source": [
        "float(x)"
      ]
    },
    {
      "cell_type": "code",
      "execution_count": null,
      "metadata": {
        "id": "Fmr-_13IbTt6",
        "colab": {
          "base_uri": "https://localhost:8080/"
        },
        "outputId": "86f7cc73-81a2-4dce-847e-a4ea5a477153"
      },
      "outputs": [
        {
          "output_type": "execute_result",
          "data": {
            "text/plain": [
              "(5+3.14159j)"
            ]
          },
          "metadata": {},
          "execution_count": 33
        }
      ],
      "source": [
        "complex(x, y)"
      ]
    },
    {
      "cell_type": "markdown",
      "metadata": {
        "id": "9jyAM_NmbTt6"
      },
      "source": [
        "**Complex numbers**"
      ]
    },
    {
      "cell_type": "code",
      "execution_count": null,
      "metadata": {
        "id": "yA5tx0QfbTt6",
        "colab": {
          "base_uri": "https://localhost:8080/"
        },
        "outputId": "4ae7d54f-729f-4588-9e07-88e7ac7fff14"
      },
      "outputs": [
        {
          "output_type": "stream",
          "name": "stdout",
          "text": [
            "2.0\n"
          ]
        }
      ],
      "source": [
        "print(z.real) # Real part of z"
      ]
    },
    {
      "cell_type": "code",
      "execution_count": null,
      "metadata": {
        "id": "I2FIyyHpbTt7",
        "colab": {
          "base_uri": "https://localhost:8080/"
        },
        "outputId": "482b0148-578c-4e5b-a0d5-9cc99b8a6177"
      },
      "outputs": [
        {
          "output_type": "stream",
          "name": "stdout",
          "text": [
            "3.0\n"
          ]
        }
      ],
      "source": [
        "print(z.imag) # Imaginary part of z"
      ]
    },
    {
      "cell_type": "code",
      "execution_count": null,
      "metadata": {
        "id": "8wfSkdMxbTt7",
        "colab": {
          "base_uri": "https://localhost:8080/"
        },
        "outputId": "2ef0d0ba-aada-4b8f-bf9a-25f0cda1a973"
      },
      "outputs": [
        {
          "output_type": "stream",
          "name": "stdout",
          "text": [
            "(2-3j)\n"
          ]
        }
      ],
      "source": [
        "print(z.conjugate()) # Conjugate of z"
      ]
    },
    {
      "cell_type": "markdown",
      "metadata": {
        "id": "ZWUE5XchbTt7"
      },
      "source": [
        "**Common operations**"
      ]
    },
    {
      "cell_type": "code",
      "execution_count": null,
      "metadata": {
        "id": "AJ5-TQWfbTt7",
        "colab": {
          "base_uri": "https://localhost:8080/"
        },
        "outputId": "20f17972-7edf-4328-ad9d-5a8286ea143d"
      },
      "outputs": [
        {
          "output_type": "execute_result",
          "data": {
            "text/plain": [
              "8.14159"
            ]
          },
          "metadata": {},
          "execution_count": 37
        }
      ],
      "source": [
        "x + y # Sum of x and y"
      ]
    },
    {
      "cell_type": "code",
      "execution_count": null,
      "metadata": {
        "id": "hv8ijf5ubTt7",
        "colab": {
          "base_uri": "https://localhost:8080/"
        },
        "outputId": "c2bed7c4-911e-4e16-c660-532f1b5b0a20"
      },
      "outputs": [
        {
          "output_type": "execute_result",
          "data": {
            "text/plain": [
              "1.8584100000000001"
            ]
          },
          "metadata": {},
          "execution_count": 38
        }
      ],
      "source": [
        "x - y # Difference of x and y"
      ]
    },
    {
      "cell_type": "code",
      "execution_count": null,
      "metadata": {
        "id": "prZCA5fgbTt7",
        "colab": {
          "base_uri": "https://localhost:8080/"
        },
        "outputId": "7d5fd986-5316-41ce-85f5-39de577e774b"
      },
      "outputs": [
        {
          "output_type": "execute_result",
          "data": {
            "text/plain": [
              "15.70795"
            ]
          },
          "metadata": {},
          "execution_count": 39
        }
      ],
      "source": [
        "x * y # Product of x and y"
      ]
    },
    {
      "cell_type": "code",
      "execution_count": null,
      "metadata": {
        "id": "eSLADtQ6bTt7",
        "colab": {
          "base_uri": "https://localhost:8080/"
        },
        "outputId": "b78d2cae-8711-4ca2-f9f2-c19cad4d7d5c"
      },
      "outputs": [
        {
          "output_type": "execute_result",
          "data": {
            "text/plain": [
              "1.5915507752443827"
            ]
          },
          "metadata": {},
          "execution_count": 40
        }
      ],
      "source": [
        "x / y # Quotient of x and y"
      ]
    },
    {
      "cell_type": "code",
      "execution_count": null,
      "metadata": {
        "id": "sfvbizFBbTt8",
        "colab": {
          "base_uri": "https://localhost:8080/"
        },
        "outputId": "911acaae-72d6-4542-c318-c53045060735"
      },
      "outputs": [
        {
          "output_type": "execute_result",
          "data": {
            "text/plain": [
              "1.0"
            ]
          },
          "metadata": {},
          "execution_count": 41
        }
      ],
      "source": [
        "x // y # Floored quotient of x and y"
      ]
    },
    {
      "cell_type": "code",
      "execution_count": null,
      "metadata": {
        "id": "G8K8U2xUbTt8",
        "colab": {
          "base_uri": "https://localhost:8080/"
        },
        "outputId": "8af63029-faec-4dbe-d966-3bd1085bdbc4"
      },
      "outputs": [
        {
          "output_type": "execute_result",
          "data": {
            "text/plain": [
              "1.8584100000000001"
            ]
          },
          "metadata": {},
          "execution_count": 42
        }
      ],
      "source": [
        "x % y # Remainder of x / y"
      ]
    },
    {
      "cell_type": "markdown",
      "metadata": {
        "id": "RmFdgvyObTt8"
      },
      "source": [
        "**Assignment operations**"
      ]
    },
    {
      "cell_type": "code",
      "execution_count": null,
      "metadata": {
        "id": "Zu7YnNYebTt8"
      },
      "outputs": [],
      "source": [
        "x += 42 # Update x by adding 42 (same as x = x + 42)"
      ]
    },
    {
      "cell_type": "code",
      "execution_count": null,
      "metadata": {
        "id": "hzRMxLNgbTt8"
      },
      "outputs": [],
      "source": [
        "x -= 42 # Update x by subtracting 42 (same as x = x - 42)"
      ]
    },
    {
      "cell_type": "code",
      "execution_count": null,
      "metadata": {
        "id": "dLjLlgsObTt8"
      },
      "outputs": [],
      "source": [
        "x *= 2 # Update x by multiplying by 2 (same as x = x * 2)"
      ]
    },
    {
      "cell_type": "markdown",
      "metadata": {
        "id": "F9izmZHtbTt8"
      },
      "source": [
        "**Useful operations**"
      ]
    },
    {
      "cell_type": "code",
      "execution_count": null,
      "metadata": {
        "id": "EctM99oLbTt8",
        "colab": {
          "base_uri": "https://localhost:8080/"
        },
        "outputId": "2a0ba267-94a3-42cc-b8ba-1fad02b68f9e"
      },
      "outputs": [
        {
          "output_type": "execute_result",
          "data": {
            "text/plain": [
              "10"
            ]
          },
          "metadata": {},
          "execution_count": 46
        }
      ],
      "source": [
        "abs(-x) # Absolute value for an integer or a floating number"
      ]
    },
    {
      "cell_type": "code",
      "execution_count": null,
      "metadata": {
        "id": "6W9AmTt1bTt9",
        "colab": {
          "base_uri": "https://localhost:8080/"
        },
        "outputId": "b1c119e4-eaf0-4e42-9a77-d9f3b3b256f1"
      },
      "outputs": [
        {
          "output_type": "execute_result",
          "data": {
            "text/plain": [
              "3.605551275463989"
            ]
          },
          "metadata": {},
          "execution_count": 47
        }
      ],
      "source": [
        "abs(z) # Magnitude for a complex number"
      ]
    },
    {
      "cell_type": "code",
      "execution_count": null,
      "metadata": {
        "id": "KIC00TqjbTt9",
        "colab": {
          "base_uri": "https://localhost:8080/"
        },
        "outputId": "a742aec6-1d94-420e-8a9d-3dc1c11b9d4c"
      },
      "outputs": [
        {
          "output_type": "execute_result",
          "data": {
            "text/plain": [
              "1000"
            ]
          },
          "metadata": {},
          "execution_count": 48
        }
      ],
      "source": [
        "pow(x, 3) # x to power 3"
      ]
    },
    {
      "cell_type": "code",
      "execution_count": null,
      "metadata": {
        "id": "e3UyVpSjbTt9",
        "colab": {
          "base_uri": "https://localhost:8080/"
        },
        "outputId": "aaf3b2f7-8af5-4de5-982e-89a1dd655676"
      },
      "outputs": [
        {
          "output_type": "execute_result",
          "data": {
            "text/plain": [
              "1000"
            ]
          },
          "metadata": {},
          "execution_count": 49
        }
      ],
      "source": [
        "x ** 3 # Idem, x to power 3"
      ]
    },
    {
      "cell_type": "code",
      "execution_count": null,
      "metadata": {
        "id": "rnKnHrqlbTt9",
        "colab": {
          "base_uri": "https://localhost:8080/"
        },
        "outputId": "ad900805-e9a0-47ed-c10d-85306938c4de"
      },
      "outputs": [
        {
          "output_type": "execute_result",
          "data": {
            "text/plain": [
              "3"
            ]
          },
          "metadata": {},
          "execution_count": 50
        }
      ],
      "source": [
        "round(y) # y rounded to closest integer"
      ]
    },
    {
      "cell_type": "code",
      "execution_count": null,
      "metadata": {
        "id": "oStVGad6bTt9",
        "colab": {
          "base_uri": "https://localhost:8080/"
        },
        "outputId": "755c500d-2800-4bda-d319-60e06db852c2"
      },
      "outputs": [
        {
          "output_type": "execute_result",
          "data": {
            "text/plain": [
              "3.14"
            ]
          },
          "metadata": {},
          "execution_count": 51
        }
      ],
      "source": [
        "round(y, 2) # y rounded to 2 digits"
      ]
    },
    {
      "cell_type": "markdown",
      "metadata": {
        "id": "0cm3weOhbTt9"
      },
      "source": [
        "#### Sequence types"
      ]
    },
    {
      "cell_type": "markdown",
      "metadata": {
        "id": "Eh9MYbnhbTt9"
      },
      "source": [
        "In Python, sequence types can be mutable (*i.e.* values contained in the sequence can be\n",
        "modified) or *immutable* (*i.e.* values contained in the sequence can **not** be modified). The\n",
        "basic sequence types are introduced in this section. Additional ones are described further and\n",
        "offer the same set of operations according to their mutability.\n",
        "\n",
        "**Tuples** are immutable sequences and are delimited by a pair of parentheses `()`. This\n",
        "sequence type can contains values with different types and square brackets `[]` are used to\n",
        "access items and for slicing."
      ]
    },
    {
      "cell_type": "code",
      "execution_count": null,
      "metadata": {
        "id": "zGdp1KSUbTt-"
      },
      "outputs": [],
      "source": [
        "t = () # Empty tuple\n",
        "t = (17, 8.0, 'Hello') # Tuple can contains different types"
      ]
    },
    {
      "cell_type": "code",
      "execution_count": null,
      "metadata": {
        "id": "9_qGNZB0bTt-",
        "colab": {
          "base_uri": "https://localhost:8080/"
        },
        "outputId": "1fed4306-a162-4547-8692-88a24478ff13"
      },
      "outputs": [
        {
          "output_type": "execute_result",
          "data": {
            "text/plain": [
              "17"
            ]
          },
          "metadata": {},
          "execution_count": 53
        }
      ],
      "source": [
        "t[0] # First item has index 0"
      ]
    },
    {
      "cell_type": "code",
      "execution_count": null,
      "metadata": {
        "id": "Y7JIBlDSbTt-",
        "colab": {
          "base_uri": "https://localhost:8080/",
          "height": 166
        },
        "outputId": "a7c4b759-f4f5-4b1c-c67a-d6e6d0708cf4"
      },
      "outputs": [
        {
          "output_type": "error",
          "ename": "TypeError",
          "evalue": "ignored",
          "traceback": [
            "\u001b[0;31m---------------------------------------------------------------------------\u001b[0m",
            "\u001b[0;31mTypeError\u001b[0m                                 Traceback (most recent call last)",
            "\u001b[0;32m<ipython-input-54-9b7c4bea3f4e>\u001b[0m in \u001b[0;36m<module>\u001b[0;34m\u001b[0m\n\u001b[0;32m----> 1\u001b[0;31m \u001b[0mt\u001b[0m\u001b[0;34m[\u001b[0m\u001b[0;36m2\u001b[0m\u001b[0;34m]\u001b[0m \u001b[0;34m=\u001b[0m \u001b[0;36m81\u001b[0m \u001b[0;31m# Error because t is immutable\u001b[0m\u001b[0;34m\u001b[0m\u001b[0;34m\u001b[0m\u001b[0m\n\u001b[0m",
            "\u001b[0;31mTypeError\u001b[0m: 'tuple' object does not support item assignment"
          ]
        }
      ],
      "source": [
        "t[2] = 81 # Error because t is immutable"
      ]
    },
    {
      "cell_type": "code",
      "execution_count": null,
      "metadata": {
        "id": "krRX8W84bTt-"
      },
      "outputs": [],
      "source": [
        "t[-1] # Last item"
      ]
    },
    {
      "cell_type": "code",
      "execution_count": null,
      "metadata": {
        "id": "W76u3BwqbTt-",
        "colab": {
          "base_uri": "https://localhost:8080/"
        },
        "outputId": "92cdd0f3-54a1-48ed-9d76-d3890c7d87bb"
      },
      "outputs": [
        {
          "output_type": "execute_result",
          "data": {
            "text/plain": [
              "('D', 'E')"
            ]
          },
          "metadata": {},
          "execution_count": 2
        }
      ],
      "source": [
        "t = ('A', 'B', 'C', 'D', 'E', 'F', 'G', 'H')\n",
        "t[3:5] # Slice of t from 3 to 5 excluded"
      ]
    },
    {
      "cell_type": "code",
      "execution_count": null,
      "metadata": {
        "id": "mcvjOAXrbTt-",
        "colab": {
          "base_uri": "https://localhost:8080/"
        },
        "outputId": "4788db59-663c-48da-e3d2-278868098c12"
      },
      "outputs": [
        {
          "output_type": "execute_result",
          "data": {
            "text/plain": [
              "('A', 'B', 'C', 'D', 'E')"
            ]
          },
          "metadata": {},
          "execution_count": 56
        }
      ],
      "source": [
        "t[:5] # Slice of t from start to 5 excluded"
      ]
    },
    {
      "cell_type": "code",
      "execution_count": null,
      "metadata": {
        "id": "xNl6GX7CbTt_"
      },
      "outputs": [],
      "source": [
        "t[3:] # Slice of t from 3 to end"
      ]
    },
    {
      "cell_type": "code",
      "execution_count": null,
      "metadata": {
        "id": "XeStjQ2SbTt_",
        "colab": {
          "base_uri": "https://localhost:8080/"
        },
        "outputId": "5875afe4-9fad-4f4e-f061-4d23ba17a905"
      },
      "outputs": [
        {
          "output_type": "execute_result",
          "data": {
            "text/plain": [
              "('B', 'D', 'F')"
            ]
          },
          "metadata": {},
          "execution_count": 3
        }
      ],
      "source": [
        "t[1:6:2] # Slice of t from 1 to 6 excluded with step 2"
      ]
    },
    {
      "cell_type": "code",
      "execution_count": null,
      "metadata": {
        "id": "nrXqXEcIbTt_"
      },
      "outputs": [],
      "source": [
        "t[-1] # Negative index starts with the last item ..."
      ]
    },
    {
      "cell_type": "code",
      "execution_count": null,
      "metadata": {
        "id": "tR0gre-ybTt_"
      },
      "outputs": [],
      "source": [
        "t[-1:-6:-2] # ... and you can slice!"
      ]
    },
    {
      "cell_type": "markdown",
      "metadata": {
        "id": "a-rphUgIbTt_"
      },
      "source": [
        "Examples below list several common operations that we can do with tuples. They remain\n",
        "available for lists introduced further."
      ]
    },
    {
      "cell_type": "code",
      "execution_count": null,
      "metadata": {
        "id": "Iiqhxg4ibTt_"
      },
      "outputs": [],
      "source": [
        "t = (17, 8, 19, 81, 19)"
      ]
    },
    {
      "cell_type": "code",
      "execution_count": null,
      "metadata": {
        "id": "KPsuYpnebTt_"
      },
      "outputs": [],
      "source": [
        "len(t) # Length of t"
      ]
    },
    {
      "cell_type": "code",
      "execution_count": null,
      "metadata": {
        "id": "EYQdsmCwbTuA",
        "colab": {
          "base_uri": "https://localhost:8080/",
          "height": 35
        },
        "outputId": "c097b032-3953-4653-db95-9ca045d905b4"
      },
      "outputs": [
        {
          "output_type": "execute_result",
          "data": {
            "text/plain": [
              "'A'"
            ],
            "application/vnd.google.colaboratory.intrinsic+json": {
              "type": "string"
            }
          },
          "metadata": {},
          "execution_count": 57
        }
      ],
      "source": [
        "min(t) # Smallest item of t"
      ]
    },
    {
      "cell_type": "code",
      "execution_count": null,
      "metadata": {
        "id": "ZtK5FfPHbTuA"
      },
      "outputs": [],
      "source": [
        "max(t) # Largest item of t"
      ]
    },
    {
      "cell_type": "code",
      "execution_count": null,
      "metadata": {
        "id": "mjnpfou3bTuA",
        "colab": {
          "base_uri": "https://localhost:8080/"
        },
        "outputId": "4f5291e6-abbd-446a-d16c-d7dc6b0bd300"
      },
      "outputs": [
        {
          "output_type": "execute_result",
          "data": {
            "text/plain": [
              "False"
            ]
          },
          "metadata": {},
          "execution_count": 58
        }
      ],
      "source": [
        "17 in t # Belong operator"
      ]
    },
    {
      "cell_type": "code",
      "execution_count": null,
      "metadata": {
        "id": "Pp-O5Vl1bTuA",
        "colab": {
          "base_uri": "https://localhost:8080/"
        },
        "outputId": "beb774b8-259e-475e-9721-0f09c95620c9"
      },
      "outputs": [
        {
          "output_type": "execute_result",
          "data": {
            "text/plain": [
              "True"
            ]
          },
          "metadata": {},
          "execution_count": 4
        }
      ],
      "source": [
        "17 not in t # Don't belong operator"
      ]
    },
    {
      "cell_type": "code",
      "execution_count": null,
      "metadata": {
        "id": "3Rs4joE1bTuA",
        "colab": {
          "base_uri": "https://localhost:8080/"
        },
        "outputId": "23fb44e5-a435-4bd7-97b4-cd527f33683b"
      },
      "outputs": [
        {
          "output_type": "execute_result",
          "data": {
            "text/plain": [
              "('A', 'B', 'C', 'D', 'E', 'F', 'G', 'H', 'Hello', 'Python')"
            ]
          },
          "metadata": {},
          "execution_count": 59
        }
      ],
      "source": [
        "t + ('Hello', 'Python') # Concatenation of tuples"
      ]
    },
    {
      "cell_type": "code",
      "execution_count": null,
      "metadata": {
        "id": "UnEE3IbzbTuA",
        "colab": {
          "base_uri": "https://localhost:8080/"
        },
        "outputId": "6d953cff-2ec3-49ab-c92a-f9af093d307b"
      },
      "outputs": [
        {
          "output_type": "execute_result",
          "data": {
            "text/plain": [
              "('A',\n",
              " 'B',\n",
              " 'C',\n",
              " 'D',\n",
              " 'E',\n",
              " 'F',\n",
              " 'G',\n",
              " 'H',\n",
              " 'A',\n",
              " 'B',\n",
              " 'C',\n",
              " 'D',\n",
              " 'E',\n",
              " 'F',\n",
              " 'G',\n",
              " 'H')"
            ]
          },
          "metadata": {},
          "execution_count": 61
        }
      ],
      "source": [
        "t * 2 # Concatenate 3 times t"
      ]
    },
    {
      "cell_type": "code",
      "execution_count": null,
      "metadata": {
        "id": "erfcylN4bTuA",
        "colab": {
          "base_uri": "https://localhost:8080/"
        },
        "outputId": "dce948cb-7d74-4bc0-9bcb-942cc4ee97f6"
      },
      "outputs": [
        {
          "output_type": "execute_result",
          "data": {
            "text/plain": [
              "0"
            ]
          },
          "metadata": {},
          "execution_count": 62
        }
      ],
      "source": [
        "t.count(19) # Number of occurences in t"
      ]
    },
    {
      "cell_type": "markdown",
      "metadata": {
        "id": "4aEd7vx7bTuB"
      },
      "source": [
        "When it is not muddled, surrounding parentheses of a tuple can be omitted. This trick is\n",
        "mainly used to simultaneously assign values to several variables or to elegantly swap the\n",
        "contents of variables."
      ]
    },
    {
      "cell_type": "code",
      "execution_count": null,
      "metadata": {
        "id": "LqH4K9AhbTuB",
        "colab": {
          "base_uri": "https://localhost:8080/"
        },
        "outputId": "d748da01-66f9-4d54-8e16-fdab8dec805f"
      },
      "outputs": [
        {
          "output_type": "stream",
          "name": "stdout",
          "text": [
            "17\n",
            "8\n",
            "Hello\n"
          ]
        }
      ],
      "source": [
        "a, b, c = 17, 8, 'Hello'\n",
        "print(a)\n",
        "print(b)\n",
        "print(c)"
      ]
    },
    {
      "cell_type": "code",
      "execution_count": null,
      "metadata": {
        "id": "bcqBkfTObTuB",
        "colab": {
          "base_uri": "https://localhost:8080/"
        },
        "outputId": "daee1c5f-3941-4a85-d0e8-2c3c933b90cb"
      },
      "outputs": [
        {
          "output_type": "stream",
          "name": "stdout",
          "text": [
            "8\n",
            "17\n"
          ]
        }
      ],
      "source": [
        "a, b = b, a # Smart, isn't it?\n",
        "print(a)\n",
        "print(b)"
      ]
    },
    {
      "cell_type": "markdown",
      "metadata": {
        "id": "PdIsi51HbTuB"
      },
      "source": [
        "`Lists` are mutable sequences and are delimited by a pair of square brackets `[]`. Accessing\n",
        "items and slicing work like with tuples."
      ]
    },
    {
      "cell_type": "code",
      "execution_count": null,
      "metadata": {
        "id": "1k9Bv44HbTuB",
        "colab": {
          "base_uri": "https://localhost:8080/",
          "height": 35
        },
        "outputId": "be1eae70-97ac-4132-f8b4-78f454e42c58"
      },
      "outputs": [
        {
          "output_type": "execute_result",
          "data": {
            "text/plain": [
              "'C'"
            ],
            "application/vnd.google.colaboratory.intrinsic+json": {
              "type": "string"
            }
          },
          "metadata": {},
          "execution_count": 65
        }
      ],
      "source": [
        "l = [] # Empty list\n",
        "l = [17, 8.0, 'Hello'] # List can contains different types\n",
        "l = ['A', 'B', 'C', 'D', 'E', 'F', 'G', 'H']\n",
        "l[2]"
      ]
    },
    {
      "cell_type": "code",
      "execution_count": null,
      "metadata": {
        "id": "290FJr1WbTuB"
      },
      "outputs": [],
      "source": [
        "l[3:5]"
      ]
    },
    {
      "cell_type": "markdown",
      "metadata": {
        "id": "1H04fk3DbTuC"
      },
      "source": [
        "Besides the operations from the immutable sequences, lists offer operations that modify itself."
      ]
    },
    {
      "cell_type": "code",
      "execution_count": null,
      "metadata": {
        "id": "jaUapiI0bTuC"
      },
      "outputs": [],
      "source": [
        "l = ['Python', 'is', 'quite', 'fun!']\n",
        "l[2] = 'very' # Replace item at position 2 of l by 'very'\n",
        "l"
      ]
    },
    {
      "cell_type": "code",
      "execution_count": null,
      "metadata": {
        "id": "DgaHNYu3bTuC",
        "colab": {
          "base_uri": "https://localhost:8080/"
        },
        "outputId": "8291c81b-0dfe-4842-e471-5109b4982e5d"
      },
      "outputs": [
        {
          "output_type": "execute_result",
          "data": {
            "text/plain": [
              "['A', 'B', 'D', 'E', 'F', 'G', 'H']"
            ]
          },
          "metadata": {},
          "execution_count": 66
        }
      ],
      "source": [
        "del l[2:3] # Delete items in the slice\n",
        "l"
      ]
    },
    {
      "cell_type": "code",
      "execution_count": null,
      "metadata": {
        "id": "CyrlifF6bTuC",
        "colab": {
          "base_uri": "https://localhost:8080/"
        },
        "outputId": "6a9ee5d0-b504-4489-a998-937053772b28"
      },
      "outputs": [
        {
          "output_type": "execute_result",
          "data": {
            "text/plain": [
              "['H', 'N', 'O', 'P', 'T', 'Y']"
            ]
          },
          "metadata": {},
          "execution_count": 68
        }
      ],
      "source": [
        "s = ['P', 'Y', 'T', 'H', 'O', 'N']\n",
        "s.sort() # Sort the list in increasing order\n",
        "s"
      ]
    },
    {
      "cell_type": "code",
      "execution_count": null,
      "metadata": {
        "id": "l-6hZIN5bTuC",
        "colab": {
          "base_uri": "https://localhost:8080/"
        },
        "outputId": "5da5e64b-9c5e-47ce-8381-829b680c60d6"
      },
      "outputs": [
        {
          "output_type": "execute_result",
          "data": {
            "text/plain": [
              "['Y', 'T', 'P', 'O', 'N', 'H']"
            ]
          },
          "metadata": {},
          "execution_count": 69
        }
      ],
      "source": [
        "s.reverse() # Reverse the items of s\n",
        "s"
      ]
    },
    {
      "cell_type": "code",
      "execution_count": null,
      "metadata": {
        "id": "jCMIozWRbTuC",
        "colab": {
          "base_uri": "https://localhost:8080/"
        },
        "outputId": "1fffef95-2531-4510-ba53-777c31ef4abc"
      },
      "outputs": [
        {
          "output_type": "execute_result",
          "data": {
            "text/plain": [
              "['Y', 'O', 'H']"
            ]
          },
          "metadata": {},
          "execution_count": 77
        }
      ],
      "source": [
        "s.remove('N') # Remove the first item containing 'T' from s\n",
        "s"
      ]
    },
    {
      "cell_type": "code",
      "execution_count": null,
      "metadata": {
        "id": "EkWNnq-_bTuC",
        "colab": {
          "base_uri": "https://localhost:8080/"
        },
        "outputId": "4da7a79d-61fb-4fd0-fbfc-5490157fd988"
      },
      "outputs": [
        {
          "output_type": "execute_result",
          "data": {
            "text/plain": [
              "['Y', 'O']"
            ]
          },
          "metadata": {},
          "execution_count": 78
        }
      ],
      "source": [
        "s.pop() # Retrieve the last item and remove it from s\n",
        "s"
      ]
    },
    {
      "cell_type": "code",
      "execution_count": null,
      "metadata": {
        "id": "8CDgv3GtbTuD"
      },
      "outputs": [],
      "source": [
        "s.pop(1) # Idem for item at position 1\n",
        "s"
      ]
    },
    {
      "cell_type": "code",
      "execution_count": null,
      "metadata": {
        "id": "NKPHz6t3bTuD"
      },
      "outputs": [],
      "source": [
        "s.clear() # Removes all items from l (same as del l[:])\n",
        "s"
      ]
    },
    {
      "cell_type": "code",
      "execution_count": null,
      "metadata": {
        "id": "nP8723w0bTuD",
        "colab": {
          "base_uri": "https://localhost:8080/",
          "height": 184
        },
        "outputId": "f25f5040-c7f7-4564-f01f-ce5e57ce9498"
      },
      "outputs": [
        {
          "output_type": "error",
          "ename": "NameError",
          "evalue": "ignored",
          "traceback": [
            "\u001b[0;31m---------------------------------------------------------------------------\u001b[0m",
            "\u001b[0;31mNameError\u001b[0m                                 Traceback (most recent call last)",
            "\u001b[0;32m<ipython-input-67-3ca188a1152f>\u001b[0m in \u001b[0;36m<module>\u001b[0;34m\u001b[0m\n\u001b[0;32m----> 1\u001b[0;31m \u001b[0ms\u001b[0m\u001b[0;34m.\u001b[0m\u001b[0mappend\u001b[0m\u001b[0;34m(\u001b[0m\u001b[0;36m42\u001b[0m\u001b[0;34m)\u001b[0m \u001b[0;31m# Appends 42 to the end of the list\u001b[0m\u001b[0;34m\u001b[0m\u001b[0;34m\u001b[0m\u001b[0m\n\u001b[0m\u001b[1;32m      2\u001b[0m \u001b[0ms\u001b[0m\u001b[0;34m\u001b[0m\u001b[0;34m\u001b[0m\u001b[0m\n",
            "\u001b[0;31mNameError\u001b[0m: name 's' is not defined"
          ]
        }
      ],
      "source": [
        "s.append(42) # Appends 42 to the end of the list\n",
        "s"
      ]
    },
    {
      "cell_type": "code",
      "execution_count": null,
      "metadata": {
        "id": "umBRViMUbTuD"
      },
      "outputs": [],
      "source": [
        "s.extend(l) # Extend s with the items of l\n",
        "s"
      ]
    },
    {
      "cell_type": "code",
      "execution_count": null,
      "metadata": {
        "id": "MRC1zGUHbTuD"
      },
      "outputs": [],
      "source": [
        "s += l # Idem, extend s with the items of l\n",
        "s"
      ]
    },
    {
      "cell_type": "code",
      "execution_count": null,
      "metadata": {
        "id": "G72tCrTYbTuD"
      },
      "outputs": [],
      "source": [
        "s *= 3 # Update s with its contents repeated 3 times\n",
        "s"
      ]
    },
    {
      "cell_type": "code",
      "execution_count": null,
      "metadata": {
        "id": "8ZFY8836bTuD"
      },
      "outputs": [],
      "source": [
        "s.insert(5, 'Hello') # Insert 'Hello' into s at the position 5\n",
        "s"
      ]
    },
    {
      "cell_type": "markdown",
      "metadata": {
        "id": "FeT4E-_1bTuE"
      },
      "source": [
        "Finally, *ranges* are immutable sequences of numbers. They are commonly used for looping\n",
        "(see further). The advantage of the `range` type over a regular `list` or `tuple` is that a `range`\n",
        "object will always take the same (small) amount of memory, no matter the size of the range\n",
        "it represents. Beyond that, a `range` object is handled like any immutable sequence."
      ]
    },
    {
      "cell_type": "code",
      "execution_count": null,
      "metadata": {
        "id": "76W1UlGSbTuE"
      },
      "outputs": [],
      "source": [
        "range(10) # A range object from 0 to 9"
      ]
    },
    {
      "cell_type": "code",
      "execution_count": null,
      "metadata": {
        "id": "1ZIWr6o8bTuE"
      },
      "outputs": [],
      "source": [
        "list(range(10)) # Same object as a list"
      ]
    },
    {
      "cell_type": "code",
      "execution_count": null,
      "metadata": {
        "id": "VW_l4QoXbTuE"
      },
      "outputs": [],
      "source": [
        "list(range(1, 11)) # From 1 to 10"
      ]
    },
    {
      "cell_type": "code",
      "execution_count": null,
      "metadata": {
        "id": "pWQqK0NGbTuE",
        "colab": {
          "base_uri": "https://localhost:8080/"
        },
        "outputId": "e0f3f2b1-fc62-4a63-8efe-ab3f1ad934f0"
      },
      "outputs": [
        {
          "output_type": "execute_result",
          "data": {
            "text/plain": [
              "[0, 3, 6, 9]"
            ]
          },
          "metadata": {},
          "execution_count": 7
        }
      ],
      "source": [
        "list(range(0, 10, 3)) # From 0 to 9 with step 3"
      ]
    },
    {
      "cell_type": "code",
      "execution_count": null,
      "metadata": {
        "id": "p-GMw3-XbTuE"
      },
      "outputs": [],
      "source": [
        "list(range(0, -10, -1)) # From 0 to -9"
      ]
    },
    {
      "cell_type": "code",
      "execution_count": null,
      "metadata": {
        "id": "KH57br_sbTuE",
        "colab": {
          "base_uri": "https://localhost:8080/"
        },
        "outputId": "a3dcfc9b-dd1c-4527-858c-b44dfd23570f"
      },
      "outputs": [
        {
          "output_type": "execute_result",
          "data": {
            "text/plain": [
              "False"
            ]
          },
          "metadata": {},
          "execution_count": 8
        }
      ],
      "source": [
        "# Ranges are handled like other sequences\n",
        "r = range(0, 20, 2)\n",
        "11 in r"
      ]
    },
    {
      "cell_type": "code",
      "execution_count": null,
      "metadata": {
        "id": "t4hLLIPXbTuF",
        "colab": {
          "base_uri": "https://localhost:8080/"
        },
        "outputId": "b1ca9d31-ddd1-4d4c-8c30-172b164dbfb8"
      },
      "outputs": [
        {
          "output_type": "execute_result",
          "data": {
            "text/plain": [
              "False"
            ]
          },
          "metadata": {},
          "execution_count": 12
        }
      ],
      "source": [
        "20 in r"
      ]
    },
    {
      "cell_type": "code",
      "execution_count": null,
      "metadata": {
        "id": "dsRr3uOLbTuF",
        "colab": {
          "base_uri": "https://localhost:8080/"
        },
        "outputId": "bcd6372f-2e72-45a6-cbbd-62e6ac71a7ba"
      },
      "outputs": [
        {
          "output_type": "execute_result",
          "data": {
            "text/plain": [
              "16"
            ]
          },
          "metadata": {},
          "execution_count": 13
        }
      ],
      "source": [
        "r[5]; r[:5]; r[-2]"
      ]
    },
    {
      "cell_type": "markdown",
      "metadata": {
        "id": "ILH41QfabTuF"
      },
      "source": [
        "**Questions**\n",
        "\n",
        "- What do you get with t[:-2] and t[-2:]?\n",
        "- Define t = (17, 8, 'Hello'), explain what you obtain with min(t).\n",
        "- Read the documentation about the function sort. How can we sort a list in decreasing order only using sort?\n",
        "- Create the list [0, 1, 2, 3, 4, 5, 4, 3, 2, 1, 0] in one line with range objects.\n",
        "- Be careful with a list of lists when you fill its content:"
      ]
    },
    {
      "cell_type": "code",
      "execution_count": null,
      "metadata": {
        "id": "VOA0-0xfbTuF",
        "colab": {
          "base_uri": "https://localhost:8080/"
        },
        "outputId": "983a627b-6ef9-47d9-a8c7-b3ac994df1f1"
      },
      "outputs": [
        {
          "output_type": "stream",
          "name": "stdout",
          "text": [
            "['Bobby', 'Teddy']\n",
            "[['Bobby', 'Teddy'], ['Bobby', 'Teddy'], ['Bobby', 'Teddy']]\n"
          ]
        }
      ],
      "source": [
        "s = ['Bobby', 'Teddy']\n",
        "t1 = [s, s, s]\n",
        "print(s); print(t1)"
      ]
    },
    {
      "cell_type": "code",
      "execution_count": null,
      "metadata": {
        "id": "dgGj2XqmbTuF",
        "colab": {
          "base_uri": "https://localhost:8080/"
        },
        "outputId": "5df2b1a7-ccaa-4180-e8b4-4169c3978ef4"
      },
      "outputs": [
        {
          "output_type": "stream",
          "name": "stdout",
          "text": [
            "['Billy', 'Teddy']\n",
            "[['Billy', 'Teddy'], ['Billy', 'Teddy'], ['Billy', 'Teddy']]\n"
          ]
        }
      ],
      "source": [
        "t1[0][0] = 'Billy'\n",
        "print(s); print(t1) # (***)"
      ]
    },
    {
      "cell_type": "code",
      "execution_count": null,
      "metadata": {
        "id": "Ewx4a2FhbTuF",
        "colab": {
          "base_uri": "https://localhost:8080/"
        },
        "outputId": "9cece5c2-b910-4265-d1d0-daf08deda5f7"
      },
      "outputs": [
        {
          "output_type": "stream",
          "name": "stdout",
          "text": [
            "Cindy\n",
            "[['Billy', 'Teddy'], ['Billy', 'Teddy'], ['Billy', 'Teddy']]\n"
          ]
        }
      ],
      "source": [
        "s = 'Cindy'\n",
        "print(s); print(t1) # (***)"
      ]
    },
    {
      "cell_type": "code",
      "execution_count": null,
      "metadata": {
        "id": "qinGA7S-bTuF",
        "colab": {
          "base_uri": "https://localhost:8080/"
        },
        "outputId": "e01d869f-7c3d-469c-d577-6ed7dad316e4"
      },
      "outputs": [
        {
          "output_type": "stream",
          "name": "stdout",
          "text": [
            "['Bobby', 'Teddy']\n",
            "[['Bobby', 'Teddy'], ['Bobby', 'Teddy'], ['Bobby', 'Teddy']]\n"
          ]
        }
      ],
      "source": [
        "s = ['Bobby', 'Teddy']\n",
        "t2 = [s[:], s[:], s[:]] # With slicing\n",
        "print(s); print(t2)"
      ]
    },
    {
      "cell_type": "code",
      "execution_count": null,
      "metadata": {
        "id": "HgXvmIAZbTuG",
        "colab": {
          "base_uri": "https://localhost:8080/"
        },
        "outputId": "fa95c61c-42bb-4bda-da67-6b9766fef52d"
      },
      "outputs": [
        {
          "output_type": "stream",
          "name": "stdout",
          "text": [
            "['Bobby', 'Teddy']\n",
            "[['Billy', 'Teddy'], ['Bobby', 'Teddy'], ['Bobby', 'Teddy']]\n"
          ]
        }
      ],
      "source": [
        "t2[0][0] = 'Billy'\n",
        "print(s); print(t2) # (***)"
      ]
    },
    {
      "cell_type": "code",
      "execution_count": null,
      "metadata": {
        "id": "zwKqRFtJbTuG",
        "colab": {
          "base_uri": "https://localhost:8080/"
        },
        "outputId": "978d0844-64dc-4f34-88c6-578d6f543f6f"
      },
      "outputs": [
        {
          "output_type": "stream",
          "name": "stdout",
          "text": [
            "Cindy\n",
            "[['Billy', 'Teddy'], ['Bobby', 'Teddy'], ['Bobby', 'Teddy']]\n"
          ]
        }
      ],
      "source": [
        "s = 'Cindy'\n",
        "print(s); print(t2) # (***)"
      ]
    },
    {
      "cell_type": "markdown",
      "metadata": {
        "id": "yrPT0Vn8bTuG"
      },
      "source": [
        "Compare what you obtain at each line tagged with (`***`) and explain such a behavior. In `t1`, the list `s` is passed by *reference* and, in `t2`, the list `s` is passed by *value*. **You\n",
        "have to pay attention to how you handle your data in Python**.\n"
      ]
    },
    {
      "cell_type": "markdown",
      "metadata": {
        "id": "0WPbDDjcbTuG"
      },
      "source": [
        "#### Text sequence type"
      ]
    },
    {
      "cell_type": "markdown",
      "metadata": {
        "id": "EsrGgofbbTuG"
      },
      "source": [
        "Objects of type `str`, also called *strings*, are used to handle textual data. Strings are immutable sequences of Unicode code points. They can be surrounded by simple quotes `''`, double quotes `\"\"` or triple quoted with `'''` or `\"\"\"`. Triple quoted strings may span multiple lines."
      ]
    },
    {
      "cell_type": "code",
      "execution_count": null,
      "metadata": {
        "id": "UgLa-ks2bTuG",
        "colab": {
          "base_uri": "https://localhost:8080/"
        },
        "outputId": "3a2c3c35-4f72-4c6f-f805-7097d1346038"
      },
      "outputs": [
        {
          "output_type": "execute_result",
          "data": {
            "text/plain": [
              "str"
            ]
          },
          "metadata": {},
          "execution_count": 85
        }
      ],
      "source": [
        "s = 'Hello'; type(s)"
      ]
    },
    {
      "cell_type": "code",
      "execution_count": null,
      "metadata": {
        "id": "NR3Pj_p9bTuG",
        "colab": {
          "base_uri": "https://localhost:8080/"
        },
        "outputId": "e8c19892-5b94-4727-db85-8a48f2d20119"
      },
      "outputs": [
        {
          "output_type": "execute_result",
          "data": {
            "text/plain": [
              "str"
            ]
          },
          "metadata": {},
          "execution_count": 80
        }
      ],
      "source": [
        "s = \"Hello\"; type(s)"
      ]
    },
    {
      "cell_type": "code",
      "execution_count": null,
      "metadata": {
        "id": "Aqe3t1t-bTuG"
      },
      "outputs": [],
      "source": [
        "s_multi = '''A multiple lines string'''"
      ]
    },
    {
      "cell_type": "markdown",
      "metadata": {
        "id": "go8VTlTPbTuH"
      },
      "source": [
        "Strings are handled like other immutable sequences."
      ]
    },
    {
      "cell_type": "code",
      "execution_count": null,
      "metadata": {
        "id": "sgVYr70fbTuH",
        "colab": {
          "base_uri": "https://localhost:8080/",
          "height": 35
        },
        "outputId": "db68790c-6387-47b0-f499-1390db447d2a"
      },
      "outputs": [
        {
          "output_type": "execute_result",
          "data": {
            "text/plain": [
              "'l'"
            ],
            "application/vnd.google.colaboratory.intrinsic+json": {
              "type": "string"
            }
          },
          "metadata": {},
          "execution_count": 87
        }
      ],
      "source": [
        "s[2]"
      ]
    },
    {
      "cell_type": "code",
      "execution_count": null,
      "metadata": {
        "id": "cQrv5YuCbTuH",
        "colab": {
          "base_uri": "https://localhost:8080/",
          "height": 35
        },
        "outputId": "22f73de3-b67b-4fbd-f5af-80f1dd7deda1"
      },
      "outputs": [
        {
          "output_type": "execute_result",
          "data": {
            "text/plain": [
              "'el'"
            ],
            "application/vnd.google.colaboratory.intrinsic+json": {
              "type": "string"
            }
          },
          "metadata": {},
          "execution_count": 88
        }
      ],
      "source": [
        "s[1:3]"
      ]
    },
    {
      "cell_type": "code",
      "execution_count": null,
      "metadata": {
        "id": "A1XbBqeqbTuH",
        "colab": {
          "base_uri": "https://localhost:8080/",
          "height": 166
        },
        "outputId": "cdf4908c-6e5b-4ad1-e24a-eac69f555c16"
      },
      "outputs": [
        {
          "output_type": "error",
          "ename": "TypeError",
          "evalue": "ignored",
          "traceback": [
            "\u001b[0;31m---------------------------------------------------------------------------\u001b[0m",
            "\u001b[0;31mTypeError\u001b[0m                                 Traceback (most recent call last)",
            "\u001b[0;32m<ipython-input-86-e8f4857f475f>\u001b[0m in \u001b[0;36m<module>\u001b[0;34m\u001b[0m\n\u001b[0;32m----> 1\u001b[0;31m \u001b[0ms\u001b[0m\u001b[0;34m[\u001b[0m\u001b[0;36m0\u001b[0m\u001b[0;34m]\u001b[0m \u001b[0;34m=\u001b[0m \u001b[0;34m'h'\u001b[0m \u001b[0;31m# Error, strings are immutable\u001b[0m\u001b[0;34m\u001b[0m\u001b[0;34m\u001b[0m\u001b[0m\n\u001b[0m",
            "\u001b[0;31mTypeError\u001b[0m: 'str' object does not support item assignment"
          ]
        }
      ],
      "source": [
        "s[0] = 'h' # Error, strings are immutable"
      ]
    },
    {
      "cell_type": "code",
      "execution_count": null,
      "metadata": {
        "id": "MoQnHsQMbTuH",
        "colab": {
          "base_uri": "https://localhost:8080/",
          "height": 35
        },
        "outputId": "b321fc7b-cca3-4634-9481-5f418dc86bbf"
      },
      "outputs": [
        {
          "output_type": "execute_result",
          "data": {
            "text/plain": [
              "'HelloHello'"
            ],
            "application/vnd.google.colaboratory.intrinsic+json": {
              "type": "string"
            }
          },
          "metadata": {},
          "execution_count": 89
        }
      ],
      "source": [
        "s + s"
      ]
    },
    {
      "cell_type": "code",
      "execution_count": null,
      "metadata": {
        "id": "Lj25OjUVbTuH",
        "colab": {
          "base_uri": "https://localhost:8080/",
          "height": 35
        },
        "outputId": "160901fe-29c5-49a6-f0f3-3049498c7bb9"
      },
      "outputs": [
        {
          "output_type": "execute_result",
          "data": {
            "text/plain": [
              "'HelloHelloHello'"
            ],
            "application/vnd.google.colaboratory.intrinsic+json": {
              "type": "string"
            }
          },
          "metadata": {},
          "execution_count": 90
        }
      ],
      "source": [
        "s * 3"
      ]
    },
    {
      "cell_type": "markdown",
      "metadata": {
        "id": "SMKEoBBwbTuH"
      },
      "source": [
        "Common types can be casted to string."
      ]
    },
    {
      "cell_type": "markdown",
      "source": [],
      "metadata": {
        "id": "nSwoPStsrAzF"
      }
    },
    {
      "cell_type": "code",
      "execution_count": null,
      "metadata": {
        "id": "5EDX-ecNbTuI",
        "colab": {
          "base_uri": "https://localhost:8080/",
          "height": 35
        },
        "outputId": "050b3763-dc69-47fb-e0ef-02edb02abd6e"
      },
      "outputs": [
        {
          "output_type": "execute_result",
          "data": {
            "text/plain": [
              "'42'"
            ],
            "application/vnd.google.colaboratory.intrinsic+json": {
              "type": "string"
            }
          },
          "metadata": {},
          "execution_count": 91
        }
      ],
      "source": [
        "str(42)"
      ]
    },
    {
      "cell_type": "code",
      "execution_count": null,
      "metadata": {
        "id": "svx-MoTubTuI",
        "colab": {
          "base_uri": "https://localhost:8080/",
          "height": 35
        },
        "outputId": "5a1f7dbb-0058-465a-db0f-f34a239f69b3"
      },
      "outputs": [
        {
          "output_type": "execute_result",
          "data": {
            "text/plain": [
              "'[17, 8]'"
            ],
            "application/vnd.google.colaboratory.intrinsic+json": {
              "type": "string"
            }
          },
          "metadata": {},
          "execution_count": 92
        }
      ],
      "source": [
        "str([17, 8])"
      ]
    },
    {
      "cell_type": "markdown",
      "metadata": {
        "id": "CB5VkT_4bTuI"
      },
      "source": [
        "Type `str` provides a lot of operations to manipulate strings and it would be beyond the scope of this document to make an exhaustive review. For more details, you should refer to the [official documentation](https://docs.python.org/3.4/library/string.html). Hereafter, we give examples of some of the most useful operations with strings."
      ]
    },
    {
      "cell_type": "code",
      "execution_count": null,
      "metadata": {
        "id": "lGS0ZbJ2bTuI",
        "colab": {
          "base_uri": "https://localhost:8080/"
        },
        "outputId": "2deebc5e-6c4b-4dd1-d015-4864e9c0dad1"
      },
      "outputs": [
        {
          "output_type": "execute_result",
          "data": {
            "text/plain": [
              "False"
            ]
          },
          "metadata": {},
          "execution_count": 26
        }
      ],
      "source": [
        "s = 'Hello, Python charmers! How are you?'\n",
        "s.startswith('Hello')\n",
        "str.isdigit(s)"
      ]
    },
    {
      "cell_type": "code",
      "execution_count": null,
      "metadata": {
        "id": "Ni0wa8ukbTuI",
        "colab": {
          "base_uri": "https://localhost:8080/"
        },
        "outputId": "6841c7a7-cf23-4ff3-ed00-8d8f4a8c9a62"
      },
      "outputs": [
        {
          "output_type": "execute_result",
          "data": {
            "text/plain": [
              "False"
            ]
          },
          "metadata": {},
          "execution_count": 94
        }
      ],
      "source": [
        "s.endswith('you')"
      ]
    },
    {
      "cell_type": "code",
      "execution_count": null,
      "metadata": {
        "id": "gV6XSlNlbTuI",
        "colab": {
          "base_uri": "https://localhost:8080/"
        },
        "outputId": "2116c6b4-0e8e-498c-e8a1-12f7818aade7"
      },
      "outputs": [
        {
          "output_type": "execute_result",
          "data": {
            "text/plain": [
              "7"
            ]
          },
          "metadata": {},
          "execution_count": 95
        }
      ],
      "source": [
        "s.find('Python') # Get the first occurence"
      ]
    },
    {
      "cell_type": "code",
      "execution_count": null,
      "metadata": {
        "id": "UmYS8_TLbTuI",
        "colab": {
          "base_uri": "https://localhost:8080/"
        },
        "outputId": "42d9b47f-bfc3-4c69-c7d1-a65ac9719b21"
      },
      "outputs": [
        {
          "output_type": "execute_result",
          "data": {
            "text/plain": [
              "2"
            ]
          },
          "metadata": {},
          "execution_count": 96
        }
      ],
      "source": [
        "s.count('ar')"
      ]
    },
    {
      "cell_type": "code",
      "execution_count": null,
      "metadata": {
        "id": "nXOlNApbbTuJ",
        "colab": {
          "base_uri": "https://localhost:8080/"
        },
        "outputId": "4348958f-6588-4c27-8fc7-05061e64805a"
      },
      "outputs": [
        {
          "output_type": "execute_result",
          "data": {
            "text/plain": [
              "['Hello,', 'Python', 'charmers!', 'How', 'are', 'you?']"
            ]
          },
          "metadata": {},
          "execution_count": 27
        }
      ],
      "source": [
        "s.split() # Split s on spaces"
      ]
    },
    {
      "cell_type": "code",
      "execution_count": null,
      "metadata": {
        "id": "BZs0MfuKbTuJ",
        "colab": {
          "base_uri": "https://localhost:8080/"
        },
        "outputId": "881d425a-e29c-4b85-d18d-220462f6cdba"
      },
      "outputs": [
        {
          "output_type": "execute_result",
          "data": {
            "text/plain": [
              "['Hello, Python ch', 'mers! How ', 'e you?']"
            ]
          },
          "metadata": {},
          "execution_count": 28
        }
      ],
      "source": [
        "s.split('ar') # Split s on occurences of 'ar'"
      ]
    },
    {
      "cell_type": "code",
      "execution_count": null,
      "metadata": {
        "id": "0MWsIy47bTuJ",
        "colab": {
          "base_uri": "https://localhost:8080/"
        },
        "outputId": "d913f427-b7d9-4430-a4a8-349058990d28"
      },
      "outputs": [
        {
          "output_type": "execute_result",
          "data": {
            "text/plain": [
              "('Hello, Python charmers! ', 'How', ' are you?')"
            ]
          },
          "metadata": {},
          "execution_count": 29
        }
      ],
      "source": [
        "s.partition('How')"
      ]
    },
    {
      "cell_type": "code",
      "execution_count": null,
      "metadata": {
        "id": "sTKf2qJkbTuJ",
        "colab": {
          "base_uri": "https://localhost:8080/",
          "height": 36
        },
        "outputId": "7671cee0-1d64-42d5-e14f-c64a6743c797"
      },
      "outputs": [
        {
          "output_type": "execute_result",
          "data": {
            "text/plain": [
              "'Good morning, Python charmers! How are you?'"
            ],
            "application/vnd.google.colaboratory.intrinsic+json": {
              "type": "string"
            }
          },
          "metadata": {},
          "execution_count": 30
        }
      ],
      "source": [
        "s.replace('Hello', 'Good morning')"
      ]
    },
    {
      "cell_type": "code",
      "execution_count": null,
      "metadata": {
        "id": "eFB1NAhwbTuJ",
        "colab": {
          "base_uri": "https://localhost:8080/",
          "height": 35
        },
        "outputId": "c15948b4-95e0-40b8-962d-2b18fb309afd"
      },
      "outputs": [
        {
          "output_type": "execute_result",
          "data": {
            "text/plain": [
              "'Python is fun!'"
            ],
            "application/vnd.google.colaboratory.intrinsic+json": {
              "type": "string"
            }
          },
          "metadata": {},
          "execution_count": 100
        }
      ],
      "source": [
        "' '.join(['Python', 'is', 'fun!']) # Initial string is the separator"
      ]
    },
    {
      "cell_type": "code",
      "execution_count": null,
      "metadata": {
        "id": "Lx46Zq0UbTuK",
        "colab": {
          "base_uri": "https://localhost:8080/",
          "height": 35
        },
        "outputId": "8a1a990b-a36a-4d50-a589-e111db629487"
      },
      "outputs": [
        {
          "output_type": "execute_result",
          "data": {
            "text/plain": [
              "'Hey!'"
            ],
            "application/vnd.google.colaboratory.intrinsic+json": {
              "type": "string"
            }
          },
          "metadata": {},
          "execution_count": 101
        }
      ],
      "source": [
        "' Hey! '.strip() # Remove trailing spaces"
      ]
    },
    {
      "cell_type": "markdown",
      "metadata": {
        "id": "nIny_X4MbTuK"
      },
      "source": [
        "String formatting."
      ]
    },
    {
      "cell_type": "code",
      "execution_count": null,
      "metadata": {
        "id": "J7rroBQgbTuK",
        "colab": {
          "base_uri": "https://localhost:8080/",
          "height": 35
        },
        "outputId": "8726c8e0-8f3c-4fe0-d4db-561e805c594e"
      },
      "outputs": [
        {
          "output_type": "execute_result",
          "data": {
            "text/plain": [
              "'The sum of 1 + 10 is 11'"
            ],
            "application/vnd.google.colaboratory.intrinsic+json": {
              "type": "string"
            }
          },
          "metadata": {},
          "execution_count": 104
        }
      ],
      "source": [
        "f'The sum of 1 + 10 is {1 + 2*5}'"
      ]
    },
    {
      "cell_type": "code",
      "execution_count": null,
      "metadata": {
        "id": "RqHzoorGbTuK"
      },
      "outputs": [],
      "source": [
        "f'The sum of 1 + 2 is {1 + 2} and the product 1 * 2 is {1 * 2}'"
      ]
    },
    {
      "cell_type": "code",
      "execution_count": null,
      "metadata": {
        "id": "vTiN38WwbTuK"
      },
      "outputs": [],
      "source": [
        "first = 'John'\n",
        "last = 'Doe'\n",
        "f'Name: {first} {last}'"
      ]
    },
    {
      "cell_type": "markdown",
      "metadata": {
        "id": "kU5L_e6IbTuK"
      },
      "source": [
        "**Questions?**\n",
        "\n",
        "- How to test if the content of a string is a number? Use str.isdigit\n",
        "- How to find the last occurence of a substring in a string? "
      ]
    },
    {
      "cell_type": "code",
      "source": [
        "a='5'\n",
        "str.isdigit(a)"
      ],
      "metadata": {
        "colab": {
          "base_uri": "https://localhost:8080/"
        },
        "id": "2-GSkV1Pf-1t",
        "outputId": "f94a9ae4-3e0a-4b28-c7e0-e5eea64db43b"
      },
      "execution_count": null,
      "outputs": [
        {
          "output_type": "execute_result",
          "data": {
            "text/plain": [
              "True"
            ]
          },
          "metadata": {},
          "execution_count": 31
        }
      ]
    },
    {
      "cell_type": "markdown",
      "metadata": {
        "id": "4T7zRKy_bTuK"
      },
      "source": [
        "#### Mapping types"
      ]
    },
    {
      "cell_type": "markdown",
      "metadata": {
        "id": "CnGsd5HTbTuL"
      },
      "source": [
        "Python provides only one mapping type, the *dictionaries*. Such objects are mutable and offer\n",
        "a map between (quite common) values to arbitrary objects. To handle dictionaries, we use a\n",
        "syntax similar to the lists."
      ]
    },
    {
      "cell_type": "code",
      "execution_count": null,
      "metadata": {
        "id": "CmfoI4gXbTuL",
        "colab": {
          "base_uri": "https://localhost:8080/"
        },
        "outputId": "11a85a51-4972-4f02-f99f-13671ba9d13a"
      },
      "outputs": [
        {
          "output_type": "execute_result",
          "data": {
            "text/plain": [
              "dict"
            ]
          },
          "metadata": {},
          "execution_count": 32
        }
      ],
      "source": [
        "# Simple dictionary creation\n",
        "a = {'one': 1, 'two': 2, 'three': 3}; type(a)"
      ]
    },
    {
      "cell_type": "code",
      "execution_count": null,
      "metadata": {
        "id": "LQrwC3ORbTuL",
        "colab": {
          "base_uri": "https://localhost:8080/"
        },
        "outputId": "813f5b18-e8bf-4092-cee5-0817e1d57fce"
      },
      "outputs": [
        {
          "output_type": "execute_result",
          "data": {
            "text/plain": [
              "dict_keys(['one', 'two', 'three'])"
            ]
          },
          "metadata": {},
          "execution_count": 108
        }
      ],
      "source": [
        "# Useful zip function\n",
        "b = dict(zip(['one', 'two', 'three'], [1, 2, 3]))\n",
        "b.keys() # Get the keys"
      ]
    },
    {
      "cell_type": "code",
      "execution_count": null,
      "metadata": {
        "id": "BGH0kc3VbTuL",
        "colab": {
          "base_uri": "https://localhost:8080/"
        },
        "outputId": "66525390-3dff-49b8-824b-e2ce296e4d8f"
      },
      "outputs": [
        {
          "output_type": "execute_result",
          "data": {
            "text/plain": [
              "dict_values([])"
            ]
          },
          "metadata": {},
          "execution_count": 120
        }
      ],
      "source": [
        "b.values() # Get the values"
      ]
    },
    {
      "cell_type": "code",
      "execution_count": null,
      "metadata": {
        "id": "SCltgi4CbTuL",
        "colab": {
          "base_uri": "https://localhost:8080/"
        },
        "outputId": "e44c5685-0248-4236-b221-d9392d140a79"
      },
      "outputs": [
        {
          "output_type": "execute_result",
          "data": {
            "text/plain": [
              "True"
            ]
          },
          "metadata": {},
          "execution_count": 110
        }
      ],
      "source": [
        "# These dictionaries are equal\n",
        "a == b"
      ]
    },
    {
      "cell_type": "markdown",
      "metadata": {
        "id": "K52P-oLQbTuL"
      },
      "source": [
        "Similar to mutable objects."
      ]
    },
    {
      "cell_type": "code",
      "execution_count": null,
      "metadata": {
        "id": "QCTW-4XjbTuL",
        "colab": {
          "base_uri": "https://localhost:8080/"
        },
        "outputId": "d40faa94-53f0-4f67-dfdc-58d49a8d56c9"
      },
      "outputs": [
        {
          "output_type": "execute_result",
          "data": {
            "text/plain": [
              "1"
            ]
          },
          "metadata": {},
          "execution_count": 121
        }
      ],
      "source": [
        "len(a)"
      ]
    },
    {
      "cell_type": "code",
      "execution_count": null,
      "metadata": {
        "id": "KyFqvE-ybTuL",
        "colab": {
          "base_uri": "https://localhost:8080/"
        },
        "outputId": "e9d6a702-e0d5-4437-b45f-b452ae960562"
      },
      "outputs": [
        {
          "output_type": "execute_result",
          "data": {
            "text/plain": [
              "2"
            ]
          },
          "metadata": {},
          "execution_count": 33
        }
      ],
      "source": [
        "a['two']"
      ]
    },
    {
      "cell_type": "code",
      "execution_count": null,
      "metadata": {
        "id": "YlC3O9b-bTuM"
      },
      "outputs": [],
      "source": [
        "a['three'] = 33\n",
        "a['four'] = 4 # Append on the fly"
      ]
    },
    {
      "cell_type": "code",
      "execution_count": null,
      "metadata": {
        "id": "XjC-kgTxbTuM"
      },
      "outputs": [],
      "source": [
        "b.clear() # Remove all items"
      ]
    },
    {
      "cell_type": "markdown",
      "metadata": {
        "id": "kwzwv2y0bTuM"
      },
      "source": [
        "Playing with keys."
      ]
    },
    {
      "cell_type": "code",
      "execution_count": null,
      "metadata": {
        "id": "WA5BYDmvbTuM",
        "colab": {
          "base_uri": "https://localhost:8080/"
        },
        "outputId": "fa70f7cc-0fe9-4719-f4eb-1241e3f3398a"
      },
      "outputs": [
        {
          "output_type": "execute_result",
          "data": {
            "text/plain": [
              "False"
            ]
          },
          "metadata": {},
          "execution_count": 128
        }
      ],
      "source": [
        "1 in a"
      ]
    },
    {
      "cell_type": "code",
      "execution_count": null,
      "metadata": {
        "id": "-ixfSO9cbTuM",
        "colab": {
          "base_uri": "https://localhost:8080/"
        },
        "outputId": "e1a829bd-9717-422b-9cf7-520abbb832fa"
      },
      "outputs": [
        {
          "output_type": "execute_result",
          "data": {
            "text/plain": [
              "True"
            ]
          },
          "metadata": {},
          "execution_count": 129
        }
      ],
      "source": [
        "'one' in a"
      ]
    },
    {
      "cell_type": "code",
      "execution_count": null,
      "metadata": {
        "id": "p6xA7MqZbTuM",
        "colab": {
          "base_uri": "https://localhost:8080/",
          "height": 166
        },
        "outputId": "9c99faa8-3e04-4fa5-a96f-9fa77f2e8116"
      },
      "outputs": [
        {
          "output_type": "error",
          "ename": "KeyError",
          "evalue": "ignored",
          "traceback": [
            "\u001b[0;31m---------------------------------------------------------------------------\u001b[0m",
            "\u001b[0;31mKeyError\u001b[0m                                  Traceback (most recent call last)",
            "\u001b[0;32m<ipython-input-130-50cb27402f77>\u001b[0m in \u001b[0;36m<module>\u001b[0;34m\u001b[0m\n\u001b[0;32m----> 1\u001b[0;31m \u001b[0ma\u001b[0m\u001b[0;34m[\u001b[0m\u001b[0;34m'five'\u001b[0m\u001b[0;34m]\u001b[0m \u001b[0;31m# Error, the key doesn't exist\u001b[0m\u001b[0;34m\u001b[0m\u001b[0;34m\u001b[0m\u001b[0m\n\u001b[0m",
            "\u001b[0;31mKeyError\u001b[0m: 'five'"
          ]
        }
      ],
      "source": [
        "a['five'] # Error, the key doesn't exist"
      ]
    },
    {
      "cell_type": "code",
      "execution_count": null,
      "metadata": {
        "id": "bhBsevuubTuM",
        "colab": {
          "base_uri": "https://localhost:8080/",
          "height": 35
        },
        "outputId": "ec67d6d8-3a09-4ed6-9057-0cb71dfa7e58"
      },
      "outputs": [
        {
          "output_type": "execute_result",
          "data": {
            "text/plain": [
              "'Default value'"
            ],
            "application/vnd.google.colaboratory.intrinsic+json": {
              "type": "string"
            }
          },
          "metadata": {},
          "execution_count": 131
        }
      ],
      "source": [
        "a.get('five', 'Default value') # Safer..."
      ]
    },
    {
      "cell_type": "markdown",
      "metadata": {
        "id": "v2iXFVLBbTuN"
      },
      "source": [
        "Nice with tuples."
      ]
    },
    {
      "cell_type": "code",
      "execution_count": null,
      "metadata": {
        "id": "cI-85K_qbTuN",
        "colab": {
          "base_uri": "https://localhost:8080/"
        },
        "outputId": "feb13334-a556-4677-8b67-3a7f3457b674"
      },
      "outputs": [
        {
          "output_type": "execute_result",
          "data": {
            "text/plain": [
              "{(1, 3): 'Player', (2, 6): 'Bomb'}"
            ]
          },
          "metadata": {},
          "execution_count": 132
        }
      ],
      "source": [
        "grid = dict() # Empty dictionary\n",
        "grid[1, 3] = 'Player'\n",
        "grid[2, 6] = 'Bomb'\n",
        "grid"
      ]
    },
    {
      "cell_type": "markdown",
      "metadata": {
        "id": "Expfn6vobTuN"
      },
      "source": [
        "#### Other types"
      ]
    },
    {
      "cell_type": "markdown",
      "metadata": {
        "id": "CTXD4B4HbTuN"
      },
      "source": [
        "There also exist some special types that play specific roles in Python. Among them, we should mention `None` for the null object and `NotImplemented` which could be returned when some operation is not supported. These types have to be handled with `is` and `is not` operators.\n",
        "\n",
        "We just introduced the more commonn types in Python. The interested reader will find a lot of additional informations in the [official documentation](https://docs.python.org/3.4/library/stdtypes.html)."
      ]
    },
    {
      "cell_type": "markdown",
      "metadata": {
        "id": "Ev_AYpkHbTuN"
      },
      "source": [
        "### Conditionals"
      ]
    },
    {
      "cell_type": "markdown",
      "metadata": {
        "id": "QMPi5E3EbTuN"
      },
      "source": [
        "We use the word *conditional* for code that is run according to some boolean value. Such a\n",
        "thing is based on a `if` statement:"
      ]
    },
    {
      "cell_type": "code",
      "execution_count": null,
      "metadata": {
        "id": "yEZ4oJ42bTuN",
        "colab": {
          "base_uri": "https://localhost:8080/"
        },
        "outputId": "ed622dd1-ae3e-439e-a2c7-e0d270f21a04"
      },
      "outputs": [
        {
          "output_type": "stream",
          "name": "stdout",
          "text": [
            "a is positive\n"
          ]
        }
      ],
      "source": [
        "a = 17\n",
        "if a > 5:\n",
        "    print('a is positive')"
      ]
    },
    {
      "cell_type": "markdown",
      "metadata": {
        "id": "nvHIO7VzbTuN"
      },
      "source": [
        "**It is *crucial* to understand how this piece of code is structured. The `if` statement ends with the character `:` and the next line has to start with some spaces. If the condition is true, this line is run. If the condition is false, the line is ignored and the run continues. You can choose the number of spaces at the beginning of the line but it has to be strictly positive. These spaces delimit the bunch of code to run if the condition is true and their number must remain the same along all the line of the conditional block.**"
      ]
    },
    {
      "cell_type": "code",
      "execution_count": null,
      "metadata": {
        "id": "XjaJ4y7WbTuN",
        "colab": {
          "base_uri": "https://localhost:8080/",
          "height": 131
        },
        "outputId": "dc41a17f-e615-4339-cb1a-814a30fb52e7"
      },
      "outputs": [
        {
          "output_type": "error",
          "ename": "IndentationError",
          "evalue": "ignored",
          "traceback": [
            "\u001b[0;36m  File \u001b[0;32m\"<ipython-input-134-bd5a65c2871d>\"\u001b[0;36m, line \u001b[0;32m3\u001b[0m\n\u001b[0;31m    print('a is positive') # Error, no space\u001b[0m\n\u001b[0m        ^\u001b[0m\n\u001b[0;31mIndentationError\u001b[0m\u001b[0;31m:\u001b[0m expected an indented block\n"
          ]
        }
      ],
      "source": [
        "a = 17\n",
        "if a > 0:\n",
        "print('a is positive') # Error, no space"
      ]
    },
    {
      "cell_type": "code",
      "execution_count": null,
      "metadata": {
        "id": "wkiWwh8tbTuO",
        "colab": {
          "base_uri": "https://localhost:8080/"
        },
        "outputId": "6d5bb739-f962-46b3-a146-08aa1f61c9b8"
      },
      "outputs": [
        {
          "output_type": "stream",
          "name": "stdout",
          "text": [
            "a is positive\n",
            "Yeah!\n"
          ]
        }
      ],
      "source": [
        "a = 17\n",
        "if a > 0:\n",
        "    print('a is positive')\n",
        "    print('Yeah!') # In the conditional block"
      ]
    },
    {
      "cell_type": "code",
      "execution_count": null,
      "metadata": {
        "id": "z2pUMXQrbTuO",
        "colab": {
          "base_uri": "https://localhost:8080/"
        },
        "outputId": "2146b011-0cec-4c93-a77c-0c573ec52aee"
      },
      "outputs": [
        {
          "output_type": "stream",
          "name": "stdout",
          "text": [
            "Yeah!\n"
          ]
        }
      ],
      "source": [
        "a = -42\n",
        "if a > 0:\n",
        "    print('a is positive')\n",
        "print('Yeah!') # Out of conditional block"
      ]
    },
    {
      "cell_type": "code",
      "execution_count": null,
      "metadata": {
        "id": "WvTV5cyobTuO",
        "colab": {
          "base_uri": "https://localhost:8080/",
          "height": 131
        },
        "outputId": "13d34076-32fb-4081-9451-5070471ae055"
      },
      "outputs": [
        {
          "output_type": "error",
          "ename": "IndentationError",
          "evalue": "ignored",
          "traceback": [
            "\u001b[0;36m  File \u001b[0;32m\"<tokenize>\"\u001b[0;36m, line \u001b[0;32m4\u001b[0m\n\u001b[0;31m    print('Yeah!') # Error, incorrect number of spaces\u001b[0m\n\u001b[0m    ^\u001b[0m\n\u001b[0;31mIndentationError\u001b[0m\u001b[0;31m:\u001b[0m unindent does not match any outer indentation level\n"
          ]
        }
      ],
      "source": [
        "a = 17\n",
        "if a > 0:\n",
        "    print('a is positive')\n",
        " print('Yeah!') # Error, incorrect number of spaces"
      ]
    },
    {
      "cell_type": "markdown",
      "metadata": {
        "id": "p0pWkujdbTuO"
      },
      "source": [
        "**All instruction blocks in Python have to follow these rules! Let your IDE help you!**"
      ]
    },
    {
      "cell_type": "markdown",
      "metadata": {
        "id": "RUjScUlYbTuO"
      },
      "source": [
        "Now, we know how to write an instruction block, we can construct richer conditionals by running some block if the condition is true and an other block otherwise. Such a structure is known as a `if ... else` statement."
      ]
    },
    {
      "cell_type": "code",
      "execution_count": null,
      "metadata": {
        "id": "AgkP8XA6bTuO",
        "colab": {
          "base_uri": "https://localhost:8080/"
        },
        "outputId": "7b1fddc3-7e4d-446f-b81c-5e395e2da0a2"
      },
      "outputs": [
        {
          "output_type": "stream",
          "name": "stdout",
          "text": [
            "Condition is false\n",
            "a is nonpositive\n"
          ]
        }
      ],
      "source": [
        "a = -9\n",
        "if a > 0:\n",
        "    print('Condition is true')\n",
        "    print('a is positive')\n",
        "else:\n",
        "    print('Condition is false')\n",
        "    print('a is nonpositive')"
      ]
    },
    {
      "cell_type": "markdown",
      "metadata": {
        "id": "Kw3otSX_bTuP"
      },
      "source": [
        "Quite often, we use a conditional to give a value to a variable according to some condition:"
      ]
    },
    {
      "cell_type": "code",
      "execution_count": null,
      "metadata": {
        "id": "kbHZ9gdEbTuP",
        "colab": {
          "base_uri": "https://localhost:8080/"
        },
        "outputId": "4518387f-db2f-40db-b4b1-e16c592d5a74"
      },
      "outputs": [
        {
          "output_type": "stream",
          "name": "stdout",
          "text": [
            "Odd number\n"
          ]
        }
      ],
      "source": [
        "a = 39\n",
        "if a % 2 == 1:\n",
        "    val = 'Odd number'\n",
        "else:\n",
        "    val = 'Even number'\n",
        "\n",
        "print(val)    "
      ]
    },
    {
      "cell_type": "markdown",
      "metadata": {
        "id": "BhFKRuvlbTuP"
      },
      "source": [
        "Such a code is a bit long and to reduce its size, Python offers *inline conditionals* (also called *ternaries*):"
      ]
    },
    {
      "cell_type": "code",
      "execution_count": null,
      "metadata": {
        "id": "60Vo43gEbTuP",
        "colab": {
          "base_uri": "https://localhost:8080/"
        },
        "outputId": "9ca27f95-9a7a-41d9-997a-9c369bc02485"
      },
      "outputs": [
        {
          "output_type": "stream",
          "name": "stdout",
          "text": [
            "Even number\n"
          ]
        }
      ],
      "source": [
        "# This example is equivalent to the previous one\n",
        "a = 42\n",
        "val = 'Odd number' if a % 2 == 1 else 'Even number'\n",
        "print(val)"
      ]
    },
    {
      "cell_type": "markdown",
      "metadata": {
        "id": "emiseFL0bTuP"
      },
      "source": [
        "An `if ... else` statement is adapted to test a single condition but it becomes less easy\n",
        "when multiple nested conditions are needed:"
      ]
    },
    {
      "cell_type": "code",
      "execution_count": null,
      "metadata": {
        "id": "YqzLNxTzbTuP",
        "colab": {
          "base_uri": "https://localhost:8080/"
        },
        "outputId": "12776a5e-d0af-4cc1-bb98-992e4da25378"
      },
      "outputs": [
        {
          "output_type": "stream",
          "name": "stdout",
          "text": [
            "The remainder of 17 by 3 is 2\n"
          ]
        }
      ],
      "source": [
        "a = 17\n",
        "mod3 = a % 3\n",
        "\n",
        "if mod3 == 0:\n",
        "    print('We can divide {} by 3'.format(a))\n",
        "else:\n",
        "    if mod3 == 1:\n",
        "        print('The remainder of {} by 3 is 1'.format(a))\n",
        "    else:\n",
        "        if mod3 == 2:\n",
        "            print('The remainder of {} by 3 is 2'.format(a))\n",
        "        else:\n",
        "            print('This eventuality should be impossible')"
      ]
    },
    {
      "cell_type": "markdown",
      "metadata": {
        "id": "f6QeJqvpbTuP"
      },
      "source": [
        "To produce a code easier to read and test the various conditions one by one, we can deal with\n",
        "a `if ... elif ... else` statement. So, the previous example can elegantly be rewritten as\n",
        "follows:"
      ]
    },
    {
      "cell_type": "code",
      "execution_count": null,
      "metadata": {
        "id": "JMWZ2fuDbTuQ",
        "colab": {
          "base_uri": "https://localhost:8080/"
        },
        "outputId": "596ab4c6-7842-43c4-f13d-642c3096c78e"
      },
      "outputs": [
        {
          "output_type": "stream",
          "name": "stdout",
          "text": [
            "We can divide 18 by 3\n"
          ]
        }
      ],
      "source": [
        "a = 18\n",
        "mod3 = a % 3\n",
        "\n",
        "if mod3 == 0:\n",
        "    print('We can divide {} by 3'.format(a))\n",
        "elif mod3 == 1:\n",
        "    print('The remainder of {} by 3 is 1'.format(a))\n",
        "elif mod3 == 2:\n",
        "    print('The remainder of {} by 3 is 2'.format(a))\n",
        "else:\n",
        "    print('This eventuality should be impossible')"
      ]
    },
    {
      "cell_type": "code",
      "source": [
        "v=['Hello']\n",
        "if isinstance(v, type(None)) == True:\n",
        "    print('{} is none'.format(v))\n",
        "else:\n",
        "    print('{} is not null'.format(v))"
      ],
      "metadata": {
        "colab": {
          "base_uri": "https://localhost:8080/"
        },
        "id": "rCMr_RsgwbOo",
        "outputId": "5e5a6f9b-71a6-4168-8064-caec6d73820e"
      },
      "execution_count": null,
      "outputs": [
        {
          "output_type": "stream",
          "name": "stdout",
          "text": [
            "['Hello'] is not null\n"
          ]
        }
      ]
    },
    {
      "cell_type": "markdown",
      "metadata": {
        "id": "epHGKgOcbTuQ"
      },
      "source": [
        "**Questions**\n",
        "\n",
        "- Being given some variable `v`, write a conditional to test if `v `is `None` or not.\n",
        "- Being given two strings `s1` and `s2`, write a conditional to test if they have the same length.\n",
        "- For some numeric value `v`, write a `if ... elif ... else` statement that prints different messages according to the positivity, nullity or negativity of `v`."
      ]
    },
    {
      "cell_type": "markdown",
      "metadata": {
        "id": "pFqCm2USbTuQ"
      },
      "source": [
        "### Loops"
      ]
    },
    {
      "cell_type": "markdown",
      "metadata": {
        "id": "atlKp9SCbTuQ"
      },
      "source": [
        "Looping means repeating a bunch of code until some condition becomes false. The first statement to do it with Python is based on `while`. Such a loop starts with `while` and a condition and repeats the following block of code while this condition is true (potentially *ad nauseam* if the condition never change):"
      ]
    },
    {
      "cell_type": "code",
      "execution_count": null,
      "metadata": {
        "id": "sTSODg1_bTuQ",
        "colab": {
          "base_uri": "https://localhost:8080/"
        },
        "outputId": "72618c4f-a082-4ec5-de79-5ab52b2f6687"
      },
      "outputs": [
        {
          "output_type": "stream",
          "name": "stdout",
          "text": [
            "5\n",
            "16\n",
            "8\n",
            "4\n",
            "2\n",
            "1\n"
          ]
        }
      ],
      "source": [
        "# Syracuse Sequence\n",
        "u = 5; print(u)\n",
        "while u != 1:\n",
        "    u = u // 2 if u % 2 == 0 else 3*u + 1\n",
        "    print(u)"
      ]
    },
    {
      "cell_type": "code",
      "execution_count": null,
      "metadata": {
        "id": "ocn0RfvcbTuQ",
        "colab": {
          "base_uri": "https://localhost:8080/"
        },
        "outputId": "3c541202-e34e-46e9-e929-e14f8b4b729c"
      },
      "outputs": [
        {
          "output_type": "stream",
          "name": "stdout",
          "text": [
            "0 #####\n",
            "1 #####\n",
            "2 #####\n",
            "3 #####\n",
            "4 #####\n",
            "5 #####\n",
            "6 #####\n",
            "7 #####\n"
          ]
        }
      ],
      "source": [
        "# Square\n",
        "n = 0\n",
        "while n < 8:\n",
        "    print(n, '#' * 5)\n",
        "    n += 1 #n=n+1"
      ]
    },
    {
      "cell_type": "markdown",
      "metadata": {
        "id": "FboVOVeNbTuQ"
      },
      "source": [
        "The second example corresponds to a so common loop and there is a specific statement for that. Indeed, `n` is initialized to `0` and while `n` still not reach the value `8`, we increment it by one and n takes all the values `0, 1, ... , 8`. This loop can be summarized with a `for` statement:"
      ]
    },
    {
      "cell_type": "code",
      "execution_count": null,
      "metadata": {
        "id": "C2HohofDbTuQ",
        "colab": {
          "base_uri": "https://localhost:8080/"
        },
        "outputId": "897889fa-c7da-4f49-bce9-6bef9a31cf08"
      },
      "outputs": [
        {
          "output_type": "stream",
          "name": "stdout",
          "text": [
            "0 ########\n",
            "1 ########\n",
            "2 ########\n",
            "3 ########\n",
            "4 ########\n",
            "5 ########\n",
            "6 ########\n",
            "7 ########\n",
            "8 ########\n",
            "9 ########\n"
          ]
        }
      ],
      "source": [
        "# Equivalent to previous 'Square' example\n",
        "for n in range(10):\n",
        "    print(n, '#' * 8)"
      ]
    },
    {
      "cell_type": "code",
      "execution_count": null,
      "metadata": {
        "id": "WDXhQRIcbTuR",
        "colab": {
          "base_uri": "https://localhost:8080/"
        },
        "outputId": "21a9edcb-89b2-44e4-902b-478e364ae270"
      },
      "outputs": [
        {
          "output_type": "stream",
          "name": "stdout",
          "text": [
            "***\n",
            "* *\n",
            "***\n",
            "\n",
            "* *\n",
            " * \n",
            "* *\n",
            "\n",
            "***\n",
            "* *\n",
            "***\n",
            "\n",
            "* *\n",
            " * \n",
            "* *\n",
            "\n",
            "***\n",
            "* *\n",
            "***\n",
            "\n",
            "* *\n",
            " * \n",
            "* *\n",
            "\n"
          ]
        }
      ],
      "source": [
        "# Useful to browse a sequence from indices\n",
        "t = ('', '***', '* *', ' * ')\n",
        "for i in (1, 2, 1, 0, 2, 3, 2, 0) * 3:\n",
        "    print(t[i])"
      ]
    },
    {
      "cell_type": "markdown",
      "metadata": {
        "id": "iaao9g0XbTuR"
      },
      "source": [
        "Actually, a `for` statement can be used with a lot of objects, called *iterables*, to browse one\n",
        "by one all their items. Among the iterable objects (see further for other examples), we have\n",
        "already introduced some sequence types:"
      ]
    },
    {
      "cell_type": "code",
      "execution_count": null,
      "metadata": {
        "id": "A1wXgiHrbTuR",
        "colab": {
          "base_uri": "https://localhost:8080/"
        },
        "outputId": "794eb377-0120-4b31-c0f3-b29c7fb68bcd"
      },
      "outputs": [
        {
          "output_type": "stream",
          "name": "stdout",
          "text": [
            "I\n",
            "am\n",
            "a\n",
            "tuple\n"
          ]
        }
      ],
      "source": [
        "# With a tuple\n",
        "t = ('I', 'am', 'a', 'tuple')\n",
        "for item in t:\n",
        "    print(item)"
      ]
    },
    {
      "cell_type": "code",
      "execution_count": null,
      "metadata": {
        "id": "iL1rWdU7bTuR",
        "colab": {
          "base_uri": "https://localhost:8080/"
        },
        "outputId": "8b70aa4f-5802-4369-d8fb-228bfc304f2c"
      },
      "outputs": [
        {
          "output_type": "stream",
          "name": "stdout",
          "text": [
            "I\n",
            "am\n",
            "a\n",
            "list\n"
          ]
        }
      ],
      "source": [
        "# With a list\n",
        "l = ['I', 'am', 'a', 'list']\n",
        "for item in l:\n",
        "    print(item)"
      ]
    },
    {
      "cell_type": "code",
      "execution_count": null,
      "metadata": {
        "id": "Epugraq-bTuR",
        "colab": {
          "base_uri": "https://localhost:8080/"
        },
        "outputId": "9b4c52e4-961c-423a-8b41-300ea96e4bb7"
      },
      "outputs": [
        {
          "output_type": "stream",
          "name": "stdout",
          "text": [
            "2\n",
            "5\n",
            "8\n"
          ]
        }
      ],
      "source": [
        "# With a range\n",
        "for i in range(2, 10, 3):\n",
        "    print(i)"
      ]
    },
    {
      "cell_type": "code",
      "execution_count": null,
      "metadata": {
        "id": "VOxi0uwsbTuR",
        "colab": {
          "base_uri": "https://localhost:8080/"
        },
        "outputId": "38fc2258-54eb-4026-d81c-d6e1a3688ae2"
      },
      "outputs": [
        {
          "output_type": "stream",
          "name": "stdout",
          "text": [
            "H\n",
            "o\n",
            "w\n",
            " \n",
            "a\n",
            "r\n",
            "e\n",
            " \n",
            "y\n",
            "o\n",
            "u\n",
            ",\n",
            " \n",
            "P\n",
            "y\n",
            "t\n",
            "h\n",
            "o\n",
            "n\n",
            "i\n",
            "s\n",
            "t\n",
            "a\n",
            "s\n",
            "?\n"
          ]
        }
      ],
      "source": [
        "# With a string\n",
        "s = 'How are you, Pythonistas?'\n",
        "for c in s:\n",
        "    print(c)"
      ]
    },
    {
      "cell_type": "code",
      "execution_count": null,
      "metadata": {
        "id": "nUaNy_v-bTuS",
        "colab": {
          "base_uri": "https://localhost:8080/"
        },
        "outputId": "22f03cc0-b542-443c-f328-f74b57560ff2"
      },
      "outputs": [
        {
          "output_type": "stream",
          "name": "stdout",
          "text": [
            "one\n",
            "two\n",
            "three\n"
          ]
        }
      ],
      "source": [
        "# With a dictionary\n",
        "d = {'one': 1, 'two': 2, 'three': 3}\n",
        "for k in d:\n",
        "    print(k)"
      ]
    },
    {
      "cell_type": "markdown",
      "metadata": {
        "id": "GbRUOGOIbTuS"
      },
      "source": [
        "The example with a dictionary needs some clarifications. As you can notice, the keys are\n",
        "browsed, not the values. We could use the square brackets `[]` to get the values or use\n",
        "`d.keys()` and `d.values()` but we also could use `d.items()` iterate over the pairs key-value:"
      ]
    },
    {
      "cell_type": "code",
      "execution_count": null,
      "metadata": {
        "id": "0LawNI0wbTuS",
        "colab": {
          "base_uri": "https://localhost:8080/"
        },
        "outputId": "800314b0-b625-45dc-fa9c-a5ba56e67a0d"
      },
      "outputs": [
        {
          "output_type": "stream",
          "name": "stdout",
          "text": [
            "one\n",
            "two\n",
            "three\n"
          ]
        }
      ],
      "source": [
        "# Browsing keys (like previous example)\n",
        "for k in d.keys():\n",
        "    print(k)"
      ]
    },
    {
      "cell_type": "code",
      "execution_count": null,
      "metadata": {
        "id": "uEdtEWsgbTuS",
        "colab": {
          "base_uri": "https://localhost:8080/"
        },
        "outputId": "56b352a5-a3f9-4abe-c97f-60909be80465"
      },
      "outputs": [
        {
          "output_type": "stream",
          "name": "stdout",
          "text": [
            "1\n",
            "2\n",
            "3\n"
          ]
        }
      ],
      "source": [
        "# Browsing values\n",
        "for v in d.values():\n",
        "    print(v)"
      ]
    },
    {
      "cell_type": "code",
      "execution_count": null,
      "metadata": {
        "id": "udhSGqMkbTuS",
        "colab": {
          "base_uri": "https://localhost:8080/"
        },
        "outputId": "f6c322ad-6e76-48d2-bced-c3778d22ab5b"
      },
      "outputs": [
        {
          "output_type": "stream",
          "name": "stdout",
          "text": [
            "one --> 1\n",
            "two --> 2\n",
            "three --> 3\n"
          ]
        }
      ],
      "source": [
        "# Getting value from key\n",
        "for k in d:\n",
        "    print('{} --> {}'.format(k, d[k]))"
      ]
    },
    {
      "cell_type": "code",
      "execution_count": null,
      "metadata": {
        "id": "BGGDMmdEbTuS",
        "colab": {
          "base_uri": "https://localhost:8080/"
        },
        "outputId": "4ca3b495-02fc-4a32-a663-71ade659ae2f"
      },
      "outputs": [
        {
          "output_type": "stream",
          "name": "stdout",
          "text": [
            "Key: one -- Value: 1\n",
            "Key: two -- Value: 2\n",
            "Key: three -- Value: 3\n"
          ]
        }
      ],
      "source": [
        "# Browsing the pairs\n",
        "for (k, v) in d.items():\n",
        "    print('Key: {} -- Value: {}'.format(k, v))"
      ]
    },
    {
      "cell_type": "markdown",
      "metadata": {
        "id": "uEfQ8CWcbTuS"
      },
      "source": [
        "It is sometimes useful to skip some iteration, to consider an endless loop, to quit a not\n",
        "finished loop, to run some commands at the end of a loop, . . . For that purposes, we have at\n",
        "our disposal `continue`, `break` and `else`:"
      ]
    },
    {
      "cell_type": "code",
      "execution_count": null,
      "metadata": {
        "id": "_HygfCUibTuS",
        "colab": {
          "base_uri": "https://localhost:8080/"
        },
        "outputId": "25194c0d-fc5f-4149-c141-07b5f7abe163"
      },
      "outputs": [
        {
          "output_type": "stream",
          "name": "stdout",
          "text": [
            "0\n",
            "1\n",
            "3\n",
            "4\n"
          ]
        }
      ],
      "source": [
        "# Skip some iteration\n",
        "for i in range(5):\n",
        "    if i == 2:\n",
        "        continue # 2 is skipped\n",
        "    print(i)"
      ]
    },
    {
      "cell_type": "code",
      "execution_count": null,
      "metadata": {
        "id": "RYzm2eDCbTuT",
        "colab": {
          "base_uri": "https://localhost:8080/"
        },
        "outputId": "c78ad2b7-215c-41f3-d502-f1980cebe983"
      },
      "outputs": [
        {
          "output_type": "stream",
          "name": "stdout",
          "text": [
            "0\n",
            "1\n"
          ]
        }
      ],
      "source": [
        "# Breaking loops\n",
        "for i in range(5):\n",
        "    if i == 2:\n",
        "        break # Stop at 2\n",
        "    print(i)"
      ]
    },
    {
      "cell_type": "code",
      "execution_count": null,
      "metadata": {
        "id": "reDcb3uFbTuT",
        "colab": {
          "base_uri": "https://localhost:8080/"
        },
        "outputId": "cf81fa5a-4a09-4708-e7d1-1cd7d97f6b85"
      },
      "outputs": [
        {
          "output_type": "stream",
          "name": "stdout",
          "text": [
            "*\n",
            "**\n",
            "***\n",
            "****\n",
            "*****\n",
            "******\n",
            "*******\n",
            "********\n",
            "*********\n",
            "**********\n",
            "***********\n"
          ]
        }
      ],
      "source": [
        "s = ''\n",
        "while True: # Infinite loop ...\n",
        "    if len(s) > 10:\n",
        "        break # ... that ends here\n",
        "    s += '*'\n",
        "    print(s)"
      ]
    },
    {
      "cell_type": "code",
      "execution_count": null,
      "metadata": {
        "id": "dacYMcg0bTuT",
        "colab": {
          "base_uri": "https://localhost:8080/"
        },
        "outputId": "6dddd68c-37a6-48ba-9819-1c581ea0782e"
      },
      "outputs": [
        {
          "output_type": "stream",
          "name": "stdout",
          "text": [
            "~\n",
            "~~\n",
            "~~~\n",
            "~~~~\n",
            "~~~~~\n",
            "~~~~~~\n",
            "~~~~~~~\n",
            "###\n"
          ]
        }
      ],
      "source": [
        "# Concluding a loop\n",
        "s = ''\n",
        "while len(s) < 7: # Modify this value to see how the run changes\n",
        "    if len(s) == 8:\n",
        "        break # Forced to break, skip 'else' block\n",
        "    s += '~'; print(s)\n",
        "else:\n",
        "    # This command is run only if the loop ends without 'break'\n",
        "    print('###')"
      ]
    },
    {
      "cell_type": "markdown",
      "metadata": {
        "id": "bz-lM2EobTuT"
      },
      "source": [
        "The `for` statement can also be used to create lists. This technique is known as *list\n",
        "comprehension* and is often useful:"
      ]
    },
    {
      "cell_type": "code",
      "execution_count": null,
      "metadata": {
        "id": "wpr4gGI5bTuT",
        "colab": {
          "base_uri": "https://localhost:8080/"
        },
        "outputId": "308073b0-858f-42dd-d574-96db786b1b5f"
      },
      "outputs": [
        {
          "output_type": "execute_result",
          "data": {
            "text/plain": [
              "[17, 17, 17]"
            ]
          },
          "metadata": {},
          "execution_count": 3
        }
      ],
      "source": [
        "[17 for i in range(3)]"
      ]
    },
    {
      "cell_type": "code",
      "execution_count": null,
      "metadata": {
        "id": "0Mghv2vybTuT",
        "colab": {
          "base_uri": "https://localhost:8080/"
        },
        "outputId": "7fbd2bb6-c524-4f46-b470-0fc2cc6132fb"
      },
      "outputs": [
        {
          "output_type": "execute_result",
          "data": {
            "text/plain": [
              "[0, 3, 6, 9, 12]"
            ]
          },
          "metadata": {},
          "execution_count": 193
        }
      ],
      "source": [
        "[3 * i for i in range(5)]"
      ]
    },
    {
      "cell_type": "code",
      "execution_count": null,
      "metadata": {
        "id": "wXWDjRKnbTuT",
        "colab": {
          "base_uri": "https://localhost:8080/"
        },
        "outputId": "efd30ab8-c6cb-4b66-f2ce-c389d28481a6"
      },
      "outputs": [
        {
          "output_type": "execute_result",
          "data": {
            "text/plain": [
              "['', '#', '##', '###', '####']"
            ]
          },
          "metadata": {},
          "execution_count": 194
        }
      ],
      "source": [
        "['#' * i for i in range(5)]"
      ]
    },
    {
      "cell_type": "code",
      "execution_count": null,
      "metadata": {
        "id": "Qzwfi0MibTuT",
        "colab": {
          "base_uri": "https://localhost:8080/"
        },
        "outputId": "c25a788d-6e05-403b-ad2a-84912bc07192"
      },
      "outputs": [
        {
          "output_type": "execute_result",
          "data": {
            "text/plain": [
              "['Hello Bobby', 'Hello Billy', 'Hello Teddy']"
            ]
          },
          "metadata": {},
          "execution_count": 195
        }
      ],
      "source": [
        "names = ['Bobby', 'Billy', 'Teddy']\n",
        "['Hello ' + name for name in names]"
      ]
    },
    {
      "cell_type": "markdown",
      "metadata": {
        "id": "Hsk2DKXabTuU"
      },
      "source": [
        "**Questions**\n",
        "\n",
        "- Write some commands to print the following picture:\n",
        "  \n",
        "```\n",
        "*\n",
        "**\n",
        "***\n",
        "****\n",
        "*****\n",
        "```\n",
        "\n",
        "- Write some commands to print the following picture:\n",
        "\n",
        "```\n",
        "*\n",
        "**\n",
        "***\n",
        "****\n",
        "*****\n",
        "#\n",
        "```\n",
        "\n",
        "- Write some commands to print the following picture:\n",
        "\n",
        "```\n",
        "    *\n",
        "   ***\n",
        "  *****\n",
        " *******\n",
        "*********\n",
        "    #\n",
        "```\n",
        "\n",
        "- Write some commands to print the following picture:\n",
        "\n",
        "```\n",
        "# # # # #\n",
        " # # # #\n",
        "# # # # #\n",
        "```\n",
        "\n",
        "- Write some commands to print the following picture:\n",
        "\n",
        "```\n",
        "+++++\n",
        "++++\n",
        "+++\n",
        "++\n",
        "+\n",
        "++\n",
        "+++\n",
        "++++\n",
        "+++++\n",
        "```\n",
        "\n",
        "- Write some commands to print the following picture:\n",
        "\n",
        "```\n",
        "+       +\n",
        "++     ++\n",
        "+++   +++\n",
        "++++ ++++\n",
        "+++++++++\n",
        "```"
      ]
    },
    {
      "cell_type": "code",
      "source": [],
      "metadata": {
        "id": "Uwb87NWEivAU"
      },
      "execution_count": null,
      "outputs": []
    },
    {
      "cell_type": "code",
      "execution_count": null,
      "metadata": {
        "colab": {
          "base_uri": "https://localhost:8080/"
        },
        "outputId": "aa75066e-449c-4139-c2cc-1583acfeb184",
        "id": "SbxwrBlwi5FX"
      },
      "outputs": [
        {
          "output_type": "stream",
          "name": "stdout",
          "text": [
            "*\n",
            "**\n",
            "***\n",
            "****\n",
            "*****\n",
            "#\n"
          ]
        }
      ],
      "source": [
        "s = ''\n",
        "while len(s)<5: # Infinite loop ...\n",
        "    s += '*'\n",
        "    print(s)\n",
        "else: \n",
        "    print('#')"
      ]
    },
    {
      "cell_type": "markdown",
      "metadata": {
        "id": "EVUtEn_nbTuU"
      },
      "source": [
        "### Functions"
      ]
    },
    {
      "cell_type": "markdown",
      "metadata": {
        "id": "bezTPqSkbTuU"
      },
      "source": [
        "There are some built-in functions that are always available with in a Python interpreter. We\n",
        "have already seen some of them and you can read the [documentation](https://docs.python.org/3.4/library/functions.html) to get a full list of these\n",
        "functions. Such a function has a type like other objects, has a name and may have some\n",
        "arguments in the pair of parenthesis. So, a name for a function is like a name for a variable\n",
        "and a function object can be assigned to a variable! **This is a common source of bugs and\n",
        "strange behaviors in Python scripts**."
      ]
    },
    {
      "cell_type": "code",
      "execution_count": null,
      "metadata": {
        "id": "3NKmXdLPbTuU",
        "colab": {
          "base_uri": "https://localhost:8080/"
        },
        "outputId": "8b531602-1f8e-4175-a02e-cbda48dc040a"
      },
      "outputs": [
        {
          "output_type": "execute_result",
          "data": {
            "text/plain": [
              "8"
            ]
          },
          "metadata": {},
          "execution_count": 9
        }
      ],
      "source": [
        "# Absolute value of the argument\n",
        "abs(-8)"
      ]
    },
    {
      "cell_type": "code",
      "execution_count": null,
      "metadata": {
        "id": "to1tDTs8bTuU",
        "colab": {
          "base_uri": "https://localhost:8080/"
        },
        "outputId": "40e2c78e-fa1e-4f07-d8e1-f172a01e2e48"
      },
      "outputs": [
        {
          "output_type": "execute_result",
          "data": {
            "text/plain": [
              "builtin_function_or_method"
            ]
          },
          "metadata": {},
          "execution_count": 10
        }
      ],
      "source": [
        "type(abs) # Built-in function"
      ]
    },
    {
      "cell_type": "code",
      "execution_count": null,
      "metadata": {
        "id": "n4PYhDhYbTuU",
        "colab": {
          "base_uri": "https://localhost:8080/"
        },
        "outputId": "5f47f85e-0e38-4adb-eaee-0adf4fd7dee3"
      },
      "outputs": [
        {
          "output_type": "execute_result",
          "data": {
            "text/plain": [
              "-8.0"
            ]
          },
          "metadata": {},
          "execution_count": 11
        }
      ],
      "source": [
        "# Convert argument into a floating number\n",
        "float(-8)"
      ]
    },
    {
      "cell_type": "code",
      "execution_count": null,
      "metadata": {
        "id": "g_SJmDowbTuU",
        "colab": {
          "base_uri": "https://localhost:8080/"
        },
        "outputId": "5ab70722-890b-4465-c071-5c0c0fac563b"
      },
      "outputs": [
        {
          "output_type": "execute_result",
          "data": {
            "text/plain": [
              "-8.0"
            ]
          },
          "metadata": {},
          "execution_count": 12
        }
      ],
      "source": [
        "# Be careful with function names\n",
        "abs = float # Yes, you can do it!\n",
        "abs(-8) # Ouch!"
      ]
    },
    {
      "cell_type": "markdown",
      "metadata": {
        "id": "BHNn6ZFHbTuV"
      },
      "source": [
        "Of course, we can define our own functions with Python. To give a first example, we define a function `f` that takes no arguments and that does nothing:"
      ]
    },
    {
      "cell_type": "code",
      "execution_count": null,
      "metadata": {
        "id": "XKzOWdd2bTuV",
        "colab": {
          "base_uri": "https://localhost:8080/"
        },
        "outputId": "901e35c4-85ff-4903-cdb4-c86c2222e39b"
      },
      "outputs": [
        {
          "output_type": "execute_result",
          "data": {
            "text/plain": [
              "function"
            ]
          },
          "metadata": {},
          "execution_count": 13
        }
      ],
      "source": [
        "def f():\n",
        "    pass\n",
        "\n",
        "type(f) # Function type"
      ]
    },
    {
      "cell_type": "code",
      "execution_count": null,
      "metadata": {
        "id": "TLme7NIrbTuV"
      },
      "outputs": [],
      "source": [
        "f() # Nothing happens..."
      ]
    },
    {
      "cell_type": "code",
      "execution_count": null,
      "metadata": {
        "id": "CsnWd7pcbTuV",
        "colab": {
          "base_uri": "https://localhost:8080/"
        },
        "outputId": "dcc9e00a-edae-4fc0-ce68-5a5a5b34f9c0"
      },
      "outputs": [
        {
          "output_type": "execute_result",
          "data": {
            "text/plain": [
              "(<function __main__.f()>, 140038320612560, '0x7f5d365ae4d0')"
            ]
          },
          "metadata": {},
          "execution_count": 15
        }
      ],
      "source": [
        "f, id(f), hex(id(f))"
      ]
    },
    {
      "cell_type": "code",
      "execution_count": null,
      "metadata": {
        "id": "0QWQEkTtbTuV",
        "colab": {
          "base_uri": "https://localhost:8080/"
        },
        "outputId": "383fed93-2542-483e-fbbd-28fc7270ef8d"
      },
      "outputs": [
        {
          "output_type": "execute_result",
          "data": {
            "text/plain": [
              "140038320612560"
            ]
          },
          "metadata": {},
          "execution_count": 16
        }
      ],
      "source": [
        "g = f; id(g) # A function can be assigned"
      ]
    },
    {
      "cell_type": "code",
      "execution_count": null,
      "metadata": {
        "id": "EAlb5yGubTuV",
        "colab": {
          "base_uri": "https://localhost:8080/"
        },
        "outputId": "045b7a16-a732-4e9f-bc17-0c25ada8efa7"
      },
      "outputs": [
        {
          "output_type": "execute_result",
          "data": {
            "text/plain": [
              "True"
            ]
          },
          "metadata": {},
          "execution_count": 17
        }
      ],
      "source": [
        "g is f # Same object pointed by f and g"
      ]
    },
    {
      "cell_type": "code",
      "execution_count": null,
      "metadata": {
        "id": "8ErEdPnybTuV"
      },
      "outputs": [],
      "source": [
        "g() # Nothing happens..."
      ]
    },
    {
      "cell_type": "markdown",
      "metadata": {
        "id": "0VOfJKJ4bTuV"
      },
      "source": [
        "Note the use of the statement `pass` that corresponds to an empty block of code. Indeed,\n",
        "a function must possess its own block of commands, called its *body*, and you can not omit\n",
        "it. Thus, statement `pass` allowed us to define a function with an empty body. As explained\n",
        "above, the created function has a type and can be assigned.\n",
        "\n",
        "Let us now define a function without argument but that does something:"
      ]
    },
    {
      "cell_type": "code",
      "execution_count": null,
      "metadata": {
        "id": "4HhkMDPYbTuW",
        "colab": {
          "base_uri": "https://localhost:8080/"
        },
        "outputId": "37d34702-f6f4-4f22-cefd-0fe34c323866"
      },
      "outputs": [
        {
          "name": "stdout",
          "output_type": "stream",
          "text": [
            "['e' for english, 'f' for french] : stop\n"
          ]
        }
      ],
      "source": [
        "def say_hello():\n",
        "    lang = input(\"['e' for english, 'f' for french] : \")\n",
        "    if lang == 'e':\n",
        "        print('Hello!')\n",
        "    elif lang == 'f':\n",
        "        print('Salut!')\n",
        "    elif lang == 'stop':\n",
        "        return\n",
        "    else:\n",
        "        print('Error: unknown language')\n",
        "    say_hello()\n",
        "\n",
        "say_hello()"
      ]
    },
    {
      "cell_type": "markdown",
      "metadata": {
        "id": "wnN1Khy2bTuW"
      },
      "source": [
        "There is nothing extraordinary here, calling the function `say_hello` amounts to run its body.\n",
        "Nevertheless, it is important to understant the *scope* of a variable, *i.e.* where the content of\n",
        "a variable makes sense:"
      ]
    },
    {
      "cell_type": "code",
      "execution_count": null,
      "metadata": {
        "id": "vIXaLSH4bTuW",
        "colab": {
          "base_uri": "https://localhost:8080/"
        },
        "outputId": "8ea7bca5-c7a8-47ee-8db4-e489fb5d4796"
      },
      "outputs": [
        {
          "output_type": "execute_result",
          "data": {
            "text/plain": [
              "['In',\n",
              " 'Out',\n",
              " '_',\n",
              " '_10',\n",
              " '_11',\n",
              " '_12',\n",
              " '_13',\n",
              " '_15',\n",
              " '_16',\n",
              " '_17',\n",
              " '_2',\n",
              " '_3',\n",
              " '_9',\n",
              " '__',\n",
              " '___',\n",
              " '__builtin__',\n",
              " '__builtins__',\n",
              " '__doc__',\n",
              " '__loader__',\n",
              " '__name__',\n",
              " '__package__',\n",
              " '__spec__',\n",
              " '_dh',\n",
              " '_i',\n",
              " '_i1',\n",
              " '_i10',\n",
              " '_i11',\n",
              " '_i12',\n",
              " '_i13',\n",
              " '_i14',\n",
              " '_i15',\n",
              " '_i16',\n",
              " '_i17',\n",
              " '_i18',\n",
              " '_i19',\n",
              " '_i2',\n",
              " '_i20',\n",
              " '_i21',\n",
              " '_i22',\n",
              " '_i23',\n",
              " '_i3',\n",
              " '_i4',\n",
              " '_i5',\n",
              " '_i6',\n",
              " '_i7',\n",
              " '_i8',\n",
              " '_i9',\n",
              " '_ih',\n",
              " '_ii',\n",
              " '_iii',\n",
              " '_oh',\n",
              " 'abs',\n",
              " 'exit',\n",
              " 'f',\n",
              " 'g',\n",
              " 'get_ipython',\n",
              " 'quit',\n",
              " 's',\n",
              " 'say_hello',\n",
              " 'v1']"
            ]
          },
          "metadata": {},
          "execution_count": 23
        }
      ],
      "source": [
        "v1 = 17 # Global scope\n",
        "dir() # Names in global scope"
      ]
    },
    {
      "cell_type": "code",
      "execution_count": null,
      "metadata": {
        "id": "p6WiBatvbTuW",
        "colab": {
          "base_uri": "https://localhost:8080/"
        },
        "outputId": "5fb12f4f-1411-4b4f-9b42-4f50c648d715"
      },
      "outputs": [
        {
          "output_type": "stream",
          "name": "stdout",
          "text": [
            "[]\n",
            "17\n"
          ]
        }
      ],
      "source": [
        "def f1():\n",
        "    print(dir()) # Names in f1 scope\n",
        "    # Variable v1 does not exist in current scope\n",
        "    print(v1) # So v1 is taken from global scope\n",
        "\n",
        "f1()"
      ]
    },
    {
      "cell_type": "code",
      "execution_count": null,
      "metadata": {
        "id": "7W29hcWObTuW",
        "colab": {
          "base_uri": "https://localhost:8080/",
          "height": 253
        },
        "outputId": "53271f2d-b39e-4033-9fe2-bec13dba7119"
      },
      "outputs": [
        {
          "output_type": "stream",
          "name": "stdout",
          "text": [
            "['v1', 'v2']\n",
            "8\n",
            "v2 = 42\n"
          ]
        },
        {
          "output_type": "error",
          "ename": "NameError",
          "evalue": "ignored",
          "traceback": [
            "\u001b[0;31m---------------------------------------------------------------------------\u001b[0m",
            "\u001b[0;31mNameError\u001b[0m                                 Traceback (most recent call last)",
            "\u001b[0;32m<ipython-input-27-d7be5e8b9a06>\u001b[0m in \u001b[0;36m<module>\u001b[0;34m\u001b[0m\n\u001b[1;32m      6\u001b[0m \u001b[0;34m\u001b[0m\u001b[0m\n\u001b[1;32m      7\u001b[0m \u001b[0mf2\u001b[0m\u001b[0;34m(\u001b[0m\u001b[0;34m)\u001b[0m\u001b[0;34m\u001b[0m\u001b[0;34m\u001b[0m\u001b[0m\n\u001b[0;32m----> 8\u001b[0;31m \u001b[0mprint\u001b[0m\u001b[0;34m(\u001b[0m\u001b[0mv2\u001b[0m\u001b[0;34m)\u001b[0m \u001b[0;31m# ... but not in global scope\u001b[0m\u001b[0;34m\u001b[0m\u001b[0;34m\u001b[0m\u001b[0m\n\u001b[0m",
            "\u001b[0;31mNameError\u001b[0m: name 'v2' is not defined"
          ]
        }
      ],
      "source": [
        "def f2():\n",
        "    v1 = 8; v2 = 42 # Define v1 and v2 in current scope\n",
        "    print(dir()) # Names in f2 scope\n",
        "    print(v1) # Content of v1 taken in local scope\n",
        "    print('v2 = {}'.format(v2)) # Here, v2 exists ...\n",
        "\n",
        "f2()\n",
        "print(v2) # ... but not in global scope"
      ]
    },
    {
      "cell_type": "markdown",
      "metadata": {
        "id": "MPfd7oucbTuW"
      },
      "source": [
        "Scopes can be seen as nested lists of names in the sense that when a variable name is called,\n",
        "Python first looks in the current scope, if the name is defined then this scope is used, otherwise, Python does the same thing in the parent scope till it reaches the global scope. Because there is nothing above global scope, if the name is still not defined, an error `NameError` is *raised* (see further for explanations about errors in Python).\n",
        "\n",
        "Now we know how to define a function and deal with the scopes, let us give some arguments\n",
        "to our function:"
      ]
    },
    {
      "cell_type": "code",
      "execution_count": null,
      "metadata": {
        "id": "kPJWtwxObTuW",
        "colab": {
          "base_uri": "https://localhost:8080/",
          "height": 200
        },
        "outputId": "05055315-8aef-4478-846d-2f87ddc457f2"
      },
      "outputs": [
        {
          "output_type": "error",
          "ename": "TypeError",
          "evalue": "ignored",
          "traceback": [
            "\u001b[0;31m---------------------------------------------------------------------------\u001b[0m",
            "\u001b[0;31mTypeError\u001b[0m                                 Traceback (most recent call last)",
            "\u001b[0;32m<ipython-input-44-12e45b04e6ba>\u001b[0m in \u001b[0;36m<module>\u001b[0;34m\u001b[0m\n\u001b[1;32m      8\u001b[0m     \u001b[0mprint\u001b[0m\u001b[0;34m(\u001b[0m\u001b[0mgreeting\u001b[0m \u001b[0;34m+\u001b[0m \u001b[0;34m' '\u001b[0m \u001b[0;34m+\u001b[0m \u001b[0mname\u001b[0m \u001b[0;34m+\u001b[0m \u001b[0;34m'!'\u001b[0m\u001b[0;34m)\u001b[0m\u001b[0;34m\u001b[0m\u001b[0;34m\u001b[0m\u001b[0m\n\u001b[1;32m      9\u001b[0m \u001b[0;34m\u001b[0m\u001b[0m\n\u001b[0;32m---> 10\u001b[0;31m \u001b[0msay_hello\u001b[0m\u001b[0;34m(\u001b[0m\u001b[0;34m)\u001b[0m \u001b[0;31m# Error, arguments are missing\u001b[0m\u001b[0;34m\u001b[0m\u001b[0;34m\u001b[0m\u001b[0m\n\u001b[0m",
            "\u001b[0;31mTypeError\u001b[0m: say_hello() missing 2 required positional arguments: 'name' and 'lang'"
          ]
        }
      ],
      "source": [
        "def say_hello(name, lang):\n",
        "    if lang == 'e':\n",
        "        greeting = 'Hello'\n",
        "    elif lang == 'f':\n",
        "        greeting = 'Salut'\n",
        "    else:\n",
        "        greeting = '###' # Unknown language\n",
        "    print(greeting + ' ' + name + '!')\n",
        "\n",
        "say_hello() # Error, arguments are missing"
      ]
    },
    {
      "cell_type": "code",
      "execution_count": null,
      "metadata": {
        "id": "9Y0d7vzFbTuX"
      },
      "outputs": [],
      "source": [
        "say_hello('Bobby') # Error, an argument is missing"
      ]
    },
    {
      "cell_type": "code",
      "execution_count": null,
      "metadata": {
        "id": "AXa45yytbTuX",
        "colab": {
          "base_uri": "https://localhost:8080/"
        },
        "outputId": "5cf37e91-a565-4ebd-d396-aa5bf0d5210b"
      },
      "outputs": [
        {
          "output_type": "stream",
          "name": "stdout",
          "text": [
            "Salut Bobby!\n"
          ]
        }
      ],
      "source": [
        "say_hello('Bobby', 'f') # It works!"
      ]
    },
    {
      "cell_type": "code",
      "execution_count": null,
      "metadata": {
        "id": "OrtpyMVRbTuX"
      },
      "outputs": [],
      "source": [
        "say_hello('Bobby', 'f', 42) # Error, too much arguments"
      ]
    },
    {
      "cell_type": "code",
      "execution_count": null,
      "metadata": {
        "id": "h78Qe1BjbTuX"
      },
      "outputs": [],
      "source": [
        "say_hello('e', 'Bobby') # Order of arguments is important"
      ]
    },
    {
      "cell_type": "code",
      "execution_count": null,
      "metadata": {
        "id": "VDjZuLypbTuX",
        "colab": {
          "base_uri": "https://localhost:8080/"
        },
        "outputId": "9f6dde7b-18e7-44d7-e863-077eaaff1bf9"
      },
      "outputs": [
        {
          "output_type": "stream",
          "name": "stdout",
          "text": [
            "Hello Bobby!\n"
          ]
        }
      ],
      "source": [
        "say_hello(lang='e', name='Bobby') # But they can be explicitly named"
      ]
    },
    {
      "cell_type": "markdown",
      "metadata": {
        "id": "zIGmeg9RbTuX"
      },
      "source": [
        "Our function `say_hello` prints some greeting string but this string can not be assigned to a\n",
        "variable (for being used elsewhere, for instance). To return a value, we use the word `return`:"
      ]
    },
    {
      "cell_type": "code",
      "execution_count": null,
      "metadata": {
        "id": "sWsa36HQbTuX",
        "colab": {
          "base_uri": "https://localhost:8080/"
        },
        "outputId": "4f3f3bb8-85fb-426d-fd8a-fd756fb25298"
      },
      "outputs": [
        {
          "output_type": "stream",
          "name": "stdout",
          "text": [
            "Salut Bobby!\n",
            "None\n"
          ]
        }
      ],
      "source": [
        "s = say_hello('Bobby', 'f') # Greeting is displayed...\n",
        "print(s) # ... but s is None"
      ]
    },
    {
      "cell_type": "code",
      "execution_count": null,
      "metadata": {
        "id": "nyLfunzsbTuX",
        "colab": {
          "base_uri": "https://localhost:8080/"
        },
        "outputId": "bd0eb47b-70cc-473c-bd66-089fccb90f33"
      },
      "outputs": [
        {
          "output_type": "stream",
          "name": "stdout",
          "text": [
            "Salut Bobby!\n"
          ]
        }
      ],
      "source": [
        "# New definition of say_hello\n",
        "def say_hello(name, lang='e'):\n",
        "    if lang == 'e':\n",
        "        greeting = 'Hello'\n",
        "    elif lang == 'f':\n",
        "        greeting = 'Salut'\n",
        "    else:\n",
        "        greeting = '###' # Unknown language\n",
        "    return greeting + ' ' + name + '!' # Return the string\n",
        "\n",
        "s = say_hello('Bobby', 'f') # Greeting is no more displayed\n",
        "print(s) # Greeting is in s now!"
      ]
    },
    {
      "cell_type": "markdown",
      "metadata": {
        "id": "T6asy6WubTuY"
      },
      "source": [
        "A function can return only one object but a tuple is an object. The tuples are commonly used\n",
        "to return more than one value and allow a nice code syntax by omitting the parentheses:"
      ]
    },
    {
      "cell_type": "code",
      "execution_count": null,
      "metadata": {
        "id": "jheDGfSxbTuY"
      },
      "outputs": [],
      "source": [
        "def tell_me_more_about(x):\n",
        "    return id(x), type(x), repr(x) # Return three values in tuple\n",
        "\n",
        "# Get the three values in one line\n",
        "a, b, c = tell_me_more_about(17+8j)\n",
        "print(a); print(b); print(c)"
      ]
    },
    {
      "cell_type": "markdown",
      "metadata": {
        "id": "vrIYeQ0mbTuY"
      },
      "source": [
        "As you noticed, if an argument is expected for some function, it has to be passed. Some-\n",
        "times, this point can be disturbing and default value can be given. An argument with a default value can then be omitted when calling the function:"
      ]
    },
    {
      "cell_type": "code",
      "execution_count": null,
      "metadata": {
        "id": "6vf23I1ibTuY"
      },
      "outputs": [],
      "source": [
        "# By default, argument lang is 'e'\n",
        "def say_hello(name, lang='e'):\n",
        "    if lang == 'e':\n",
        "        greeting = 'Hello'\n",
        "    elif lang == 'f':\n",
        "        greeting = 'Salut'\n",
        "    else:\n",
        "        greeting = '###' # Unknown language\n",
        "    print(greeting + ' ' + name + '!')\n",
        "\n",
        "say_hello('Bobby') # Now, it works\n",
        "say_hello('Bobby', 'f') # Argument can still be used, of course"
      ]
    },
    {
      "cell_type": "markdown",
      "metadata": {
        "id": "uJ0TYJQmbTuY"
      },
      "source": [
        "It must be paid attention to mutable default value. Actually, the default value is evaluated\n",
        "only once during a run of a script. This does not matter for immutable objects because their\n",
        "content won’t change but the one of mutable objects can be modified. This can be useful\n",
        "sometimes but it can also lead to unexpected effects:"
      ]
    },
    {
      "cell_type": "code",
      "execution_count": null,
      "metadata": {
        "id": "-ijeGj8XbTuY",
        "colab": {
          "base_uri": "https://localhost:8080/"
        },
        "outputId": "e4251aba-4550-471b-b092-b6f8b98b2337"
      },
      "outputs": [
        {
          "output_type": "stream",
          "name": "stdout",
          "text": [
            "[3]\n"
          ]
        }
      ],
      "source": [
        "# Default value for l is mutable\n",
        "def list_builder(x, l=[]):\n",
        "    l.append(x)\n",
        "    return l\n",
        "\n",
        "# Notice the special behavior\n",
        "\n",
        "print(list_builder(3))"
      ]
    },
    {
      "cell_type": "code",
      "execution_count": null,
      "metadata": {
        "id": "6QwmEZo5bTuZ",
        "colab": {
          "base_uri": "https://localhost:8080/"
        },
        "outputId": "54c96857-dc0f-40b1-fd80-0bc5b1ce17a4"
      },
      "outputs": [
        {
          "output_type": "stream",
          "name": "stdout",
          "text": [
            "[1]\n",
            "[2]\n",
            "[3]\n"
          ]
        }
      ],
      "source": [
        "# To avoid such a feature, use None and a test for the default\n",
        "def list_builder(x, l=None):\n",
        "    if l is None:\n",
        "        l = [] # Default value\n",
        "    l.append(x)\n",
        "    return l\n",
        "\n",
        "# More standard behavior\n",
        "print(list_builder(1))\n",
        "print(list_builder(2))\n",
        "print(list_builder(3))"
      ]
    },
    {
      "cell_type": "markdown",
      "metadata": {
        "id": "mHeJ0hqKbTuZ"
      },
      "source": [
        "Finally, a good habit when writing functions in Python is to document them. We have\n",
        "already met documentation string, called *docstring*, which are used to give informations about\n",
        "a function. Such strings are surrounded with triple quotes `\"\"\"` and may span multiple lines.\n",
        "Commonly, to document a function, the docstring comes directly after the `def` statement, a\n",
        "first line is used to give a brief summary of what the function does and, after an empty line,\n",
        "we put some additional specifications (arguments, default values, . . . ). Lot of details about\n",
        "docstring conventions can be found in the [PEP 257](https://www.python.org/dev/peps/pep-0257/)."
      ]
    },
    {
      "cell_type": "code",
      "execution_count": null,
      "metadata": {
        "id": "wsiMOdKPbTuZ"
      },
      "outputs": [],
      "source": [
        "def say_hello(name, lang='e'):\n",
        "    \"\"\"Return a greeting string.\n",
        "    \n",
        "    Parameters:\n",
        "        name (str): Name to be greeted\n",
        "        lang (str): Language, 'e' for english or 'f' for french (defaults to 'e')\n",
        "    \n",
        "    Returns:\n",
        "        str: a string containing a greeting or '###' if unknown language\n",
        "\n",
        "    \"\"\"\n",
        "    if lang == 'e':\n",
        "        greeting = 'Hello'\n",
        "    elif lang == 'f':\n",
        "        greeting = 'Salut'\n",
        "    else:\n",
        "        greeting = '###' # Unknown language\n",
        "    print(greeting + ' ' + name + '!')"
      ]
    },
    {
      "cell_type": "code",
      "execution_count": null,
      "metadata": {
        "id": "rmNg7QOpbTuZ",
        "colab": {
          "base_uri": "https://localhost:8080/"
        },
        "outputId": "d663e105-287a-490e-e3a5-b613586c4c9f"
      },
      "outputs": [
        {
          "output_type": "stream",
          "name": "stdout",
          "text": [
            "Return a greeting string.\n",
            "    \n",
            "    Parameters:\n",
            "        name (str): Name to be greeted\n",
            "        lang (str): Language, 'e' for english or 'f' for french (defaults to 'e')\n",
            "    \n",
            "    Returns:\n",
            "        str: a string containing a greeting or '###' if unknown language\n",
            "\n",
            "    \n"
          ]
        }
      ],
      "source": [
        "# The docstring belongs to the function\n",
        "print(say_hello.__doc__)"
      ]
    },
    {
      "cell_type": "code",
      "execution_count": null,
      "metadata": {
        "id": "zZ1rpuWxbTuZ",
        "colab": {
          "base_uri": "https://localhost:8080/"
        },
        "outputId": "e58532d6-4647-4572-a21e-49105ec9ce43"
      },
      "outputs": [
        {
          "output_type": "stream",
          "name": "stdout",
          "text": [
            "Help on function say_hello in module __main__:\n",
            "\n",
            "say_hello(name, lang='e')\n",
            "    Return a greeting string.\n",
            "    \n",
            "    Parameters:\n",
            "        name (str): Name to be greeted\n",
            "        lang (str): Language, 'e' for english or 'f' for french (defaults to 'e')\n",
            "    \n",
            "    Returns:\n",
            "        str: a string containing a greeting or '###' if unknown language\n",
            "\n"
          ]
        }
      ],
      "source": [
        "# Python uses the docstrings to build the documentation\n",
        "help(say_hello)"
      ]
    },
    {
      "cell_type": "code",
      "source": [
        "def draw_pine(n):\n",
        "  s=''\n",
        "  while len(s) < 4:\n",
        "    s += '*' \n",
        "    print(s)\n",
        "  else:\n",
        "    s+='**'\n",
        "    print(s)\n",
        "    \n",
        "draw_pine(4)"
      ],
      "metadata": {
        "colab": {
          "base_uri": "https://localhost:8080/"
        },
        "id": "yiI31dHM1qU7",
        "outputId": "be2276ca-d026-4bf0-975c-82cb18dccae5"
      },
      "execution_count": null,
      "outputs": [
        {
          "output_type": "stream",
          "name": "stdout",
          "text": [
            "*\n",
            "***\n"
          ]
        }
      ]
    },
    {
      "cell_type": "markdown",
      "metadata": {
        "id": "w01rg47sbTuZ"
      },
      "source": [
        "**Questions**\n",
        "\n",
        "- Read the documentation about the function `input` we use in the first implementation\n",
        "of `say_hello`.\n",
        "- With the help of the [documentation](https://docs.python.org/3/library/functions.html), find a built-in function to compute the sum of the\n",
        "numeric items of a list.\n",
        "- Write a function `draw_pine` that take one integer argument `n` and that draw a pine\n",
        "with n levels of characters `*` and a character `#` for the trunk similar to what you did in\n",
        "exercises about loops. See below for an example:\n",
        "\n",
        "```\n",
        ">>> draw_pine(4)\n",
        "*\n",
        "***\n",
        "*****\n",
        "*******\n",
        "#\n",
        ">>>\n",
        "```\n",
        "\n",
        "- Do the following improvements for the function draw_pine:\n",
        "    - Properly manage negative value of n or non integer value.\n",
        "    - Give a default value of 5 to n.\n",
        "    - Add two arguments leaf and trunk with default values that are supposed to be the characters used to draw the pine. Manage non character values for these arguments.\n",
        "    - Modify the function to return a string containing the pine in addition to drawing it.\n",
        "    - Add a boolean argument verbose to print or not the pine with a default value and correct behavior if a non boolean value is given.\n",
        "    - Document your function."
      ]
    },
    {
      "cell_type": "code",
      "source": [
        "w=[\"1\", 2, 4, \"Z\"]\n",
        "type(w[2])\n",
        "s=0\n",
        "for i in w:\n",
        "  if isinstance(i,int):\n",
        "    s+=i\n",
        "print(s)\n",
        "\n"
      ],
      "metadata": {
        "colab": {
          "base_uri": "https://localhost:8080/"
        },
        "id": "M_8WwhAimquO",
        "outputId": "31a76076-921e-4b35-f21a-d3b3f8cd1387"
      },
      "execution_count": null,
      "outputs": [
        {
          "output_type": "stream",
          "name": "stdout",
          "text": [
            "6\n"
          ]
        }
      ]
    },
    {
      "cell_type": "code",
      "source": [
        "def draw_pine(n):\n",
        "  s='*'\n",
        "  while len(s)<n: # Infinite loop ...\n",
        "      s += '**'\n",
        "      print(s)\n",
        "  else: \n",
        "      print('#')\n",
        "draw_pine(4)"
      ],
      "metadata": {
        "colab": {
          "base_uri": "https://localhost:8080/"
        },
        "id": "FhxGsypnpiYb",
        "outputId": "c54ce2d4-bc3e-4911-e319-a92932dae416"
      },
      "execution_count": null,
      "outputs": [
        {
          "output_type": "stream",
          "name": "stdout",
          "text": [
            "***\n",
            "*****\n",
            "#\n"
          ]
        }
      ]
    },
    {
      "cell_type": "markdown",
      "metadata": {
        "id": "Ztu-68NfbTuZ"
      },
      "source": [
        "### More about function arguments"
      ]
    },
    {
      "cell_type": "markdown",
      "metadata": {
        "id": "2KfL1kBzbTuZ"
      },
      "source": [
        "We introduce here some advanced concepts related to Python functions. They may be skipped\n",
        "in first reading but these features will be useful in the sequel."
      ]
    },
    {
      "cell_type": "markdown",
      "metadata": {
        "id": "gOTlTEQVbTua"
      },
      "source": [
        "#### Unpacking arguments"
      ]
    },
    {
      "cell_type": "markdown",
      "metadata": {
        "id": "pl9IAf_zbTua"
      },
      "source": [
        "It is sometimes useful to pass arguments to a function through a list or a dictionary rather\n",
        "than explicitely. Although this is not considered as a good practice because it does not really\n",
        "improve code readability, these tricks are not deprecated because they make easier passing\n",
        "arguments to a subfunction, for instance."
      ]
    },
    {
      "cell_type": "code",
      "execution_count": null,
      "metadata": {
        "id": "ZxbGdfEobTua"
      },
      "outputs": [],
      "source": [
        "# Unpacking a list with *\n",
        "args = [17, 42, 3]\n",
        "list(range(*args))"
      ]
    },
    {
      "cell_type": "code",
      "execution_count": null,
      "metadata": {
        "id": "G5vDO5CFbTua"
      },
      "outputs": [],
      "source": [
        "# Unpacking a dictionary with **\n",
        "args = {'name': 'Teddy', 'lang': 'f'}\n",
        "say_hello(**args)"
      ]
    },
    {
      "cell_type": "markdown",
      "metadata": {
        "id": "17A-d9zcbTua"
      },
      "source": [
        "#### Arbitrary argument lists\n",
        "\n",
        "An other practical mechanism with function arguments is to allow them to be arbitrary and to\n",
        "properly manage what the user pass to a function. To introduce that, we have to distinguish\n",
        "two kinds of arguments: *positional argument* and *keyword argument*. A positional argument\n",
        "is not explicitely named when it is passed to a function whereas a keyword argument has a\n",
        "name. For example, in `f(42, msg='Hi!')`, the number `42` is a positional argument and `msg` is\n",
        "the key of a keyword argument. A set of positional argument can be seen as a tuple and a set\n",
        "of keyword arguments as a dictionary. As mentioned previously, using keyword arguments,\n",
        "you can modify the order of the arguments when calling the function but positional arguments\n",
        "always have to be placed before keyword arguments.\n",
        "\n",
        "To handle arbitrary positional arguments in a function, you must add a specific arguments\n",
        "of the form `*args` that receives a tuple containing the values of positional arguments:"
      ]
    },
    {
      "cell_type": "code",
      "execution_count": null,
      "metadata": {
        "id": "_iasBGYybTua"
      },
      "outputs": [],
      "source": [
        "# A function with arbitrary positional arguments\n",
        "def posarg(*args):\n",
        "    if len(args) == 0:\n",
        "        print('No argument')\n",
        "    else:\n",
        "        for arg in args:\n",
        "            print('Argument: {}'.format(arg))\n",
        "\n",
        "posarg()\n",
        "posarg('Tobby', 42)"
      ]
    },
    {
      "cell_type": "markdown",
      "metadata": {
        "id": "DhXm16pCbTua"
      },
      "source": [
        "For keyword arguments, the same principle is used but with a special argument `**kwargs`\n",
        "that receives a dictionary:"
      ]
    },
    {
      "cell_type": "code",
      "execution_count": null,
      "metadata": {
        "id": "u1wKMQ2fbTub"
      },
      "outputs": [],
      "source": [
        "# A function with arbitrary keyword arguments\n",
        "def keyarg(**kwargs):\n",
        "    if len(kwargs) == 0:\n",
        "        print('No argument')\n",
        "    else:\n",
        "        for key, val in kwargs.items():\n",
        "            print(\"Argument '{}': {}\".format(key, val))\n",
        "\n",
        "keyarg()\n",
        "keyarg(name='Tobby', number=42)"
      ]
    },
    {
      "cell_type": "markdown",
      "metadata": {
        "id": "GHkoboHzbTub"
      },
      "source": [
        "Of course, this is feasible to mix positional arguments and keyword arguments as long as\n",
        "positional ones occur before keyword ones."
      ]
    },
    {
      "cell_type": "code",
      "execution_count": null,
      "metadata": {
        "id": "se4aYILgbTub"
      },
      "outputs": [],
      "source": [
        "def add_movie(title, *comments, **data):\n",
        "    print('Title: {}'.format(title))\n",
        "    for key, val in data.items():\n",
        "        print('{}: {}'.format(key, val))\n",
        "        print('-' * 42)\n",
        "    \n",
        "    for comment in comments:\n",
        "        print('\"{}\"'.format(comment))"
      ]
    },
    {
      "cell_type": "code",
      "execution_count": null,
      "metadata": {
        "id": "fyDot2bpbTub"
      },
      "outputs": [],
      "source": [
        "add_movie() # Argument title is mandatory"
      ]
    },
    {
      "cell_type": "code",
      "execution_count": null,
      "metadata": {
        "id": "oW2IUzzlbTub"
      },
      "outputs": [],
      "source": [
        "add_movie('Back to the Future') # Without optional argument"
      ]
    },
    {
      "cell_type": "code",
      "execution_count": null,
      "metadata": {
        "id": "aKRYNYhHbTub"
      },
      "outputs": [],
      "source": [
        "add_movie('Back to the Future',\n",
        "    'Amazing!',\n",
        "    'One of the greatest movies ever made'\n",
        ") # Positional only"
      ]
    },
    {
      "cell_type": "code",
      "execution_count": null,
      "metadata": {
        "id": "YmhWgIoYbTub"
      },
      "outputs": [],
      "source": [
        "add_movie('Back to the Future',\n",
        "    Year=1985,\n",
        "    Runtime='1h56'\n",
        ") # Keyword only"
      ]
    },
    {
      "cell_type": "code",
      "execution_count": null,
      "metadata": {
        "id": "miZqRx09bTub"
      },
      "outputs": [],
      "source": [
        "add_movie('Back to the Future',\n",
        "    'Amazing!',\n",
        "    'One of the greatest movies ever made',\n",
        "    Year=1985,\n",
        "    Runtime='1h56'\n",
        ") # Both argument types"
      ]
    },
    {
      "cell_type": "markdown",
      "metadata": {
        "id": "UGZ4NMnYbTuc"
      },
      "source": [
        "### Exceptions"
      ]
    },
    {
      "cell_type": "markdown",
      "metadata": {
        "id": "XhzW_DupbTuc"
      },
      "source": [
        "An error detected during execution of some Python code is called an exception. We have seen\n",
        "some examples previously without discussing about them. If an exception is not handled, it\n",
        "commonly leads to end the current script and to output some error message. Typically, such\n",
        "a message contains the name of the exception and some details about what happened:"
      ]
    },
    {
      "cell_type": "code",
      "execution_count": null,
      "metadata": {
        "id": "0oJhMyqobTuc",
        "colab": {
          "base_uri": "https://localhost:8080/",
          "height": 166
        },
        "outputId": "81bab21f-ccd3-4287-a011-7bf04a8bc2ae"
      },
      "outputs": [
        {
          "output_type": "error",
          "ename": "ZeroDivisionError",
          "evalue": "ignored",
          "traceback": [
            "\u001b[0;31m---------------------------------------------------------------------------\u001b[0m",
            "\u001b[0;31mZeroDivisionError\u001b[0m                         Traceback (most recent call last)",
            "\u001b[0;32m<ipython-input-53-bc757c3fda29>\u001b[0m in \u001b[0;36m<module>\u001b[0;34m\u001b[0m\n\u001b[0;32m----> 1\u001b[0;31m \u001b[0;36m1\u001b[0m \u001b[0;34m/\u001b[0m \u001b[0;36m0\u001b[0m\u001b[0;34m\u001b[0m\u001b[0;34m\u001b[0m\u001b[0m\n\u001b[0m",
            "\u001b[0;31mZeroDivisionError\u001b[0m: division by zero"
          ]
        }
      ],
      "source": [
        "1 / 0"
      ]
    },
    {
      "cell_type": "code",
      "execution_count": null,
      "metadata": {
        "id": "OO89gtZebTuc",
        "colab": {
          "base_uri": "https://localhost:8080/",
          "height": 166
        },
        "outputId": "fa64b177-b271-40b3-a55c-86e6e2137d5d"
      },
      "outputs": [
        {
          "output_type": "error",
          "ename": "NameError",
          "evalue": "ignored",
          "traceback": [
            "\u001b[0;31m---------------------------------------------------------------------------\u001b[0m",
            "\u001b[0;31mNameError\u001b[0m                                 Traceback (most recent call last)",
            "\u001b[0;32m<ipython-input-54-b3b3b04032c5>\u001b[0m in \u001b[0;36m<module>\u001b[0;34m\u001b[0m\n\u001b[0;32m----> 1\u001b[0;31m \u001b[0mprint\u001b[0m\u001b[0;34m(\u001b[0m\u001b[0mundefined_variable\u001b[0m\u001b[0;34m)\u001b[0m\u001b[0;34m\u001b[0m\u001b[0;34m\u001b[0m\u001b[0m\n\u001b[0m",
            "\u001b[0;31mNameError\u001b[0m: name 'undefined_variable' is not defined"
          ]
        }
      ],
      "source": [
        "print(undefined_variable)"
      ]
    },
    {
      "cell_type": "code",
      "execution_count": null,
      "metadata": {
        "id": "OPzlGbkMbTuc",
        "colab": {
          "base_uri": "https://localhost:8080/",
          "height": 166
        },
        "outputId": "f0b41e7f-315d-421e-9746-ef9119d9eae4"
      },
      "outputs": [
        {
          "output_type": "error",
          "ename": "TypeError",
          "evalue": "ignored",
          "traceback": [
            "\u001b[0;31m---------------------------------------------------------------------------\u001b[0m",
            "\u001b[0;31mTypeError\u001b[0m                                 Traceback (most recent call last)",
            "\u001b[0;32m<ipython-input-55-7ff5cb60d31b>\u001b[0m in \u001b[0;36m<module>\u001b[0;34m\u001b[0m\n\u001b[0;32m----> 1\u001b[0;31m \u001b[0;36m1\u001b[0m \u001b[0;34m+\u001b[0m \u001b[0;34m'1'\u001b[0m\u001b[0;34m\u001b[0m\u001b[0;34m\u001b[0m\u001b[0m\n\u001b[0m",
            "\u001b[0;31mTypeError\u001b[0m: unsupported operand type(s) for +: 'int' and 'str'"
          ]
        }
      ],
      "source": [
        "1 + '1'"
      ]
    },
    {
      "cell_type": "markdown",
      "metadata": {
        "id": "hR3jVLAkbTuc"
      },
      "source": [
        "In these examples, the names of the exceptions are `ZeroDivisionError`, `NameError` and\n",
        "`TypeError`. These exception names are quite explicit and you can get the whole list of built-\n",
        "in exceptions in the [documentation](https://docs.python.org/3/library/exceptions.html).\n",
        "\n",
        "Although an unhandled *exception* stops the current execution, exceptions are not uncon-\n",
        "ditionally fatal and we can handle them. To do it, we use a `try ... except` statement:"
      ]
    },
    {
      "cell_type": "code",
      "execution_count": null,
      "metadata": {
        "id": "GdomN-BgbTuc",
        "colab": {
          "base_uri": "https://localhost:8080/"
        },
        "outputId": "a00d10dc-bf5d-431d-ce99-d2a8838de09b"
      },
      "outputs": [
        {
          "output_type": "stream",
          "name": "stdout",
          "text": [
            "Error, division by zero!\n"
          ]
        }
      ],
      "source": [
        "a = 0\n",
        "\n",
        "try:\n",
        "    inv = 1 / a\n",
        "except ZeroDivisionError:\n",
        "    print('Error, division by zero!')"
      ]
    },
    {
      "cell_type": "markdown",
      "metadata": {
        "id": "ZilAW1z4bTuc"
      },
      "source": [
        "First, the block of code between the try and except keywords is executed. If an exception\n",
        "occurs during this execution, the remainder of the code is skipped and, if the exception type\n",
        "matches the name after except, the associated clause is executed. Otherwise, execution of\n",
        "the try statement is finished and the block of code after except is skipped. Such a statement\n",
        "can have more than one except clause:"
      ]
    },
    {
      "cell_type": "code",
      "execution_count": null,
      "metadata": {
        "id": "8dAdqnc6bTud",
        "colab": {
          "base_uri": "https://localhost:8080/"
        },
        "outputId": "4ad76e7d-449c-4215-a83d-32f5fd07df40"
      },
      "outputs": [
        {
          "output_type": "stream",
          "name": "stdout",
          "text": [
            "Wow, division by zero!\n"
          ]
        }
      ],
      "source": [
        "def some_function():\n",
        "    return 1 / 0\n",
        "\n",
        "\n",
        "def some_other_function():\n",
        "    return [1, 2, 3][4]\n",
        "\n",
        "\n",
        "try:\n",
        "    # Run some commands which can produce exceptions\n",
        "    some_function()\n",
        "    some_other_function()\n",
        "except ZeroDivisionError:\n",
        "    print('Wow, division by zero!')\n",
        "except IndexError:\n",
        "    print('Argh, out of range!')\n",
        "except KeyboardInterrupt:\n",
        "    print('Why did you stop me?')"
      ]
    },
    {
      "cell_type": "code",
      "execution_count": null,
      "metadata": {
        "id": "IwxF77TjbTud",
        "colab": {
          "base_uri": "https://localhost:8080/"
        },
        "outputId": "9aa4bbc2-3744-4c20-8dde-7c7808fde8a1"
      },
      "outputs": [
        {
          "output_type": "stream",
          "name": "stdout",
          "text": [
            "Oops, something happened!\n"
          ]
        }
      ],
      "source": [
        "try:\n",
        "    some_function()\n",
        "except (ZeroDivisionError, IndexError, KeyboardInterrupt):\n",
        "    # More than one type can be handled in one clause\n",
        "    print('Oops, something happened!')"
      ]
    },
    {
      "cell_type": "markdown",
      "metadata": {
        "id": "bT44uxtmbTud"
      },
      "source": [
        "When an `except` statement is executed, we say that the exception has been *catched*. If\n",
        "an exception is not catched by none `except` statement, it remains unhandled. Note that a\n",
        "catched exception can be handled as any other object with the help of `as`:"
      ]
    },
    {
      "cell_type": "code",
      "execution_count": null,
      "metadata": {
        "id": "mb6ifg-1bTud",
        "colab": {
          "base_uri": "https://localhost:8080/"
        },
        "outputId": "861bf2c4-b3de-41d8-9d1c-0ff7be9e8329"
      },
      "outputs": [
        {
          "output_type": "stream",
          "name": "stdout",
          "text": [
            "<class 'ZeroDivisionError'>\n",
            "division by zero\n"
          ]
        }
      ],
      "source": [
        "try:\n",
        "    1 / 0\n",
        "except ZeroDivisionError as e:\n",
        "    print(type(e)) # Exception type\n",
        "    print(e) # Message about what happened"
      ]
    },
    {
      "cell_type": "markdown",
      "metadata": {
        "id": "sQF2brjLbTud"
      },
      "source": [
        "We have seen how to catch exceptions, let now see how we can raise them. The `raise`\n",
        "statement is used to force a specified exception to occur:"
      ]
    },
    {
      "cell_type": "code",
      "execution_count": null,
      "metadata": {
        "id": "-dodJxRmbTud",
        "colab": {
          "base_uri": "https://localhost:8080/",
          "height": 166
        },
        "outputId": "6f3833bb-c232-4d19-86a3-0df933841005"
      },
      "outputs": [
        {
          "output_type": "error",
          "ename": "NameError",
          "evalue": "ignored",
          "traceback": [
            "\u001b[0;31m---------------------------------------------------------------------------\u001b[0m",
            "\u001b[0;31mNameError\u001b[0m                                 Traceback (most recent call last)",
            "\u001b[0;32m<ipython-input-60-93714b213e60>\u001b[0m in \u001b[0;36m<module>\u001b[0;34m\u001b[0m\n\u001b[0;32m----> 1\u001b[0;31m \u001b[0;32mraise\u001b[0m \u001b[0mNameError\u001b[0m\u001b[0;34m(\u001b[0m\u001b[0;34m'Bobby'\u001b[0m\u001b[0;34m)\u001b[0m\u001b[0;34m\u001b[0m\u001b[0;34m\u001b[0m\u001b[0m\n\u001b[0m",
            "\u001b[0;31mNameError\u001b[0m: Bobby"
          ]
        }
      ],
      "source": [
        "raise NameError('Bobby')"
      ]
    },
    {
      "cell_type": "markdown",
      "metadata": {
        "id": "1oFmIiwJbTue"
      },
      "source": [
        "You can raise built-in exception types to deal with errors in your scripts. Usually, an exception\n",
        "takes only one argument and this is its associated message. For instance, the exception type\n",
        "`TypeError` is commonly used to indicate an inappropriate type:"
      ]
    },
    {
      "cell_type": "code",
      "execution_count": null,
      "metadata": {
        "id": "KUJ6dKtHbTue",
        "colab": {
          "base_uri": "https://localhost:8080/",
          "height": 322
        },
        "outputId": "6b3527cb-4319-4d9d-957e-2487f93eb114"
      },
      "outputs": [
        {
          "output_type": "error",
          "ename": "TypeError",
          "evalue": "ignored",
          "traceback": [
            "\u001b[0;31m---------------------------------------------------------------------------\u001b[0m",
            "\u001b[0;31mTypeError\u001b[0m                                 Traceback (most recent call last)",
            "\u001b[0;32m<ipython-input-63-07980772a8e7>\u001b[0m in \u001b[0;36m<module>\u001b[0;34m\u001b[0m\n\u001b[1;32m      4\u001b[0m     \u001b[0mprint\u001b[0m\u001b[0;34m(\u001b[0m\u001b[0;34m'I got an integer! This is {}'\u001b[0m\u001b[0;34m.\u001b[0m\u001b[0mformat\u001b[0m\u001b[0;34m(\u001b[0m\u001b[0mn\u001b[0m\u001b[0;34m)\u001b[0m\u001b[0;34m)\u001b[0m\u001b[0;34m\u001b[0m\u001b[0;34m\u001b[0m\u001b[0m\n\u001b[1;32m      5\u001b[0m \u001b[0;34m\u001b[0m\u001b[0m\n\u001b[0;32m----> 6\u001b[0;31m \u001b[0mi_want_integer\u001b[0m\u001b[0;34m(\u001b[0m\u001b[0;34m\"HI\"\u001b[0m\u001b[0;34m)\u001b[0m\u001b[0;34m\u001b[0m\u001b[0;34m\u001b[0m\u001b[0m\n\u001b[0m",
            "\u001b[0;32m<ipython-input-63-07980772a8e7>\u001b[0m in \u001b[0;36mi_want_integer\u001b[0;34m(n)\u001b[0m\n\u001b[1;32m      1\u001b[0m \u001b[0;32mdef\u001b[0m \u001b[0mi_want_integer\u001b[0m\u001b[0;34m(\u001b[0m\u001b[0mn\u001b[0m\u001b[0;34m)\u001b[0m\u001b[0;34m:\u001b[0m\u001b[0;34m\u001b[0m\u001b[0;34m\u001b[0m\u001b[0m\n\u001b[1;32m      2\u001b[0m     \u001b[0;32mif\u001b[0m \u001b[0;32mnot\u001b[0m \u001b[0misinstance\u001b[0m\u001b[0;34m(\u001b[0m\u001b[0mn\u001b[0m\u001b[0;34m,\u001b[0m \u001b[0mint\u001b[0m\u001b[0;34m)\u001b[0m\u001b[0;34m:\u001b[0m\u001b[0;34m\u001b[0m\u001b[0;34m\u001b[0m\u001b[0m\n\u001b[0;32m----> 3\u001b[0;31m         \u001b[0;32mraise\u001b[0m \u001b[0mTypeError\u001b[0m\u001b[0;34m(\u001b[0m\u001b[0;34m'n has to be an integer'\u001b[0m\u001b[0;34m)\u001b[0m\u001b[0;34m\u001b[0m\u001b[0;34m\u001b[0m\u001b[0m\n\u001b[0m\u001b[1;32m      4\u001b[0m     \u001b[0mprint\u001b[0m\u001b[0;34m(\u001b[0m\u001b[0;34m'I got an integer! This is {}'\u001b[0m\u001b[0;34m.\u001b[0m\u001b[0mformat\u001b[0m\u001b[0;34m(\u001b[0m\u001b[0mn\u001b[0m\u001b[0;34m)\u001b[0m\u001b[0;34m)\u001b[0m\u001b[0;34m\u001b[0m\u001b[0;34m\u001b[0m\u001b[0m\n\u001b[1;32m      5\u001b[0m \u001b[0;34m\u001b[0m\u001b[0m\n",
            "\u001b[0;31mTypeError\u001b[0m: n has to be an integer"
          ]
        }
      ],
      "source": [
        "def i_want_integer(n):\n",
        "    if not isinstance(n, int):\n",
        "        raise TypeError('n has to be an integer')\n",
        "    print('I got an integer! This is {}'.format(n))\n",
        "\n",
        "i_want_integer(\"HI\")"
      ]
    },
    {
      "cell_type": "code",
      "execution_count": null,
      "metadata": {
        "id": "lO_vhiEXbTue",
        "colab": {
          "base_uri": "https://localhost:8080/"
        },
        "outputId": "6807f806-120c-40e7-b4d0-22022e924b49"
      },
      "outputs": [
        {
          "output_type": "stream",
          "name": "stdout",
          "text": [
            "I got an integer! This is 42\n"
          ]
        }
      ],
      "source": [
        "i_want_integer(42)"
      ]
    },
    {
      "cell_type": "markdown",
      "metadata": {
        "id": "GpoJTbKnbTue"
      },
      "source": [
        "For now, we cannot build custom exception types because we need to introduce the concept\n",
        "of classes before (see further). However, we can introduce the basic type for any custom\n",
        "exception, the aptly named `Exception`. Creating such an object, we can pass an arbitrary\n",
        "arguments list and, handling it, these arguments are available as a tuple:"
      ]
    },
    {
      "cell_type": "code",
      "execution_count": null,
      "metadata": {
        "id": "fvt6EofNbTue"
      },
      "outputs": [],
      "source": [
        "try:\n",
        "    # Force an Exception to occur\n",
        "    raise Exception('Cindy', 81)\n",
        "except Exception as e:\n",
        "    print(type(e))\n",
        "    print(e.args) # Arguments stored in .args\n",
        "    print(e) # Print arguments"
      ]
    },
    {
      "cell_type": "markdown",
      "metadata": {
        "id": "ilr4Z_jlbTue"
      },
      "source": [
        "### Input and output"
      ]
    },
    {
      "cell_type": "markdown",
      "metadata": {
        "id": "W3ppGVV5bTue"
      },
      "source": [
        "Allowing the user to interact with a script is a very common feature. In order to get values\n",
        "from the user, we have already seen the built-in function `input`. In the other way, to display\n",
        "some informations, we can use the function `print` and the method `format` of the strings. The\n",
        "interested reader is encouraged to look for more details about string methods (`str.ljust`,\n",
        "`str.center`, `str.rjust`, `str.zfill`, ...).\n",
        "\n",
        "We now focus on handling files with Python. Before using it, a file has to be opened with\n",
        "open which return a file object. This function takes two arguments, the name of the file to\n",
        "open and the *mode* to use. The mode involves announcing what we want to do with the file:\n",
        "`'r'` when the file will only be read, `'w'` for only writing (an existing file with the same name\n",
        "will be erased), `'a'` opens the file for appending to the end and `'r+'` opens the file for both reading and writing. By default, a file is opened in read only mode. At the end, the file object\n",
        "can be closed with `close`."
      ]
    },
    {
      "cell_type": "code",
      "execution_count": null,
      "metadata": {
        "id": "JWFIUHBMbTue",
        "colab": {
          "base_uri": "https://localhost:8080/",
          "height": 184
        },
        "outputId": "29582c78-89c1-4d51-e5fe-0d7c1d5d3c8a"
      },
      "outputs": [
        {
          "output_type": "error",
          "ename": "FileNotFoundError",
          "evalue": "ignored",
          "traceback": [
            "\u001b[0;31m---------------------------------------------------------------------------\u001b[0m",
            "\u001b[0;31mFileNotFoundError\u001b[0m                         Traceback (most recent call last)",
            "\u001b[0;32m<ipython-input-65-d882086529be>\u001b[0m in \u001b[0;36m<module>\u001b[0;34m\u001b[0m\n\u001b[1;32m      1\u001b[0m \u001b[0;31m# Try to open some nonexistent file\u001b[0m\u001b[0;34m\u001b[0m\u001b[0;34m\u001b[0m\u001b[0;34m\u001b[0m\u001b[0m\n\u001b[0;32m----> 2\u001b[0;31m \u001b[0mf\u001b[0m \u001b[0;34m=\u001b[0m \u001b[0mopen\u001b[0m\u001b[0;34m(\u001b[0m\u001b[0;34m'my_text_file.txt'\u001b[0m\u001b[0;34m)\u001b[0m \u001b[0;31m# FileNotFoundError\u001b[0m\u001b[0;34m\u001b[0m\u001b[0;34m\u001b[0m\u001b[0m\n\u001b[0m",
            "\u001b[0;31mFileNotFoundError\u001b[0m: [Errno 2] No such file or directory: 'my_text_file.txt'"
          ]
        }
      ],
      "source": [
        "# Try to open some nonexistent file\n",
        "f = open('my_text_file.txt') # FileNotFoundError"
      ]
    },
    {
      "cell_type": "code",
      "execution_count": null,
      "metadata": {
        "id": "KRIV5wCJbTuf"
      },
      "outputs": [],
      "source": [
        "# Create and open a text file\n",
        "!touch my_text_file.txt"
      ]
    },
    {
      "cell_type": "code",
      "execution_count": null,
      "metadata": {
        "id": "-8eUoeX9bTuf",
        "colab": {
          "base_uri": "https://localhost:8080/"
        },
        "outputId": "4c82eac3-a342-4091-93cf-4a8f1c6cd2ac"
      },
      "outputs": [
        {
          "output_type": "stream",
          "name": "stdout",
          "text": [
            "<class '_io.TextIOWrapper'>\n"
          ]
        }
      ],
      "source": [
        "# A new file appears in the working directory\n",
        "f = open('my_text_file.txt', 'w')\n",
        "print(type(f))\n",
        "f.close() # Close the file"
      ]
    },
    {
      "cell_type": "code",
      "execution_count": null,
      "metadata": {
        "id": "a41qY-aGbTuf"
      },
      "outputs": [],
      "source": [
        "# Reopen the file in read/write mode\n",
        "f = open('my_text_file.txt', 'r+')\n",
        "f.close()"
      ]
    },
    {
      "cell_type": "markdown",
      "metadata": {
        "id": "ds8YhxS3bTuf"
      },
      "source": [
        "We do not mention binary files here. Indeed, opening files like the above example implicitly\n",
        "considers that the file is a text file. This mainly matters for dealing with line endings but it\n",
        "can be tragic if you want to handle binary files like JPEG files, for instance. We do not give\n",
        "more details about that in this document but you can refer to the [documentation](https://docs.python.org/3.4/library/functions.html#open) about the\n",
        "function `open`.\n",
        "\n",
        "The method `read` reads the whole file and returns a string with its content. To write a\n",
        "string to a file, the method `write` is used. Be careful that `write` can only write strings, so\n",
        "any non string data has to be converted to a string before being written."
      ]
    },
    {
      "cell_type": "code",
      "execution_count": null,
      "metadata": {
        "id": "j5SAnUw4bTuf",
        "colab": {
          "base_uri": "https://localhost:8080/"
        },
        "outputId": "d43bde7a-49f5-4b47-c6ca-c401e7fdd56d"
      },
      "outputs": [
        {
          "output_type": "stream",
          "name": "stdout",
          "text": [
            "\n"
          ]
        }
      ],
      "source": [
        "f = open('my_text_file.txt', 'r+')\n",
        "content = f.read()\n",
        "print(content) # An empty string for an empty file"
      ]
    },
    {
      "cell_type": "code",
      "execution_count": null,
      "metadata": {
        "id": "u9IwtDycbTuf",
        "colab": {
          "base_uri": "https://localhost:8080/"
        },
        "outputId": "f9894124-9aaa-4186-ef1c-507be16e2702"
      },
      "outputs": [
        {
          "output_type": "execute_result",
          "data": {
            "text/plain": [
              "15"
            ]
          },
          "metadata": {},
          "execution_count": 72
        }
      ],
      "source": [
        "f.write('Hi Pythonista!\\n')"
      ]
    },
    {
      "cell_type": "code",
      "execution_count": null,
      "metadata": {
        "id": "HkkTqZnsbTuf",
        "colab": {
          "base_uri": "https://localhost:8080/"
        },
        "outputId": "4199e40e-7d81-4cbb-8d2c-170bfe1af6c0"
      },
      "outputs": [
        {
          "output_type": "execute_result",
          "data": {
            "text/plain": [
              "13"
            ]
          },
          "metadata": {},
          "execution_count": 73
        }
      ],
      "source": [
        "f.write('How are you?\\n')"
      ]
    },
    {
      "cell_type": "code",
      "execution_count": null,
      "metadata": {
        "id": "6ifjvvmZbTuf",
        "colab": {
          "base_uri": "https://localhost:8080/"
        },
        "outputId": "21cd82a0-9da3-4c36-a7f5-8bb213a6b43a"
      },
      "outputs": [
        {
          "output_type": "execute_result",
          "data": {
            "text/plain": [
              "4"
            ]
          },
          "metadata": {},
          "execution_count": 74
        }
      ],
      "source": [
        "f.write('Bye\\n')"
      ]
    },
    {
      "cell_type": "code",
      "execution_count": null,
      "metadata": {
        "id": "KOnNe8I-bTug",
        "colab": {
          "base_uri": "https://localhost:8080/",
          "height": 165
        },
        "outputId": "56376109-35c5-44b1-f1ec-ffca4ffe0297"
      },
      "outputs": [
        {
          "output_type": "error",
          "ename": "TypeError",
          "evalue": "ignored",
          "traceback": [
            "\u001b[0;31m---------------------------------------------------------------------------\u001b[0m",
            "\u001b[0;31mTypeError\u001b[0m                                 Traceback (most recent call last)",
            "\u001b[0;32m<ipython-input-75-a352a9ef0490>\u001b[0m in \u001b[0;36m<module>\u001b[0;34m\u001b[0m\n\u001b[0;32m----> 1\u001b[0;31m \u001b[0mf\u001b[0m\u001b[0;34m.\u001b[0m\u001b[0mwrite\u001b[0m\u001b[0;34m(\u001b[0m\u001b[0;36m42\u001b[0m\u001b[0;34m)\u001b[0m \u001b[0;31m# Error, write only string!\u001b[0m\u001b[0;34m\u001b[0m\u001b[0;34m\u001b[0m\u001b[0m\n\u001b[0m",
            "\u001b[0;31mTypeError\u001b[0m: write() argument must be str, not int"
          ]
        }
      ],
      "source": [
        "f.write(42) # Error, write only string!"
      ]
    },
    {
      "cell_type": "code",
      "execution_count": null,
      "metadata": {
        "id": "UDzQDIPqbTug"
      },
      "outputs": [],
      "source": [
        "f.write(str(42)) # OK\n",
        "f.close() # Open the file with a text editor to see its content"
      ]
    },
    {
      "cell_type": "code",
      "execution_count": null,
      "metadata": {
        "id": "rUXxTxVwbTug",
        "colab": {
          "base_uri": "https://localhost:8080/"
        },
        "outputId": "00dee31b-600b-4063-b85d-676640e86b4d"
      },
      "outputs": [
        {
          "output_type": "stream",
          "name": "stdout",
          "text": [
            "Hi Pythonista!\n",
            "How are you?\n",
            "Bye\n",
            "42\n"
          ]
        }
      ],
      "source": [
        "f = open('my_text_file.txt', 'r') # Reopen in read only\n",
        "content = f.read()\n",
        "print(content)"
      ]
    },
    {
      "cell_type": "markdown",
      "metadata": {
        "id": "3hZjonOKbTug"
      },
      "source": [
        "To read a file line by line, there is the method `readline` but you can also use the file as an\n",
        "iterable object and directly plug it into a `for` loop!"
      ]
    },
    {
      "cell_type": "code",
      "execution_count": null,
      "metadata": {
        "id": "CrWrh5p-bTug",
        "colab": {
          "base_uri": "https://localhost:8080/",
          "height": 36
        },
        "outputId": "450a6e4f-0ed3-4742-de1e-e38c60dcc1ba"
      },
      "outputs": [
        {
          "output_type": "execute_result",
          "data": {
            "text/plain": [
              "'Hi Pythonista!\\n'"
            ],
            "application/vnd.google.colaboratory.intrinsic+json": {
              "type": "string"
            }
          },
          "metadata": {},
          "execution_count": 78
        }
      ],
      "source": [
        "f = open('my_text_file.txt', 'r')\n",
        "f.readline()"
      ]
    },
    {
      "cell_type": "code",
      "execution_count": null,
      "metadata": {
        "id": "U90jkSOWbTug",
        "colab": {
          "base_uri": "https://localhost:8080/",
          "height": 36
        },
        "outputId": "d5e6d813-7299-4201-cd4f-164787f793e1"
      },
      "outputs": [
        {
          "output_type": "execute_result",
          "data": {
            "text/plain": [
              "'How are you?\\n'"
            ],
            "application/vnd.google.colaboratory.intrinsic+json": {
              "type": "string"
            }
          },
          "metadata": {},
          "execution_count": 79
        }
      ],
      "source": [
        "f.readline()"
      ]
    },
    {
      "cell_type": "code",
      "execution_count": null,
      "metadata": {
        "id": "_DO-u0k4bTug",
        "colab": {
          "base_uri": "https://localhost:8080/",
          "height": 36
        },
        "outputId": "6cca6b41-8d96-44d8-b347-742443aa17d5"
      },
      "outputs": [
        {
          "output_type": "execute_result",
          "data": {
            "text/plain": [
              "'Bye\\n'"
            ],
            "application/vnd.google.colaboratory.intrinsic+json": {
              "type": "string"
            }
          },
          "metadata": {},
          "execution_count": 80
        }
      ],
      "source": [
        "f.readline()"
      ]
    },
    {
      "cell_type": "code",
      "execution_count": null,
      "metadata": {
        "id": "8GCNzVMNbTuh"
      },
      "outputs": [],
      "source": [
        "f.close()"
      ]
    },
    {
      "cell_type": "code",
      "execution_count": null,
      "metadata": {
        "id": "z9JCov7vbTuh",
        "colab": {
          "base_uri": "https://localhost:8080/"
        },
        "outputId": "b9f2548a-ae3e-4e9f-ca9a-18f23dc186d8"
      },
      "outputs": [
        {
          "output_type": "stream",
          "name": "stdout",
          "text": [
            "Line 1: Hi Pythonista!\n",
            "\n",
            "Line 2: How are you?\n",
            "\n",
            "Line 3: Bye\n",
            "\n",
            "Line 4: 42\n"
          ]
        }
      ],
      "source": [
        "f = open('my_text_file.txt', 'r')\n",
        "i = 1\n",
        "\n",
        "for line in f:\n",
        "    print('Line {}: {}'.format(i, line))\n",
        "    i += 1\n",
        "\n",
        "f.close()"
      ]
    },
    {
      "cell_type": "markdown",
      "metadata": {
        "id": "L-LAXHl6bTuh"
      },
      "source": [
        "When you deal with a file, you silently use an object that contain the current position in the\n",
        "file, *i.e.* the position where the next read will occur. You do not really need to take care of\n",
        "that in a first time but, if you want to get this position, you can ask with the method `tell`\n",
        "and modify it with `seek`."
      ]
    },
    {
      "cell_type": "code",
      "execution_count": null,
      "metadata": {
        "id": "KM4jVFr5bTuh",
        "colab": {
          "base_uri": "https://localhost:8080/"
        },
        "outputId": "ee39cc67-498d-465d-eb9a-c93dc30d12a7"
      },
      "outputs": [
        {
          "output_type": "execute_result",
          "data": {
            "text/plain": [
              "0"
            ]
          },
          "metadata": {},
          "execution_count": 69
        }
      ],
      "source": [
        "f = open('my_text_file.txt', 'r')\n",
        "f.tell()"
      ]
    },
    {
      "cell_type": "code",
      "execution_count": null,
      "metadata": {
        "id": "til3y_CebTuh",
        "colab": {
          "base_uri": "https://localhost:8080/",
          "height": 35
        },
        "outputId": "afef8947-ba72-4538-cc6a-6487d3a14631"
      },
      "outputs": [
        {
          "output_type": "execute_result",
          "data": {
            "text/plain": [
              "''"
            ],
            "application/vnd.google.colaboratory.intrinsic+json": {
              "type": "string"
            }
          },
          "metadata": {},
          "execution_count": 70
        }
      ],
      "source": [
        "f.readline()"
      ]
    },
    {
      "cell_type": "code",
      "execution_count": null,
      "metadata": {
        "id": "W424YK-4bTuh",
        "colab": {
          "base_uri": "https://localhost:8080/"
        },
        "outputId": "1ce63d5d-e417-463b-b20f-4883db0a05a1"
      },
      "outputs": [
        {
          "output_type": "execute_result",
          "data": {
            "text/plain": [
              "0"
            ]
          },
          "metadata": {},
          "execution_count": 71
        }
      ],
      "source": [
        "f.tell()"
      ]
    },
    {
      "cell_type": "code",
      "execution_count": null,
      "metadata": {
        "id": "CTbhlqa1bTuh",
        "colab": {
          "base_uri": "https://localhost:8080/"
        },
        "outputId": "9d54f843-9ee4-4bb6-b2d1-dc92a0768f71"
      },
      "outputs": [
        {
          "output_type": "execute_result",
          "data": {
            "text/plain": [
              "0"
            ]
          },
          "metadata": {},
          "execution_count": 72
        }
      ],
      "source": [
        "f.seek(0) # Back to the beginning"
      ]
    },
    {
      "cell_type": "code",
      "execution_count": null,
      "metadata": {
        "id": "fEmHMioCbTui"
      },
      "outputs": [],
      "source": [
        "f.readline() # First line again"
      ]
    },
    {
      "cell_type": "code",
      "execution_count": null,
      "metadata": {
        "id": "cn-hBxs-bTui",
        "colab": {
          "base_uri": "https://localhost:8080/"
        },
        "outputId": "a909623b-6582-45ef-f05f-78430711186d"
      },
      "outputs": [
        {
          "output_type": "execute_result",
          "data": {
            "text/plain": [
              "10"
            ]
          },
          "metadata": {},
          "execution_count": 73
        }
      ],
      "source": [
        "f.seek(10) # Next read starts at position 10"
      ]
    },
    {
      "cell_type": "code",
      "execution_count": null,
      "metadata": {
        "id": "3PCrNmG4bTui"
      },
      "outputs": [],
      "source": [
        "f.readline()"
      ]
    },
    {
      "cell_type": "markdown",
      "metadata": {
        "id": "zEVXm5O0bTui"
      },
      "source": [
        "As you can see, a file has to be closed after use. If you forget it, the file will remain open\n",
        "and it can be problematic. To automate the closing and make it easier to handle files, the file\n",
        "object offers a mechanism called a *context*. We will see later how to create such a mechanism\n",
        "for our objects but this is a very useful feature that you can use with a `with ... as` statement."
      ]
    },
    {
      "cell_type": "code",
      "execution_count": null,
      "metadata": {
        "id": "jgQNhMS1bTui",
        "colab": {
          "base_uri": "https://localhost:8080/"
        },
        "outputId": "25ed1060-57be-431a-9abb-b28f5ae538f3"
      },
      "outputs": [
        {
          "output_type": "stream",
          "name": "stdout",
          "text": [
            "Hi Pythonista!\n",
            "How are you?\n",
            "Bye\n",
            "42\n"
          ]
        },
        {
          "output_type": "execute_result",
          "data": {
            "text/plain": [
              "True"
            ]
          },
          "metadata": {},
          "execution_count": 82
        }
      ],
      "source": [
        "with open('my_text_file.txt', 'r') as f:\n",
        "    content = f.read()\n",
        "\n",
        "print(content)\n",
        "f.closed # File has been silently and properly closed"
      ]
    },
    {
      "cell_type": "markdown",
      "metadata": {
        "id": "3zgihjQTbTui"
      },
      "source": [
        "**Questions**\n",
        "\n",
        "- What is returned by the method write?\n",
        "- Understand how the line endings are handled.\n",
        "- Read the [documentation](https://docs.python.org/3.4/library/io.html?highlight=seek#io.TextIOBase.seek) about `seek`. How can you set a position from the end of the file?\n",
        "- Add an option to your function `draw_pine` to draw into a file.\n",
        "- Write a function `draw_pine_from_file` to draw a pine with options read from a file."
      ]
    },
    {
      "cell_type": "markdown",
      "metadata": {
        "id": "PXgCU4lmbTui"
      },
      "source": [
        "### Classes"
      ]
    },
    {
      "cell_type": "markdown",
      "metadata": {
        "id": "lKb4d1UUbTui"
      },
      "source": [
        "This is beyond the scope of this document to provide a complete introduction to object\n",
        "oriented programming. In this section, we simply introduce the basics to define classes and\n",
        "create custom objects in Python.\n",
        "\n",
        "To say it simply, a class is a structure which can contain variables, called *attributes*, and\n",
        "functions, called *methods*, which can be accessed with a dot `.` symbol. A class is used as\n",
        "template to contruct objects, we say that an object *instantiates* a class. A class can be\n",
        "documented with the help of a docstring in the same way we described previously."
      ]
    },
    {
      "cell_type": "code",
      "execution_count": null,
      "metadata": {
        "id": "dZcgs9OvbTuj"
      },
      "outputs": [],
      "source": [
        "class MyClass:\n",
        "    \"\"\"Documentation goes here.\"\"\"\n",
        "\n",
        "    n = 42 # An attribute\n",
        "\n",
        "    def f(self): # A method, see further for self\n",
        "        return 'I am a method'\n",
        "\n",
        "# Two instances our class\n",
        "obj1 = MyClass()\n",
        "obj2 = MyClass()"
      ]
    },
    {
      "cell_type": "code",
      "execution_count": null,
      "metadata": {
        "id": "zvU8XvCUbTuj",
        "colab": {
          "base_uri": "https://localhost:8080/"
        },
        "outputId": "c3aaa832-f160-4a4c-a422-dd400681c71a"
      },
      "outputs": [
        {
          "output_type": "execute_result",
          "data": {
            "text/plain": [
              "__main__.MyClass"
            ]
          },
          "metadata": {},
          "execution_count": 88
        }
      ],
      "source": [
        "# Object type\n",
        "type(obj1)\n",
        "#type(obj2)"
      ]
    },
    {
      "cell_type": "code",
      "execution_count": null,
      "metadata": {
        "id": "tAsjPH98bTuj",
        "colab": {
          "base_uri": "https://localhost:8080/"
        },
        "outputId": "9dce05c0-e9f4-45ba-9231-fef53c931638"
      },
      "outputs": [
        {
          "output_type": "stream",
          "name": "stdout",
          "text": [
            "42\n"
          ]
        }
      ],
      "source": [
        "# Use the attribute\n",
        "print(obj1.n)"
      ]
    },
    {
      "cell_type": "code",
      "execution_count": null,
      "metadata": {
        "id": "ZyyakIbsbTuj",
        "colab": {
          "base_uri": "https://localhost:8080/"
        },
        "outputId": "2a3a171b-5769-4305-da71-0d37915f1478"
      },
      "outputs": [
        {
          "output_type": "stream",
          "name": "stdout",
          "text": [
            "17\n"
          ]
        }
      ],
      "source": [
        "obj1.n = 17\n",
        "print(obj1.n)"
      ]
    },
    {
      "cell_type": "code",
      "execution_count": null,
      "metadata": {
        "id": "dpR9J5PPbTuj",
        "colab": {
          "base_uri": "https://localhost:8080/"
        },
        "outputId": "c942220f-3d31-43e7-8ef2-8d716f1a70bd"
      },
      "outputs": [
        {
          "output_type": "stream",
          "name": "stdout",
          "text": [
            "42\n"
          ]
        }
      ],
      "source": [
        "# Value is in the scope of the instance, not the one of the class\n",
        "print(obj2.n)"
      ]
    },
    {
      "cell_type": "code",
      "execution_count": null,
      "metadata": {
        "id": "ghKc3MJWbTuj",
        "colab": {
          "base_uri": "https://localhost:8080/",
          "height": 35
        },
        "outputId": "a6794928-7c68-4e76-bf07-b5f8442bf666"
      },
      "outputs": [
        {
          "output_type": "execute_result",
          "data": {
            "text/plain": [
              "'I am a method'"
            ],
            "application/vnd.google.colaboratory.intrinsic+json": {
              "type": "string"
            }
          },
          "metadata": {},
          "execution_count": 80
        }
      ],
      "source": [
        "# Call the method\n",
        "obj1.f()"
      ]
    },
    {
      "cell_type": "markdown",
      "metadata": {
        "id": "FEnEU1MtbTuj"
      },
      "source": [
        "The role of a class is to *encapsulate* values and mechanisms to provide an interface to the user\n",
        "for some specific purpose. Before giving more details about classes, we have to note some\n",
        "special syntactic features in the class definition. Such a definition is introduced by the word\n",
        "`class` followed by the name of the class. Then, you can define attributes and methods. As illustrated in the example, an attribute is a variable defined in the scope of the instance. This\n",
        "point is important and actually not well illustrated by our class `MyClass`. Indeed, defining\n",
        "an attribute in the class definition like we did for `n` provide a reference to the class that can\n",
        "be overwritten in an instance. This can be problematic for mutable types as we explained\n",
        "previously."
      ]
    },
    {
      "cell_type": "code",
      "execution_count": null,
      "metadata": {
        "id": "vn_UH3b5bTuk",
        "colab": {
          "base_uri": "https://localhost:8080/"
        },
        "outputId": "74d5c3f3-0599-471a-dbbb-475aefa15985"
      },
      "outputs": [
        {
          "output_type": "stream",
          "name": "stdout",
          "text": [
            "42\n",
            "[1, 2, 3]\n"
          ]
        }
      ],
      "source": [
        "class ClassWithAttributes:\n",
        "    n = 42\n",
        "    v = [1, 2, 3] # Mutable attribute\n",
        "\n",
        "# Class-level attributes\n",
        "print(ClassWithAttributes.n)\n",
        "print(ClassWithAttributes.v)"
      ]
    },
    {
      "cell_type": "code",
      "execution_count": null,
      "metadata": {
        "id": "NCeiKHCebTuk"
      },
      "outputs": [],
      "source": [
        "# Instance-level attributes\n",
        "x = ClassWithAttributes()\n",
        "print(x.n)\n",
        "print(x.v)"
      ]
    },
    {
      "cell_type": "code",
      "execution_count": null,
      "metadata": {
        "id": "VmiOE5pEbTuk"
      },
      "outputs": [],
      "source": [
        "# Attributes can be overwritten ...\n",
        "x.n = 17\n",
        "print(x.n) # Instance-level\n",
        "print(ClassWithAttributes.n) # Class-level"
      ]
    },
    {
      "cell_type": "code",
      "execution_count": null,
      "metadata": {
        "id": "jLjeQgSlbTuk"
      },
      "outputs": [],
      "source": [
        "# ... but be careful with mutable types\n",
        "x.v[1] = 17\n",
        "print(x.v) # Instance-level\n",
        "print(ClassWithAttributes.v) # Class-level"
      ]
    },
    {
      "cell_type": "markdown",
      "metadata": {
        "id": "VORlCvKgbTun"
      },
      "source": [
        "Class-level attributes can be useful for specific role but to avoid problems like the one\n",
        "illustrated in the previous example, the attributes should be defined at instance-level. To do\n",
        "it, we need a reference to the instance itself which has not already been created . . . it is a\n",
        "vicious circle! The solution is based on the statement usually denoted by `self` (this word is\n",
        "a simple convention) which is used to precisely designate this reference to an instance. The\n",
        "common way to define instance-level attributes is to do it in a special method `__init__`, called\n",
        "constructor, that receives `self` as **first** argument, potentially followed by other arguments,\n",
        "and that is silently called when the object is created."
      ]
    },
    {
      "cell_type": "code",
      "execution_count": null,
      "metadata": {
        "id": "E59Op7aebTun"
      },
      "outputs": [],
      "source": [
        "class ClassWithConstructor:\n",
        "    \n",
        "    def __init__(self):\n",
        "        self.n = 42 # Instance-level attribute"
      ]
    },
    {
      "cell_type": "code",
      "execution_count": null,
      "metadata": {
        "id": "woX-H8FUbTun",
        "colab": {
          "base_uri": "https://localhost:8080/",
          "height": 182
        },
        "outputId": "e82f4ff1-ebfd-4d47-eda9-7452c8f128e8"
      },
      "outputs": [
        {
          "output_type": "error",
          "ename": "AttributeError",
          "evalue": "ignored",
          "traceback": [
            "\u001b[0;31m---------------------------------------------------------------------------\u001b[0m",
            "\u001b[0;31mAttributeError\u001b[0m                            Traceback (most recent call last)",
            "\u001b[0;32m<ipython-input-91-08cf96eed704>\u001b[0m in \u001b[0;36m<module>\u001b[0;34m\u001b[0m\n\u001b[1;32m      1\u001b[0m \u001b[0;31m# No more class-level attribute\u001b[0m\u001b[0;34m\u001b[0m\u001b[0;34m\u001b[0m\u001b[0;34m\u001b[0m\u001b[0m\n\u001b[0;32m----> 2\u001b[0;31m \u001b[0mprint\u001b[0m\u001b[0;34m(\u001b[0m\u001b[0mClassWithConstructor\u001b[0m\u001b[0;34m.\u001b[0m\u001b[0mn\u001b[0m\u001b[0;34m)\u001b[0m\u001b[0;34m\u001b[0m\u001b[0;34m\u001b[0m\u001b[0m\n\u001b[0m",
            "\u001b[0;31mAttributeError\u001b[0m: type object 'ClassWithConstructor' has no attribute 'n'"
          ]
        }
      ],
      "source": [
        "# No more class-level attribute\n",
        "print(ClassWithConstructor.n)"
      ]
    },
    {
      "cell_type": "code",
      "execution_count": null,
      "metadata": {
        "id": "hx7lPxKhbTuo",
        "colab": {
          "base_uri": "https://localhost:8080/"
        },
        "outputId": "13a9ab83-8c90-4cde-8f08-46ac2ef66023"
      },
      "outputs": [
        {
          "output_type": "stream",
          "name": "stdout",
          "text": [
            "42\n",
            "17\n"
          ]
        }
      ],
      "source": [
        "x = ClassWithConstructor() # Silent call to __init__(self)\n",
        "print(x.n)\n",
        "x.n = 17\n",
        "print(x.n)"
      ]
    },
    {
      "cell_type": "code",
      "execution_count": null,
      "metadata": {
        "id": "xBSlv-FobTuo",
        "colab": {
          "base_uri": "https://localhost:8080/"
        },
        "outputId": "0de5303e-07aa-47a1-b7df-6dac076e5d7e"
      },
      "outputs": [
        {
          "output_type": "stream",
          "name": "stdout",
          "text": [
            "42\n",
            "Hello\n"
          ]
        }
      ],
      "source": [
        "# Constructor can have arguments\n",
        "class ClassWithArgs:\n",
        "    \n",
        "    def __init__(self, a, b='Hello'): # First self, then arguments\n",
        "        self.a = a\n",
        "        self.message = b\n",
        "\n",
        "y = ClassWithArgs(42)\n",
        "print(y.a)\n",
        "print(y.message)"
      ]
    },
    {
      "cell_type": "code",
      "execution_count": null,
      "metadata": {
        "id": "XltdK81NbTuo"
      },
      "outputs": [],
      "source": [
        "z = ClassWithArgs(42, 'Oh yeah!')\n",
        "print(z.a)\n",
        "print(z.message)"
      ]
    },
    {
      "cell_type": "markdown",
      "metadata": {
        "id": "08D2BnRDbTuo"
      },
      "source": [
        "In our first class example, you can note that we have already use `self` as argument for\n",
        "the method `f`. Similarly, if you omit it, the method is defined at class-level but, with it, the\n",
        "method is defined at instance-level which is usually what we want."
      ]
    },
    {
      "cell_type": "code",
      "execution_count": null,
      "metadata": {
        "id": "8n747sLmbTuo"
      },
      "outputs": [],
      "source": [
        "class ClassWithMethods:\n",
        "    \n",
        "    # Constructor\n",
        "    def __init__(self, x):\n",
        "        self.value = x\n",
        "\n",
        "    # Instance-level method\n",
        "    def f1(self):\n",
        "        # Here, self exists because instance exists\n",
        "        print('Value: {}'.format(self.value))\n",
        "\n",
        "    # Class-level method\n",
        "    def f2():\n",
        "        # Here, self does not exist\n",
        "        print('I am at class-level')\n",
        "\n",
        "x = ClassWithMethods(42)\n",
        "x.f1()"
      ]
    },
    {
      "cell_type": "code",
      "execution_count": null,
      "metadata": {
        "id": "oTRtZzYpbTuo"
      },
      "outputs": [],
      "source": [
        "ClassWithMethods.f1() # Error"
      ]
    },
    {
      "cell_type": "code",
      "execution_count": null,
      "metadata": {
        "id": "Rlxdjkc3bTuo"
      },
      "outputs": [],
      "source": [
        "x.f2() # Error"
      ]
    },
    {
      "cell_type": "code",
      "execution_count": null,
      "metadata": {
        "id": "XSBH-4gHbTuo"
      },
      "outputs": [],
      "source": [
        "ClassWithMethods.f2()"
      ]
    },
    {
      "cell_type": "markdown",
      "metadata": {
        "id": "Xg-dd6cobTup"
      },
      "source": [
        "For vocabulary, class-level attributes or methods are said to be static.\n",
        "\n",
        "We have seen that an exception is raised when an error occurs. What happens when an\n",
        "unhandled exception is raised in a constructor? The question is not naive because it is related\n",
        "to the existence of an object. Actually, if an unhandled exception is raised in a constructor,\n",
        "the object is not created and the statement is simply ignored. Then, if the variable already\n",
        "exists, it is not modified."
      ]
    },
    {
      "cell_type": "code",
      "execution_count": null,
      "metadata": {
        "id": "n4oekJllbTup"
      },
      "outputs": [],
      "source": [
        "class Inverse:\n",
        "\n",
        "    def __init__(self, x):\n",
        "        self.value = 1 / x # Ready to raise exception\n",
        "\n",
        "        \n",
        "x = Inverse(2) # No problem\n",
        "print(id(x)); print(x.value) # Object x exists"
      ]
    },
    {
      "cell_type": "code",
      "execution_count": null,
      "metadata": {
        "id": "GWFt2tMBbTup"
      },
      "outputs": [],
      "source": [
        "xx = Inverse(0) # Exception is raised"
      ]
    },
    {
      "cell_type": "code",
      "execution_count": null,
      "metadata": {
        "id": "-nsN9UAfbTup"
      },
      "outputs": [],
      "source": [
        "id(xx) # Object y has not been created"
      ]
    },
    {
      "cell_type": "code",
      "execution_count": null,
      "metadata": {
        "id": "wDASP-GBbTup"
      },
      "outputs": [],
      "source": [
        "x = Inverse(0) # Try to replace x but exception is raised"
      ]
    },
    {
      "cell_type": "code",
      "execution_count": null,
      "metadata": {
        "id": "WnCn0XXibTup"
      },
      "outputs": [],
      "source": [
        "print(id(x)); print(x.value) # Previous line is ignored, x does not change"
      ]
    },
    {
      "cell_type": "markdown",
      "metadata": {
        "id": "1u9fi6vXbTup"
      },
      "source": [
        "The power of object oriented programming mainly comes from the *inheritance* principle.\n",
        "Indeed, we can derive a class from some existing base class in order to adapt it or to enhance\n",
        "it for a specific purpose, for instance. To use this mechanism, you just have to mention the\n",
        "name of the base class between parentheses when you define the derived class."
      ]
    },
    {
      "cell_type": "code",
      "execution_count": null,
      "metadata": {
        "id": "LdfqNyNAbTup"
      },
      "outputs": [],
      "source": [
        "# Base class definition\n",
        "class Base:\n",
        "\n",
        "    def __init__(self):\n",
        "        print('Base constructor')\n",
        "        self.value = 42\n",
        "\n",
        "    def print_value(self):\n",
        "        print('My value is {}'.format(self.value))\n",
        "\n",
        "    def say_hello(self):\n",
        "        print('Hello !')\n",
        "\n",
        "base = Base()"
      ]
    },
    {
      "cell_type": "code",
      "execution_count": null,
      "metadata": {
        "id": "QS-BKYsObTuq"
      },
      "outputs": [],
      "source": [
        "base.print_value()"
      ]
    },
    {
      "cell_type": "code",
      "execution_count": null,
      "metadata": {
        "id": "ebi-14Q7bTuq"
      },
      "outputs": [],
      "source": [
        "base.say_hello()"
      ]
    },
    {
      "cell_type": "code",
      "execution_count": null,
      "metadata": {
        "id": "_Wd2pztLbTuq"
      },
      "outputs": [],
      "source": [
        "# A derived class\n",
        "class Derived1(Base): # Derived inherits from Base\n",
        "\n",
        "    def __init__(self, value):\n",
        "        print('Derived1 constructor')\n",
        "        self.value = value\n",
        "        \n",
        "        \n",
        "derived = Derived1(123) # Note that parent constructor is not called"
      ]
    },
    {
      "cell_type": "code",
      "execution_count": null,
      "metadata": {
        "id": "lDMJMICTbTuq"
      },
      "outputs": [],
      "source": [
        "# Attributes and methods from Base are available\n",
        "print(derived.value)"
      ]
    },
    {
      "cell_type": "code",
      "execution_count": null,
      "metadata": {
        "id": "broefWz3bTuq"
      },
      "outputs": [],
      "source": [
        "derived.print_value()"
      ]
    },
    {
      "cell_type": "markdown",
      "metadata": {
        "id": "DzoouzO8bTuq"
      },
      "source": [
        "derived.say_hello()"
      ]
    },
    {
      "cell_type": "code",
      "execution_count": null,
      "metadata": {
        "id": "JeX6mfvgbTuq"
      },
      "outputs": [],
      "source": [
        "# An other derived class\n",
        "class Derived2(Base):\n",
        "\n",
        "    def __init__(self, value):\n",
        "        print('Derived2 constructor')\n",
        "        self.value = value\n",
        "\n",
        "    def print_value(self): # Methods can be overwritten\n",
        "        print('### Value : {} ###'.format(self.value))\n",
        "\n",
        "\n",
        "derived = Derived2(456)"
      ]
    },
    {
      "cell_type": "code",
      "execution_count": null,
      "metadata": {
        "id": "cHt166IDbTur"
      },
      "outputs": [],
      "source": [
        "derived.print_value() # Overwritten method"
      ]
    },
    {
      "cell_type": "code",
      "execution_count": null,
      "metadata": {
        "id": "9meVIWBTbTur"
      },
      "outputs": [],
      "source": [
        "derived.say_hello() # Original method"
      ]
    },
    {
      "cell_type": "code",
      "execution_count": null,
      "metadata": {
        "id": "N26kS3c2bTur"
      },
      "outputs": [],
      "source": [
        "# Again a derived class\n",
        "class Derived3(Base):\n",
        "\n",
        "    def __init__(self):\n",
        "        # Parent constructor has to be explicitly called, if needed\n",
        "        super().__init__()\n",
        "        print('Derived3 constructor')\n",
        "        \n",
        "\n",
        "derived = Derived3()"
      ]
    },
    {
      "cell_type": "code",
      "execution_count": null,
      "metadata": {
        "id": "9I5VnGEybTur"
      },
      "outputs": [],
      "source": [
        "derived.print_value()"
      ]
    },
    {
      "cell_type": "code",
      "execution_count": null,
      "metadata": {
        "id": "RaHJJ_gtbTur"
      },
      "outputs": [],
      "source": [
        "derived.say_hello()"
      ]
    },
    {
      "cell_type": "markdown",
      "metadata": {
        "id": "WrT_gdcWbTur"
      },
      "source": [
        "This is quite common to check if some object has a given type or if a class inherits from an\n",
        "other given class. The built-in functions `isinstance` and `issubclass` are available for that."
      ]
    },
    {
      "cell_type": "code",
      "execution_count": null,
      "metadata": {
        "id": "k6UQ6EvybTur"
      },
      "outputs": [],
      "source": [
        "isinstance(base, Base)"
      ]
    },
    {
      "cell_type": "code",
      "execution_count": null,
      "metadata": {
        "id": "UxlTmp1VbTur"
      },
      "outputs": [],
      "source": [
        "isinstance(derived, Base) # Derived inherits from Base"
      ]
    },
    {
      "cell_type": "code",
      "execution_count": null,
      "metadata": {
        "id": "onhBsD9AbTus"
      },
      "outputs": [],
      "source": [
        "issubclass(Derived1, Base)"
      ]
    },
    {
      "cell_type": "code",
      "execution_count": null,
      "metadata": {
        "id": "WXR0M8SXbTus"
      },
      "outputs": [],
      "source": [
        "# Note that a class is considered a subclass of itself\n",
        "issubclass(Base, Base)"
      ]
    },
    {
      "cell_type": "markdown",
      "metadata": {
        "id": "FCPRbcfubTus"
      },
      "source": [
        "Of course, we do not have to always inherit from custom classes and we can derive from\n",
        "built-in classes. To illustrate that, let us give a useful example to derive custom exception\n",
        "classes. We have already introduced the [base class](https://docs.python.org/3.4/library/exceptions.html#Exception) `Exception` from which any custom exception class should be derived."
      ]
    },
    {
      "cell_type": "code",
      "execution_count": null,
      "metadata": {
        "id": "7gH0FiNSbTus"
      },
      "outputs": [],
      "source": [
        "class MyException(Exception):\n",
        "\n",
        "    def __init__(self, message, other_arg):\n",
        "        # Calling base constructor allows standard behavior\n",
        "        super().__init__('I am a custom exception\\n'\n",
        "            + '*** Message : {}\\n'.format(message)\n",
        "            + '*** Argument: {}\\n'.format(other_arg)\n",
        "        )\n",
        "        \n",
        "        # Some attributes\n",
        "        self.arg = other_arg\n",
        "        self.message = message\n",
        "\n",
        "def f():\n",
        "    # Custom exception can be raised as other ones\n",
        "    raise MyException('in a bottle', 42)\n",
        "try:\n",
        "    f()\n",
        "except MyException as e:\n",
        "    print('MyException catched!')\n",
        "    print('Argument is {}'.format(e.arg))\n",
        "    print(e) # Inheritance power!"
      ]
    },
    {
      "cell_type": "markdown",
      "metadata": {
        "id": "bcz9b5YnbTus"
      },
      "source": [
        "We have seen the special method `__init__` which defines the class constructor. Actually,\n",
        "there are a lot of other special methods that can be defined in a class to give it some specific\n",
        "behaviors. These data models are described in a devoted [documentation page](https://docs.python.org/3/reference/datamodel.html) and it would\n",
        "be beyond the scope of this document to make an exhaustive review. The special methods are\n",
        "all surrounded by double underscores `__` and are listed in [Section 3.3](https://docs.python.org/3.4/reference/datamodel.html#special-method-names) of the documentation\n",
        "page. Hereafter, we give some examples of such methods."
      ]
    },
    {
      "cell_type": "code",
      "execution_count": null,
      "metadata": {
        "id": "X11vLvrebTus"
      },
      "outputs": [],
      "source": [
        "# A class that can be converted as a string\n",
        "class A:\n",
        "    \n",
        "    def __str__(self):\n",
        "        return 'A object ({})'.format(id(self))\n",
        "\n",
        "a = A()\n",
        "str(a) # Explicit conversion\n",
        "print(a) # Silent call to a.__str__()"
      ]
    },
    {
      "cell_type": "code",
      "execution_count": null,
      "metadata": {
        "id": "qZtozv_NbTus"
      },
      "outputs": [],
      "source": [
        "# A (very) minimal and stupid sequence-like class\n",
        "class B:\n",
        "    \n",
        "    def __len__(self):\n",
        "        # Fixed length of 42 ...\n",
        "        return 42\n",
        "\n",
        "    def __getitem__(self, key):\n",
        "        # Implement read-only self[key]\n",
        "        if isinstance(key, int):\n",
        "            # Dummy content\n",
        "            return key % 2\n",
        "        else:\n",
        "            # Integer key only\n",
        "            raise TypeError('B class allows only integers')\n",
        "\n",
        "b = B()\n",
        "print(len(b))"
      ]
    },
    {
      "cell_type": "code",
      "execution_count": null,
      "metadata": {
        "id": "Z-y-y9i_bTut"
      },
      "outputs": [],
      "source": [
        "print(b['Ni'])"
      ]
    },
    {
      "cell_type": "code",
      "execution_count": null,
      "metadata": {
        "id": "WKneJieQbTut"
      },
      "outputs": [],
      "source": [
        "print(b[17])"
      ]
    },
    {
      "cell_type": "markdown",
      "metadata": {
        "id": "URNv6x0vbTut"
      },
      "source": [
        "**Questions**\n",
        "\n",
        "- Create a class `Pet` which contains two attributes `age` and `name` and a method `get_info` that returns a string with informations about the pet. You should also provide a proper constructor.\n",
        "- Derive two classes `Cat` and `Dog` from Pet and improve the method `get_info` in these specific cases.\n",
        "- Create a custom exception `BadPetAge` to be raised when an error about the age occurs.\n",
        "- Enhance the constructor of `Pet` to raise a `BadPetAge` if `age` is negative.\n",
        "- Add comparison methods to the class `Pet` to order them according to their age. Here are some example behaviours:\n",
        "\n",
        "```python\n",
        "# Example of comparisons\n",
        "felix = Cat('Felix', 5)\n",
        "puppy = Dog('Puppy', 3)\n",
        "\n",
        "felix > puppy # Should return True\n",
        "puppy > puppy # Should return False\n",
        "felix <= puppy # Should return False\n",
        "```\n",
        "\n",
        "- Find in the documentation how to allow your class to be used through a context `with ... as`."
      ]
    },
    {
      "cell_type": "markdown",
      "metadata": {
        "id": "OoMGIFSObTut"
      },
      "source": [
        "## Extending Python with modules"
      ]
    },
    {
      "cell_type": "markdown",
      "metadata": {
        "id": "xIbFWZZqbTut"
      },
      "source": [
        "### What is a Python module?"
      ]
    },
    {
      "cell_type": "markdown",
      "metadata": {
        "id": "GMzaV0gTbTut"
      },
      "source": [
        "If we restrict ourselves to built-in types and functions, we will have to define a lot of things\n",
        "and, most importantly, to do it in all our scripts. Of course, we do not do it and, when a\n",
        "program gets longer, we split it into several files. This practice makes code maintenance easier\n",
        "and helps us to organize our code. Then, to use some handy function or class located in a\n",
        "file, we just have to tell Python to look for the definition in this file. Such a file containing\n",
        "definitions is called a *module* and we say that we *import* it.\n",
        "\n",
        "A module is nothing else than a Python file and the file name is the module name with\n",
        "the suffix `.py` appended. Within a module, the module’s name is available as a string through\n",
        "the global variable `__name__`. To serve as an example, consider the module `my_sequences`\n",
        "given by a file `my_sequences.py` as follows:"
      ]
    },
    {
      "cell_type": "code",
      "execution_count": null,
      "metadata": {
        "id": "MLFmi1EGbTut"
      },
      "outputs": [],
      "source": [
        "# Fibonacci sequence\n",
        "def fibonacci(n):\n",
        "    s = [0]\n",
        "    a, b = 0, 1\n",
        "    while len(s) < n:\n",
        "        s.append(b)\n",
        "        a, b = b, a + b\n",
        "    return s\n",
        "\n",
        "\n",
        "# Syracuse sequence\n",
        "def syracuse(n):\n",
        "    s = []\n",
        "    u = n\n",
        "    while u != 1:\n",
        "        s.append(u)\n",
        "        u = u // 2 if u % 2 == 0 else 3 * u + 1\n",
        "    s.append(1)\n",
        "    return s"
      ]
    },
    {
      "cell_type": "markdown",
      "metadata": {
        "id": "alRkNT5wbTuu"
      },
      "source": [
        "### Importing from a module"
      ]
    },
    {
      "cell_type": "markdown",
      "metadata": {
        "id": "RD4D1nA5bTuu"
      },
      "source": [
        "The easiest way to import all the definitions contained in a module is to use `import` with the\n",
        "name of the module (the files have to be in the same directory). Then, objects defined in the\n",
        "module are available but in a *namespace* named like the module:"
      ]
    },
    {
      "cell_type": "code",
      "execution_count": null,
      "metadata": {
        "id": "XcOdAliUbTuu"
      },
      "outputs": [],
      "source": [
        "import my_sequences\n",
        "\n",
        "fibonacci(10) # Error, fibonacci is not in global scope"
      ]
    },
    {
      "cell_type": "code",
      "execution_count": null,
      "metadata": {
        "id": "8-EbRQflbTuu"
      },
      "outputs": [],
      "source": [
        "my_sequences.fibonacci(10) # Call fibonacci in my_sequences namespace"
      ]
    },
    {
      "cell_type": "code",
      "execution_count": null,
      "metadata": {
        "id": "E5gU7TbVbTuu"
      },
      "outputs": [],
      "source": [
        "my_sequences.syracuse(10) # Idem with syracuse"
      ]
    },
    {
      "cell_type": "code",
      "execution_count": null,
      "metadata": {
        "id": "wfeSz-TabTuu"
      },
      "outputs": [],
      "source": [
        "# You can get the module name with __name__\n",
        "my_sequences.__name__"
      ]
    },
    {
      "cell_type": "markdown",
      "metadata": {
        "id": "-F_eWwASbTuv"
      },
      "source": [
        "Sometimes, a module name (or a package name, see further) can be long to repeat again and\n",
        "again in the content of the code. Typing it is boring and does not make the code easier to\n",
        "read. For that, Python provides an alias mechanism based on statement `as`:"
      ]
    },
    {
      "cell_type": "code",
      "execution_count": null,
      "metadata": {
        "id": "0k499hmxbTuv"
      },
      "outputs": [],
      "source": [
        "import my_sequences as ms\n",
        "\n",
        "ms.syracuse(42) # Shorter, isn't it?"
      ]
    },
    {
      "cell_type": "markdown",
      "metadata": {
        "id": "ptG6oel6bTuv"
      },
      "source": [
        "If you need it, you can also import elements from a modules in the global scope (*i.e.*\n",
        "without namespace) by naming them explicitly with `from ... import ...` However, this\n",
        "practice is not encouraged because it makes code harder to read because of the presence of\n",
        "not standard functions."
      ]
    },
    {
      "cell_type": "code",
      "execution_count": null,
      "metadata": {
        "id": "XhpLdL0ubTuv"
      },
      "outputs": [],
      "source": [
        "from my_sequences import fibonacci, syracuse\n",
        "\n",
        "syracuse(10) # Function is now global"
      ]
    },
    {
      "cell_type": "markdown",
      "metadata": {
        "id": "XXxQXL5tbTuv"
      },
      "source": [
        "You can also import everything from a module in the global scope with the wildcard `*` but this\n",
        "is definitively not recommended because it can silently overwrite definitions (`e.g.` function\n",
        "`open` with standard module `os`). Such a practice should only be used for testing purposes."
      ]
    },
    {
      "cell_type": "code",
      "execution_count": null,
      "metadata": {
        "id": "iIu8EGbabTuv"
      },
      "outputs": [],
      "source": [
        "from my_sequences import *\n",
        "\n",
        "fibonacci(10) # All is global"
      ]
    },
    {
      "cell_type": "markdown",
      "metadata": {
        "id": "UA9OS5Q7bTuv"
      },
      "source": [
        "### Packages"
      ]
    },
    {
      "cell_type": "markdown",
      "metadata": {
        "id": "7HKN8PJRbTuv"
      },
      "source": [
        "When a project gets larger, we naturally split the code into several modules, each one being\n",
        "adpated for a specific purpose (getting the data, computing statistics, producing outputs,\n",
        "... ). A *package* is a collection of such modules simply based on directory hierarchy.\n",
        "\n",
        "Let start with a basic package called `my_package`. Create a directory named `my_package`\n",
        "an put the module `my_sequences.py` inside it. Moreover, create a file `__init__.py` in\n",
        "`my_package`. Your directory should be as follows:\n",
        "\n",
        "```\n",
        "my_package/\n",
        "    __init__.py\n",
        "    my_sequences.py\n",
        "```\n",
        "\n",
        "The special file `__init__.py` is required to treat the directory as a package. This file can be\n",
        "left empty but it can contain code to initialize the package. We are not going into details\n",
        "about this file (see the documentation) and we simply use it to load the module `my_sequences`\n",
        "on initialization. So, putting `from . import my_sequences` in `__init__.py` is sufficient for\n",
        "now. The statement `from . ...` stands for importing directly from current directory."
      ]
    },
    {
      "cell_type": "code",
      "execution_count": null,
      "metadata": {
        "id": "X0DxKQdUbTuw"
      },
      "outputs": [],
      "source": [
        "# Import a package like a module\n",
        "import my_package\n",
        "\n",
        "# Functions are in module's namespace, nested in package's namespace\n",
        "# (automated by __init__.py)\n",
        "my_package.my_sequences.fibonacci(10)"
      ]
    },
    {
      "cell_type": "code",
      "execution_count": null,
      "metadata": {
        "id": "pNion92fbTuw"
      },
      "outputs": [],
      "source": [
        "# Import just a module (with a saving alias)\n",
        "import my_package.my_sequences as mpseq\n",
        "mpseq.syracuse(17)"
      ]
    },
    {
      "cell_type": "code",
      "execution_count": null,
      "metadata": {
        "id": "y91mgX5VbTuw"
      },
      "outputs": [],
      "source": [
        "# Importing in global scope from a package\n",
        "from my_package.my_sequences import syracuse\n",
        "syracuse(10)"
      ]
    },
    {
      "cell_type": "markdown",
      "metadata": {
        "id": "RILp50_-bTuw"
      },
      "source": [
        "With only one module, a package is useless but it becomes more interesting when you\n",
        "collect various modules and *subpackages*. Consider the follwing file hierarchy:\n",
        "\n",
        "```\n",
        "my_package/\n",
        "    __init__.py\n",
        "    tools/\n",
        "        __init__.py\n",
        "        one_amazing_module.py\n",
        "        an_other_module.py\n",
        "    sequences/\n",
        "        __init__.py\n",
        "        fibonacci.py\n",
        "        syracuse.py\n",
        "    some_stuff.py\n",
        "    other_stuff.py\n",
        "```\n",
        "\n",
        "Filling the modules and `__init__.py` files, you will learn how to properly organize a Python\n",
        "project for your future developments."
      ]
    },
    {
      "cell_type": "markdown",
      "metadata": {
        "id": "2tEFpa5pbTuw"
      },
      "source": [
        "### The Python standard library"
      ]
    },
    {
      "cell_type": "markdown",
      "metadata": {
        "id": "fRi-9GqKbTuw"
      },
      "source": [
        "Python comes with a lot of standard modules which form the [Python standard library](https://docs.python.org/3/library/index.html). This\n",
        "is definitively one of the great strengths of Python to offer a so rich standard library. It would\n",
        "not be possible to present all these modules and packages but the clear and well organized\n",
        "documentation is here to help you in finding the ones you need. A good habit before trying\n",
        "to reinvent the wheel is to have first a look in these documentation pages. Hereafter, we\n",
        "introduce some parts of the standard library (with links to the documentation pages for\n",
        "further readings) which we consider useful but with no claim of exhaustiveness."
      ]
    },
    {
      "cell_type": "markdown",
      "metadata": {
        "id": "iSpeDeaObTux"
      },
      "source": [
        "#### A bit of math"
      ]
    },
    {
      "cell_type": "markdown",
      "metadata": {
        "id": "OQmCDMKVbTux"
      },
      "source": [
        "More advanced mathematical packages are presented further but, for basic mathematics, the\n",
        "standard module `math` already offers several useful definitions. Among them, we can start\n",
        "with the constants $π$ and $e$:"
      ]
    },
    {
      "cell_type": "code",
      "execution_count": null,
      "metadata": {
        "id": "X9MvgAbMbTux"
      },
      "outputs": [],
      "source": [
        "import math\n",
        "\n",
        "print(math.pi)\n",
        "print(math.e)"
      ]
    },
    {
      "cell_type": "markdown",
      "metadata": {
        "id": "0t98n_BrbTux"
      },
      "source": [
        "Common mathematical functions are also provided:"
      ]
    },
    {
      "cell_type": "code",
      "execution_count": null,
      "metadata": {
        "id": "D30mNUukbTux"
      },
      "outputs": [],
      "source": [
        "x = 4.2\n",
        "print(math.fabs(x)) # Absolute value\n",
        "print(math.exp(x)) # Exponential\n",
        "print(math.log(x)) # Logarithm\n",
        "print(math.sqrt(x)) # Square root\n",
        "print(math.cos(x), math.sin(x), math.tan(x)) # Trigonometry\n",
        "# Et cetera..."
      ]
    },
    {
      "cell_type": "markdown",
      "metadata": {
        "id": "TPAyFhIxbTux"
      },
      "source": [
        "It is also better to keep in mind that the functions provided by math are usually more accurate\n",
        "than standard functions."
      ]
    },
    {
      "cell_type": "code",
      "execution_count": null,
      "metadata": {
        "id": "8OPprhbmbTux"
      },
      "outputs": [],
      "source": [
        "x = [0.1] * 10\n",
        "sum(x)"
      ]
    },
    {
      "cell_type": "code",
      "execution_count": null,
      "metadata": {
        "id": "tCzE-zK9bTuy"
      },
      "outputs": [],
      "source": [
        "math.fsum(x)"
      ]
    },
    {
      "cell_type": "markdown",
      "metadata": {
        "id": "GYDzdQrkbTuy"
      },
      "source": [
        "An other useful mathematical tool is a (pseudo-)random number generator. The module\n",
        "`random` offers generators for various distributions."
      ]
    },
    {
      "cell_type": "code",
      "execution_count": null,
      "metadata": {
        "id": "aU7Okg5nbTuy"
      },
      "outputs": [],
      "source": [
        "import random\n",
        "\n",
        "# Random integer between 4 and 9\n",
        "print(random.randint(4, 9))\n",
        "# Uniform distribution in [0, 1)\n",
        "print(random.random())\n",
        "# Uniform distribution in [1.7, 4.2)\n",
        "print(random.uniform(1.7, 4.2))\n",
        "# Gaussian distribution with mean -8.1 and standard deviation 4.2\n",
        "print(random.gauss(-8.1, 4.2))"
      ]
    },
    {
      "cell_type": "code",
      "execution_count": null,
      "metadata": {
        "id": "uiUx8KnlbTuy"
      },
      "outputs": [],
      "source": [
        "# Et cetera...\n",
        "# Some useful tools on set (subsampling, for instance)\n",
        "x = [i for i in range(10)]\n",
        "random.shuffle(x); print(x)\n",
        "print(random.sample(x, 4))"
      ]
    },
    {
      "cell_type": "markdown",
      "metadata": {
        "id": "BRWjSVetbTuy"
      },
      "source": [
        "To conclude this brief review of mathematical tools in standard library, we mention the\n",
        "module `statistics` which provides (very) basic statistical functions."
      ]
    },
    {
      "cell_type": "code",
      "execution_count": null,
      "metadata": {
        "id": "6Fp8ebQfbTuy"
      },
      "outputs": [],
      "source": [
        "import statistics\n",
        "\n",
        "x = [random.gauss(0, 1) for i in range(50)]\n",
        "print(statistics.mean(x))\n",
        "print(statistics.median(x))\n",
        "print(statistics.variance(x))"
      ]
    },
    {
      "cell_type": "markdown",
      "metadata": {
        "id": "76SvSlJ4bTuy"
      },
      "source": [
        "*Documentation pages:*\n",
        "\n",
        "- [math](https://docs.python.org/3/library/math.html)\n",
        "- [random](https://docs.python.org/3/library/random.html)\n",
        "- [statistics](https://docs.python.org/3/library/statistics.html)"
      ]
    },
    {
      "cell_type": "markdown",
      "metadata": {
        "id": "TCpmOwOAbTuz"
      },
      "source": [
        "#### System interfaces"
      ]
    },
    {
      "cell_type": "markdown",
      "metadata": {
        "id": "NYS_puIlbTuz"
      },
      "source": [
        "Some standard modules provide portable ways to interact with the underlying system. Maybe\n",
        "not the easiest to use, the module `os` offers a lot of low-level functions wherein some allow to\n",
        "deal with the current working directory."
      ]
    },
    {
      "cell_type": "code",
      "execution_count": null,
      "metadata": {
        "id": "G13fW2d0bTuz"
      },
      "outputs": [],
      "source": [
        "import os\n",
        "\n",
        "# Get the working directory\n",
        "print(os.getcwd())"
      ]
    },
    {
      "cell_type": "code",
      "execution_count": null,
      "metadata": {
        "id": "j_f1j5GHbTuz"
      },
      "outputs": [],
      "source": [
        "# List the content of the working directory\n",
        "print(os.listdir())"
      ]
    },
    {
      "cell_type": "code",
      "execution_count": null,
      "metadata": {
        "id": "nib3w18PbTuz"
      },
      "outputs": [],
      "source": [
        "# Create a directory in the working directory\n",
        "os.mkdir('test_dir')"
      ]
    },
    {
      "cell_type": "code",
      "execution_count": null,
      "metadata": {
        "id": "xAYazzFEbTuz"
      },
      "outputs": [],
      "source": [
        "# Change the working directory\n",
        "os.chdir('test_dir')\n",
        "print(os.getcwd())"
      ]
    },
    {
      "cell_type": "code",
      "execution_count": null,
      "metadata": {
        "id": "-BFgzdhCbTuz"
      },
      "outputs": [],
      "source": [
        "os.chdir('..')\n",
        "print(os.getcwd())"
      ]
    },
    {
      "cell_type": "code",
      "execution_count": null,
      "metadata": {
        "id": "BBRVU0lXbTuz"
      },
      "outputs": [],
      "source": [
        "# Remove a directory\n",
        "os.rmdir('test_dir')\n",
        "# Et cetera..."
      ]
    },
    {
      "cell_type": "code",
      "execution_count": null,
      "metadata": {
        "id": "bMoL2JUebTuz"
      },
      "outputs": [],
      "source": [
        "print(os.getcwd())"
      ]
    },
    {
      "cell_type": "markdown",
      "metadata": {
        "id": "CSRWCh_KbTu0"
      },
      "source": [
        "When you need to handle path names, the module `os.path` is your best friend. It allows\n",
        "you to extract the base name of a file with `os.path.basename`, to test if a path exists with\n",
        "`os.path.exists`, ... and especially to manage path names with `os.path.join` in a portable\n",
        "way:"
      ]
    },
    {
      "cell_type": "code",
      "execution_count": null,
      "metadata": {
        "id": "zLrULQAdbTu0"
      },
      "outputs": [],
      "source": [
        "import os.path\n",
        "\n",
        "# Content of shire varies from an operating system to an other\n",
        "shire = os.path.join('hobbit', 'home', 'land')\n",
        "print(shire)"
      ]
    },
    {
      "cell_type": "markdown",
      "metadata": {
        "id": "CgnKZQU1bTu0"
      },
      "source": [
        "Finally, the module sys provides system tools which are not dependent of the operating\n",
        "system."
      ]
    },
    {
      "cell_type": "code",
      "execution_count": null,
      "metadata": {
        "id": "XpnDWs-EbTu0"
      },
      "outputs": [],
      "source": [
        "import sys\n",
        "\n",
        "# Get a platform identifier\n",
        "print(sys.platform)"
      ]
    },
    {
      "cell_type": "code",
      "execution_count": null,
      "metadata": {
        "id": "bXPIaO6SbTu0"
      },
      "outputs": [],
      "source": [
        "# A quick way to exit a program\n",
        "sys.exit('Before I die...')"
      ]
    },
    {
      "cell_type": "markdown",
      "metadata": {
        "id": "pcdB2CYpbTu0"
      },
      "source": [
        "*Documentation pages*:\n",
        "\n",
        "- [os](https://docs.python.org/3.4/library/os.html)\n",
        "- [os.path](https://docs.python.org/3.4/library/os.path.html)\n",
        "- [sys](https://docs.python.org/3.4/library/sys.html)"
      ]
    },
    {
      "cell_type": "markdown",
      "metadata": {
        "id": "U7w-GO-AbTu0"
      },
      "source": [
        "#### Data formats"
      ]
    },
    {
      "cell_type": "markdown",
      "metadata": {
        "id": "XuW7uoK_bTu0"
      },
      "source": [
        "We now browse some usual data formats and ways to import and export data with Python.\n",
        "The module `datetime` supplies classes for manipulating dates and times. This module offers\n",
        "advanced tools to handle dates and times but we restrict our introduction to the simplest\n",
        "one, namely `datetime.datetime` class (read the documentation to get more informations)."
      ]
    },
    {
      "cell_type": "code",
      "execution_count": null,
      "metadata": {
        "id": "FCAjeP8LbTu0"
      },
      "outputs": [],
      "source": [
        "import datetime\n",
        "\n",
        "now = datetime.datetime.now()\n",
        "print(str(now)) # Date and time as a string"
      ]
    },
    {
      "cell_type": "code",
      "execution_count": null,
      "metadata": {
        "id": "nsQyG3KSbTu1"
      },
      "outputs": [],
      "source": [
        "print(now.weekday()) # 0 is Monday, 1 is Tuesday, ..."
      ]
    },
    {
      "cell_type": "code",
      "execution_count": null,
      "metadata": {
        "id": "wJ8pcNwSbTu1"
      },
      "outputs": [],
      "source": [
        "# Direct access to the attributes\n",
        "print(now.year)\n",
        "print(now.month)\n",
        "print(now.day)\n",
        "print(now.hour)\n",
        "print(now.minute)\n",
        "print(now.second)\n",
        "print(now.microsecond)"
      ]
    },
    {
      "cell_type": "code",
      "execution_count": null,
      "metadata": {
        "id": "PKt1JXzrbTu1"
      },
      "outputs": [],
      "source": [
        "# Time arithmetic\n",
        "delta = datetime.timedelta(days=17,\n",
        "seconds=8,\n",
        "microseconds=81,\n",
        "milliseconds=1,\n",
        "minutes=3,\n",
        "hours=15,\n",
        "weeks=42)\n",
        "print(str(now + delta))\n",
        "print(str(now - 2*delta))"
      ]
    },
    {
      "cell_type": "markdown",
      "metadata": {
        "id": "2qsRuTFHbTu1"
      },
      "source": [
        "Standard library offers several ways to import and export data. Such mechanisms are\n",
        "useful to save data into files and load them some time after. Module `pickle` supplies `dump`\n",
        "and `load` to these ends. Pay attention to the fact that `pickle` uses binary files (`'wb'` and\n",
        "`'rb'` in the following examples), this is similar to what we have seen previously but with\n",
        "bytes instead of characters."
      ]
    },
    {
      "cell_type": "code",
      "execution_count": null,
      "metadata": {
        "id": "69Ob29YubTu1"
      },
      "outputs": [],
      "source": [
        "import pickle\n",
        "\n",
        "amazing_object = {\n",
        "    'Baggins': ('Bilbo', 'Frodo'),\n",
        "    'Gamgee': ('Samwise',),\n",
        "    'Brandybuck': ('Meriadoc',)\n",
        "}\n",
        "\n",
        "# Write an object to a binary file\n",
        "with open('amazing.data', 'wb') as f:\n",
        "    pickle.dump(amazing_object, f)\n",
        "\n",
        "# Delete the object to simulate a new session (or quit)\n",
        "del amazing_object\n",
        "\n",
        "# Load an object from a binary file\n",
        "with open('amazing.data', 'rb') as f:\n",
        "    amazing_object = pickle.load(f)\n",
        "\n",
        "print(amazing_object)"
      ]
    },
    {
      "cell_type": "markdown",
      "metadata": {
        "id": "5My7ghbQbTu1"
      },
      "source": [
        "An other common way to serialize data is the [JSON format](https://www.wikiwand.com/en/JSON). The module json offers a handsome interface to deal with files in such a format."
      ]
    },
    {
      "cell_type": "code",
      "execution_count": null,
      "metadata": {
        "id": "YkAzbcrhbTu1"
      },
      "outputs": [],
      "source": [
        "import json\n",
        "\n",
        "amazing_object = {\n",
        "    'Baggins': ('Bilbo', 'Frodo'),\n",
        "    'Gamgee': ('Samwise',),\n",
        "    'Brandybuck': ('Meriadoc',)\n",
        "}\n",
        "\n",
        "# See it in JSON format\n",
        "print(json.dumps(amazing_object))"
      ]
    },
    {
      "cell_type": "code",
      "execution_count": null,
      "metadata": {
        "id": "mMjS4wgfbTu2"
      },
      "outputs": [],
      "source": [
        "print(json.dumps(amazing_object, indent=4)) # Prettier"
      ]
    },
    {
      "cell_type": "code",
      "execution_count": null,
      "metadata": {
        "id": "lETB0DjEbTu2"
      },
      "outputs": [],
      "source": [
        "# Load from a string\n",
        "my_object = json.loads('[\"gandalf\", {\"is\":[\"amazing\", null, 1.7]}]')\n",
        "print(my_object); type(my_object)"
      ]
    },
    {
      "cell_type": "code",
      "execution_count": null,
      "metadata": {
        "id": "9cy4JoZsbTu2"
      },
      "outputs": [],
      "source": [
        "# Export to a file\n",
        "with open('amazing.json', 'w') as f:\n",
        "    f.write(json.dumps(amazing_object))\n",
        "    del amazing_object # Simulate again\n",
        "\n",
        "# Load from a file\n",
        "with open('amazing.json', 'r') as f:\n",
        "    amazing_object = json.loads(f.read())\n",
        "print(amazing_object)"
      ]
    },
    {
      "cell_type": "markdown",
      "metadata": {
        "id": "2d-0GePmbTu2"
      },
      "source": [
        "*Documentation pages:*\n",
        "\n",
        "- [datetime](https://docs.python.org/3/library/datetime.html)\n",
        "- [pickle](https://docs.python.org/3/library/pickle.html)\n",
        "- [json](https://docs.python.org/3/library/json.html)"
      ]
    },
    {
      "cell_type": "markdown",
      "metadata": {
        "id": "2shwG-iXbTu2"
      },
      "source": [
        "## Graphics with Matplotlib"
      ]
    },
    {
      "cell_type": "markdown",
      "metadata": {
        "id": "iJswtbqEbTu2"
      },
      "source": [
        "### Introduction"
      ]
    },
    {
      "cell_type": "markdown",
      "metadata": {
        "id": "lR9WfngYbTu2"
      },
      "source": [
        "[Matplotlib](https://matplotlib.org/) is a plotting library originally wrote by John D. Hunter and distributed under a\n",
        "BSD compatible licence (Matplotlib is a free software).\n",
        "\n",
        "Hereafter, we propose an introduction to basic concepts underlying the Matplotlib pack-\n",
        "age. To experiment the following examples, we recommend to work in a Python console rather\n",
        "than a IPython one. Indeed, this latter integrates graphics in its own way and is not handy\n",
        "for an introduction."
      ]
    },
    {
      "cell_type": "markdown",
      "metadata": {
        "id": "DFuugUVebTu3"
      },
      "source": [
        "### Simple graphs"
      ]
    },
    {
      "cell_type": "markdown",
      "metadata": {
        "id": "gq879qOzbTu3"
      },
      "source": [
        "Because we are in a Jupyter Notebook/Lab environment, we have to tell our interpreter to render figures inline."
      ]
    },
    {
      "cell_type": "code",
      "execution_count": null,
      "metadata": {
        "id": "tL3fMtllbTu3"
      },
      "outputs": [],
      "source": [
        "%matplotlib inline"
      ]
    },
    {
      "cell_type": "markdown",
      "metadata": {
        "id": "8QO-F3LtbTu3"
      },
      "source": [
        "To create figures, Matplotlib supplies the module `pyplot`. To avoid long commands, we use\n",
        "the common alias `plt` for this module."
      ]
    },
    {
      "cell_type": "code",
      "execution_count": null,
      "metadata": {
        "id": "QKtLfuesbTu3"
      },
      "outputs": [],
      "source": [
        "import matplotlib.pyplot as plt"
      ]
    },
    {
      "cell_type": "markdown",
      "metadata": {
        "id": "r8JvAVdRbTu3"
      },
      "source": [
        "The most basic graph consists in plotting some points considering their x and y coordinates\n",
        "with `plot`. If you work with Spyder, a special window containing the graph appears after the\n",
        "call to the `plot` function. However, if you work with a raw Python console, you will have to\n",
        "call explicitly the function `show` to see this window which allows you to handle some graphics\n",
        "parameters. To adjust thes axes, you can also deal with the function `axis`."
      ]
    },
    {
      "cell_type": "code",
      "execution_count": null,
      "metadata": {
        "id": "9WQCE0jmbTu3",
        "colab": {
          "base_uri": "https://localhost:8080/",
          "height": 269
        },
        "outputId": "72b28285-7721-406a-ba2d-913e8adf3790"
      },
      "outputs": [
        {
          "output_type": "display_data",
          "data": {
            "text/plain": [
              "<Figure size 432x288 with 1 Axes>"
            ],
            "image/png": "[encoded data removed]"
          },
          "metadata": {
            "needs_background": "light"
          }
        }
      ],
      "source": [
        "plt.plot([15, 3, 1, 5], [42, 17, 8, 5])\n",
        "\n",
        "# Modify the axes\n",
        "plt.axis([-5, 20, 0, 50]); # [xmin, xmax, ymin, ymax]"
      ]
    },
    {
      "cell_type": "markdown",
      "metadata": {
        "id": "8TCiRe9ibTu3"
      },
      "source": [
        "If you call again the function `plot`, you see that the new points are plotted in the same\n",
        "figure. This is one way for plotting several graphs together but you can also call `plot` with\n",
        "all the points to plot in one time. To distinguish the plots, use format strings after each pair\n",
        "of points sequences (see the [documentation](https://matplotlib.org/2.0.0/api/pyplot_api.html#matplotlib.pyplot.plot) for details). When you want to restart the figure,\n",
        "you can clean it with `clf` or simply call `close` and start a new one. Alternatively, if you want\n",
        "to keep the existing one for further manipulations, call `figure` to create a new device."
      ]
    },
    {
      "cell_type": "code",
      "execution_count": null,
      "metadata": {
        "id": "byKP7GjCbTu3",
        "colab": {
          "base_uri": "https://localhost:8080/",
          "height": 265
        },
        "outputId": "3fb779f6-3479-4a2c-e9dc-6eff1f64c55c"
      },
      "outputs": [
        {
          "output_type": "display_data",
          "data": {
            "text/plain": [
              "<Figure size 432x288 with 1 Axes>"
            ],
            "image/png": "[encoded data removed]"
          },
          "metadata": {
            "needs_background": "light"
          }
        }
      ],
      "source": [
        "# Clean the current figure\n",
        "plt.clf()\n",
        "\n",
        "# Cyan star markers\n",
        "plt.plot([15, 3, 1, 5], [42, 17, 8, 5], 'c*');"
      ]
    },
    {
      "cell_type": "code",
      "execution_count": null,
      "metadata": {
        "id": "wv_kSs_9bTu4",
        "colab": {
          "base_uri": "https://localhost:8080/",
          "height": 513
        },
        "outputId": "09cf8bac-368a-4d08-e8ed-5c143c9bd3b6"
      },
      "outputs": [
        {
          "output_type": "display_data",
          "data": {
            "text/plain": [
              "<Figure size 432x288 with 1 Axes>"
            ],
            "image/png": "[encoded data removed]"
          },
          "metadata": {
            "needs_background": "light"
          }
        },
        {
          "output_type": "display_data",
          "data": {
            "text/plain": [
              "<Figure size 432x288 with 1 Axes>"
            ],
            "image/png": "[encoded data removed]"
          },
          "metadata": {
            "needs_background": "light"
          }
        }
      ],
      "source": [
        "# End the previous figure\n",
        "plt.close()\n",
        "\n",
        "# Red square markers\n",
        "plt.plot([15, 3, 1, 5], [42, 17, 8, 5], 'rs')\n",
        "\n",
        "# Additional plot with green dash-dot line and circle markers\n",
        "plt.plot([0, 5, 10, 15], [42, 17, 8, 5], 'go-.')\n",
        "\n",
        "# Open a new figure\n",
        "plt.figure()\n",
        "\n",
        "# Same graph as above created in one command\n",
        "plt.plot(\n",
        "    [15, 3, 1, 5], [42, 17, 8, 5], 'rs',\n",
        "    [0, 5, 10, 15], [42, 17, 8, 5], 'go-.'\n",
        ");"
      ]
    },
    {
      "cell_type": "markdown",
      "metadata": {
        "id": "FomF0AZ2bTu4"
      },
      "source": [
        "The function plot produces an `Line2D` object which permits to control line properties.\n",
        "These properties can be set at the creation or later with the help of `setp` (again, see the\n",
        "[documentation](https://matplotlib.org/2.0.0/api/pyplot_api.html#matplotlib.pyplot.plot))."
      ]
    },
    {
      "cell_type": "code",
      "source": [
        "my_lines = plt.plot(\n",
        "    [15, 3, 1, 5], [42, 17, 8, 5], 'rs',\n",
        "    [0, 5, 10, 15], [42, 17, 8, 5], 'go-.'\n",
        ")\n",
        "\n",
        "plt.setp(my_lines[0], 'color', 'cyan')\n",
        "plt.setp(my_lines[1], 'marker', 'D');"
      ],
      "metadata": {
        "colab": {
          "base_uri": "https://localhost:8080/",
          "height": 265
        },
        "id": "A_1nOc1RClTF",
        "outputId": "1eee086c-e5fa-4a57-989a-35e3afdd364d"
      },
      "execution_count": null,
      "outputs": [
        {
          "output_type": "display_data",
          "data": {
            "text/plain": [
              "<Figure size 432x288 with 1 Axes>"
            ],
            "image/png": "[encoded data removed]"
          },
          "metadata": {
            "needs_background": "light"
          }
        }
      ]
    },
    {
      "cell_type": "code",
      "execution_count": null,
      "metadata": {
        "id": "q-5JmQ3ebTu4",
        "colab": {
          "base_uri": "https://localhost:8080/",
          "height": 265
        },
        "outputId": "bf049c41-3a44-4a18-b31a-0e114c7039ae"
      },
      "outputs": [
        {
          "output_type": "display_data",
          "data": {
            "text/plain": [
              "<Figure size 432x288 with 1 Axes>"
            ],
            "image/png": "[encoded data removed]"
          },
          "metadata": {
            "needs_background": "light"
          }
        }
      ],
      "source": [
        "# With properties\n",
        "my_line = plt.plot([0, 5, 10, 15], [17, 8, 42, 5],\n",
        "    color='green',\n",
        "    linestyle='dashed',\n",
        "    marker='o',\n",
        "    markerfacecolor='blue',\n",
        "    markersize=12\n",
        ")\n",
        "\n",
        "# Change some properties\n",
        "plt.setp(my_line, 'color', 'red', 'linewidth', 2.0)\n",
        "\n",
        "# With more than one line, a list is returned\n",
        "my_lines = plt.plot(\n",
        "    [15, 3, 1, 5], [42, 17, 8, 5], 'rs',\n",
        "    [0, 5, 10, 15], [42, 17, 8, 5], 'go-.'\n",
        ")\n",
        "\n",
        "plt.setp(my_lines[0], 'color', 'cyan')\n",
        "plt.setp(my_lines[1], 'marker', 'D');"
      ]
    },
    {
      "cell_type": "markdown",
      "metadata": {
        "id": "D3hc17_kbTu4"
      },
      "source": [
        "An other common decoration of a graph is text with title, labels and comments. The\n",
        "functions `title`, `xlabel`, `ylabel` and `text` are supplied to this end."
      ]
    },
    {
      "cell_type": "code",
      "source": [
        "import math\n",
        "\n",
        "# Some parameters\n",
        "mu = -2.5\n",
        "sigma = 3\n",
        "\n",
        "# Gaussian density\n",
        "def gaussian_density(t, m=0, s=1):\n",
        "    return math.exp(-(t-m)**2 / (2*s**2)) / math.sqrt(2*math.pi*s**2)\n",
        "\n",
        "# Some data\n",
        "n = 256\n",
        "x = [mu + 4 * sigma* i / n for i in range(-n, n+1)]\n",
        "y = [gaussian_density(t, mu, sigma) for t in x]\n",
        "\n",
        "plt.plot(x, y, 'r--')"
      ],
      "metadata": {
        "colab": {
          "base_uri": "https://localhost:8080/",
          "height": 282
        },
        "id": "r5lST8xsDfGV",
        "outputId": "320e6550-0028-44a0-969c-8bd2aeca7c94"
      },
      "execution_count": null,
      "outputs": [
        {
          "output_type": "execute_result",
          "data": {
            "text/plain": [
              "[<matplotlib.lines.Line2D at 0x7f69bfa1f550>]"
            ]
          },
          "metadata": {},
          "execution_count": 106
        },
        {
          "output_type": "display_data",
          "data": {
            "text/plain": [
              "<Figure size 432x288 with 1 Axes>"
            ],
            "image/png": "[encoded data removed]"
          },
          "metadata": {
            "needs_background": "light"
          }
        }
      ]
    },
    {
      "cell_type": "code",
      "execution_count": null,
      "metadata": {
        "id": "8RX_Chr4bTu4",
        "colab": {
          "base_uri": "https://localhost:8080/",
          "height": 295
        },
        "outputId": "cbe326e8-b7aa-4112-cff6-168677409e52"
      },
      "outputs": [
        {
          "output_type": "display_data",
          "data": {
            "text/plain": [
              "<Figure size 432x288 with 1 Axes>"
            ],
            "image/png": "[encoded data removed]"
          },
          "metadata": {
            "needs_background": "light"
          }
        }
      ],
      "source": [
        "import math\n",
        "\n",
        "# Some parameters\n",
        "mu = -2.5\n",
        "sigma = 3\n",
        "\n",
        "# Gaussian density\n",
        "def gaussian_density(t, m=0, s=1):\n",
        "    return math.exp(-(t-m)**2 / (2*s**2)) / math.sqrt(2*math.pi*s**2)\n",
        "\n",
        "# Some data\n",
        "n = 256\n",
        "x = [mu + 4 * sigma * i / n for i in range(-n, n+1)]\n",
        "y = [gaussian_density(t, mu, sigma) for t in x]\n",
        "\n",
        "plt.plot(x, y, 'r--')\n",
        "\n",
        "# Add a title\n",
        "plt.title('Gaussian density')\n",
        "\n",
        "# Add labels for the axes\n",
        "plt.xlabel('Abscissa')\n",
        "plt.ylabel('Ordinate')\n",
        "\n",
        "# Add some text\n",
        "plt.text(mu, 1 / math.sqrt(8 * math.pi * sigma**2), 'Hello Gauss!');"
      ]
    },
    {
      "cell_type": "markdown",
      "metadata": {
        "id": "5TA1FdIqbTu4"
      },
      "source": [
        "If you need to include mathematical notations in the text, you can write a TeX expression\n",
        "surrounded by dollar signs:"
      ]
    },
    {
      "cell_type": "code",
      "execution_count": null,
      "metadata": {
        "id": "KhI5kTGLbTu4",
        "colab": {
          "base_uri": "https://localhost:8080/",
          "height": 283
        },
        "outputId": "f1ebb21e-6a79-43a4-d72e-569fc2a35dc1"
      },
      "outputs": [
        {
          "output_type": "display_data",
          "data": {
            "text/plain": [
              "<Figure size 432x288 with 1 Axes>"
            ],
            "image/png": "[encoded data removed]"
          },
          "metadata": {
            "needs_background": "light"
          }
        }
      ],
      "source": [
        "plt.title(\n",
        "    'Gaussian density with $\\mu$={} and $\\sigma$={}'.format(mu, sigma)\n",
        ");"
      ]
    },
    {
      "cell_type": "markdown",
      "metadata": {
        "id": "5Nml2h3ebTu5"
      },
      "source": [
        "### Adding elements"
      ]
    },
    {
      "cell_type": "markdown",
      "metadata": {
        "id": "61bDFVBxbTu5"
      },
      "source": [
        "We had just a brief look on all the options offered by Matplotlib to produce figures. Reading\n",
        "the documentation, you see that adding common elements is quite straightforward. Hereafter,\n",
        "we give some examples and we encourage you to browse the [Matplotlib beginner's guide](https://matplotlib.org/2.0.0/users/beginner.html)."
      ]
    },
    {
      "cell_type": "code",
      "execution_count": null,
      "metadata": {
        "id": "jITaNl_4bTu5"
      },
      "outputs": [],
      "source": [
        "z = [gaussian_density(t, mu, sigma/2) for t in x]\n",
        "\n",
        "# Lines with labels\n",
        "plt.plot(x, y, 'r--', label='$\\sigma$={}'.format(sigma))\n",
        "plt.plot(x, z, 'g-.', label='$\\sigma$={}'.format(sigma / 2))\n",
        "\n",
        "# Add a legend based on labels\n",
        "plt.legend()\n",
        "\n",
        "# Add a grid\n",
        "plt.grid()"
      ]
    },
    {
      "cell_type": "markdown",
      "metadata": {
        "id": "aXph85fTbTu5"
      },
      "source": [
        "### Other graphs"
      ]
    },
    {
      "cell_type": "markdown",
      "metadata": {
        "id": "M68sjyQZbTu5"
      },
      "source": [
        "Of course, Matplotlib is not restricted to plot simple sequences of points and to the module\n",
        "`pyplot`. The package supplies a lot of graphical representations and tools and it would be\n",
        "beyond the scope of this document to make an exhaustive review. We give below an insight\n",
        "about the possibilities. If you are interested in data visualization, you should have a look to\n",
        "the [Matplotlib examples](https://matplotlib.org/examples/index.html)."
      ]
    },
    {
      "cell_type": "code",
      "execution_count": null,
      "metadata": {
        "id": "Je43a8Q8bTu5"
      },
      "outputs": [],
      "source": [
        "import math\n",
        "import random\n",
        "import matplotlib.pyplot as plt\n",
        "\n",
        "# Scatter plot\n",
        "n = 256\n",
        "x = [random.gauss(0, 1) for i in range(n)]\n",
        "y = [random.gauss(0, 1) for i in range(n)]\n",
        "color = [random.randint(0, 50) for i in range(n)]\n",
        "size = [100 * random.random() for i in range(n)]\n",
        "plt.scatter(x, y, c=color, s=size, alpha=0.5)\n",
        "plt.figure();"
      ]
    },
    {
      "cell_type": "code",
      "execution_count": null,
      "metadata": {
        "id": "3VVdUQoubTu6"
      },
      "outputs": [],
      "source": [
        "# Histogram\n",
        "n = 2048\n",
        "x = [random.gauss(0, 1) for i in range(n)]\n",
        "u = [4 * i / n for i in range(-n, n + 1)]\n",
        "v = [math.exp(-t**2/2) / math.sqrt(2*math.pi) for t in u]\n",
        "plt.hist(x, bins=50, density=True, color='orange')\n",
        "plt.plot(u, v, 'r-', linewidth=2)\n",
        "plt.figure();"
      ]
    },
    {
      "cell_type": "code",
      "execution_count": null,
      "metadata": {
        "id": "fzePVem4bTu6"
      },
      "outputs": [],
      "source": [
        "# Pie chart\n",
        "ore = ['Gold', 'Silver', 'Ore', 'Mithril']\n",
        "count = [31, 58, 93, 21]\n",
        "color = ['gold', 'silver', 'brown', 'lightskyblue']\n",
        "explode = (0, 0.1, 0, 0)\n",
        "plt.pie(count, labels=ore, colors=color, explode=explode, shadow=True, startangle=90)\n",
        "plt.figure();"
      ]
    },
    {
      "cell_type": "code",
      "execution_count": null,
      "metadata": {
        "id": "IGryFzcrbTu6"
      },
      "outputs": [],
      "source": [
        "# Boxplot\n",
        "n = 256\n",
        "x = [random.gauss(0, 1) for i in range(n)]\n",
        "y = [random.gauss(0, 1) for i in range(n)]\n",
        "plt.boxplot([x, y])\n",
        "plt.figure();"
      ]
    },
    {
      "cell_type": "code",
      "execution_count": null,
      "metadata": {
        "id": "T_zfROfubTu6"
      },
      "outputs": [],
      "source": [
        "# Violin plot\n",
        "plt.violinplot([x, y]);"
      ]
    },
    {
      "cell_type": "markdown",
      "metadata": {
        "id": "dMjosU5rbTu6"
      },
      "source": [
        "## Mathematics with NumPy"
      ]
    },
    {
      "cell_type": "markdown",
      "metadata": {
        "id": "u64r3GXzbTu6"
      },
      "source": [
        "### What is NumPy?"
      ]
    },
    {
      "cell_type": "markdown",
      "metadata": {
        "id": "X18LdNWabTu6"
      },
      "source": [
        "[NumPy](https://www.numpy.org/) is a Python package which provides tools to work with multi-dimensional arrays and\n",
        "matrices, along with a large library of high-level mathematical functions to operate on these\n",
        "arrays. NumPy is distributed under the terms of a revised BSD license and is thus a free\n",
        "software.\n",
        "\n",
        "To shorten the commands of this section, we use the common alias `np` for `numpy` as follows:"
      ]
    },
    {
      "cell_type": "code",
      "execution_count": null,
      "metadata": {
        "id": "2IGn0OPFbTu6",
        "colab": {
          "base_uri": "https://localhost:8080/"
        },
        "outputId": "7dd85265-87af-4d2a-a891-361e610f25c3"
      },
      "outputs": [
        {
          "output_type": "stream",
          "name": "stdout",
          "text": [
            "3.141592653589793\n",
            "2.718281828459045\n"
          ]
        }
      ],
      "source": [
        "import numpy as np\n",
        "\n",
        "# NumPy supplies usual constants\n",
        "print(np.pi)\n",
        "print(np.e)"
      ]
    },
    {
      "cell_type": "markdown",
      "metadata": {
        "id": "-pWZ9eCebTu7"
      },
      "source": [
        "### The array class"
      ]
    },
    {
      "cell_type": "markdown",
      "metadata": {
        "id": "q7VX0EDLbTu7"
      },
      "source": [
        "The `array` class plays a central role in NumPy. Such an object can be instantiated with the\n",
        "function `array` from a list for a vector or a list of lists for a matrix."
      ]
    },
    {
      "cell_type": "code",
      "execution_count": null,
      "metadata": {
        "id": "QTw0PIyIbTu7"
      },
      "outputs": [],
      "source": [
        "# Vector\n",
        "v = np.array([17.0, 42.0, 8.1, 19.0])\n",
        "print(v, type(v))"
      ]
    },
    {
      "cell_type": "code",
      "execution_count": null,
      "metadata": {
        "id": "SMOnzCYubTu7"
      },
      "outputs": [],
      "source": [
        "# Matrix (list of rows)\n",
        "m = np.array([[1.0, 2.0, 3.0],\n",
        "[4.0, 5.0, 6.0]])\n",
        "print(m, type(m))"
      ]
    },
    {
      "cell_type": "code",
      "execution_count": null,
      "metadata": {
        "id": "ERGzKIEnbTu7"
      },
      "outputs": [],
      "source": [
        "# Function print behaves nicely with large arrays\n",
        "print(np.array(range(10000)))\n",
        "np.array([range(500) for i in range(500)])"
      ]
    },
    {
      "cell_type": "markdown",
      "metadata": {
        "id": "EcVPBNfobTu7"
      },
      "source": [
        "To access elements in an array, we use naturally a syntax based on square brackets `[]` and\n",
        "slicing."
      ]
    },
    {
      "cell_type": "code",
      "execution_count": null,
      "metadata": {
        "id": "0C6GAiBebTu7"
      },
      "outputs": [],
      "source": [
        "print(v[0])"
      ]
    },
    {
      "cell_type": "code",
      "execution_count": null,
      "metadata": {
        "id": "JYPTL35vbTu7"
      },
      "outputs": [],
      "source": [
        "print(v[1:3])"
      ]
    },
    {
      "cell_type": "code",
      "execution_count": null,
      "metadata": {
        "id": "jDdtK1wFbTu8"
      },
      "outputs": [],
      "source": [
        "# Modify items\n",
        "v[2] = 15.0\n",
        "print(v)"
      ]
    },
    {
      "cell_type": "code",
      "execution_count": null,
      "metadata": {
        "id": "o_GcnZU3bTu8"
      },
      "outputs": [],
      "source": [
        "v[1:3] = 0.0\n",
        "print(v)"
      ]
    },
    {
      "cell_type": "code",
      "execution_count": null,
      "metadata": {
        "id": "9eUvg9DvbTu8"
      },
      "outputs": [],
      "source": [
        "# Idem for matrices\n",
        "print(m[0,1])"
      ]
    },
    {
      "cell_type": "code",
      "execution_count": null,
      "metadata": {
        "id": "an1VeDjSbTu8"
      },
      "outputs": [],
      "source": [
        "print(m[:,2])\n",
        "# Et cetera ..."
      ]
    },
    {
      "cell_type": "markdown",
      "metadata": {
        "id": "-4zHyKslbTu8"
      },
      "source": [
        "To get informations about the array dimensions and the number of rows, columns, ... the\n",
        "`array` class supplies an attribute `shape` which is a tuple. Moreover, the method `reshape`\n",
        "allows you to change the dimensions of an array."
      ]
    },
    {
      "cell_type": "code",
      "execution_count": null,
      "metadata": {
        "id": "3Bu-eL7lbTu8"
      },
      "outputs": [],
      "source": [
        "print(v.shape)"
      ]
    },
    {
      "cell_type": "code",
      "execution_count": null,
      "metadata": {
        "id": "moyfoIbebTu9"
      },
      "outputs": [],
      "source": [
        "print(m.shape)"
      ]
    },
    {
      "cell_type": "code",
      "execution_count": null,
      "metadata": {
        "id": "SgTkjusLbTu9"
      },
      "outputs": [],
      "source": [
        "m1 = v.reshape(2, 2)\n",
        "print(m1)"
      ]
    },
    {
      "cell_type": "code",
      "execution_count": null,
      "metadata": {
        "id": "EqkueID5bTu9"
      },
      "outputs": [],
      "source": [
        "m2 = m.reshape(3, 2)\n",
        "print(m2)"
      ]
    },
    {
      "cell_type": "code",
      "execution_count": null,
      "metadata": {
        "id": "rIk4j1xVbTu9"
      },
      "outputs": [],
      "source": [
        "v1 = m.reshape(6)\n",
        "print(v1)"
      ]
    },
    {
      "cell_type": "markdown",
      "metadata": {
        "id": "hvdVmiFibTu9"
      },
      "source": [
        "The `array` class offers several useful function to do basic computations with arrays. There\n",
        "are a lot of tools defined for arrays as you can see in the [index of the documentation](https://docs.scipy.org/doc/numpy/genindex.html). All\n",
        "these tools can be called as methods or as functions from the NumPy namespace."
      ]
    },
    {
      "cell_type": "code",
      "execution_count": null,
      "metadata": {
        "id": "2hwxSIH5bTu9"
      },
      "outputs": [],
      "source": [
        "# Sum of the elements\n",
        "s = v.sum()\n",
        "s = np.sum(v) # Equivalent to the previous one\n",
        "print(s)"
      ]
    },
    {
      "cell_type": "code",
      "execution_count": null,
      "metadata": {
        "id": "nuX3Chq7bTu9"
      },
      "outputs": [],
      "source": [
        "# Cumulative sum of the elements\n",
        "cs = v.cumsum()\n",
        "cs = np.cumsum(v) # Equivalent to the previous one\n",
        "print(cs)"
      ]
    },
    {
      "cell_type": "code",
      "execution_count": null,
      "metadata": {
        "id": "OAP5Ok82bTu9"
      },
      "outputs": [],
      "source": [
        "# Maximum and minimum\n",
        "print(m.min(), m.max())"
      ]
    },
    {
      "cell_type": "code",
      "execution_count": null,
      "metadata": {
        "id": "5Wt-B27TbTu-"
      },
      "outputs": [],
      "source": [
        "print(np.min(m), np.max(m)) # Equivalent to the previous one"
      ]
    },
    {
      "cell_type": "code",
      "execution_count": null,
      "metadata": {
        "id": "TuamLTsabTu-"
      },
      "outputs": [],
      "source": [
        "# Mean and variance\n",
        "print(v.mean()) # Or np.mean(v)\n",
        "print(m.var()) # Or np.var(m)"
      ]
    },
    {
      "cell_type": "markdown",
      "metadata": {
        "id": "hwX2zVJVbTu-"
      },
      "source": [
        "An important advantage offered by NumPy arrays and functions is the capacity to apply\n",
        "a function to all the items of an array without a loop. Such a syntax makes definitively the\n",
        "code easier to read and is often used in the sequel."
      ]
    },
    {
      "cell_type": "code",
      "execution_count": null,
      "metadata": {
        "id": "oXUwuiWebTu-"
      },
      "outputs": [],
      "source": [
        "n = 6\n",
        "x = np.array([np.pi * i / (n - 1) for i in range(n)])\n",
        "print(np.cos(x))"
      ]
    },
    {
      "cell_type": "markdown",
      "metadata": {
        "id": "0zHZy1vybTu-"
      },
      "source": [
        "It also works with common operations."
      ]
    },
    {
      "cell_type": "code",
      "execution_count": null,
      "metadata": {
        "id": "hcSxS2ErbTu-"
      },
      "outputs": [],
      "source": [
        "print(x + 1)"
      ]
    },
    {
      "cell_type": "code",
      "execution_count": null,
      "metadata": {
        "id": "kcWULmdEbTu-"
      },
      "outputs": [],
      "source": [
        "print(2 * x)"
      ]
    },
    {
      "cell_type": "code",
      "execution_count": null,
      "metadata": {
        "id": "k9DbzkDlbTu-"
      },
      "outputs": [],
      "source": [
        "print(x / 5)"
      ]
    },
    {
      "cell_type": "code",
      "execution_count": null,
      "metadata": {
        "id": "kg8Fm9UPbTu-"
      },
      "outputs": [],
      "source": [
        "import math\n",
        "\n",
        "print(math.cos(x)) # Error, only available with NumPy functions"
      ]
    },
    {
      "cell_type": "markdown",
      "metadata": {
        "id": "JVSJ-mZ4bTu_"
      },
      "source": [
        "As we mentioned before, we have to pay attention about copy operation when we manip-\n",
        "ulate arrays. Indeed, as mutable objects, the content of an array is sometimes copied and\n",
        "sometimes only passed as a reference."
      ]
    },
    {
      "cell_type": "code",
      "execution_count": null,
      "metadata": {
        "id": "WDAbDNSwbTu_"
      },
      "outputs": [],
      "source": [
        "a = np.array([1, 2, 3, 4])\n",
        "# Simple assignment does not copy\n",
        "b = a\n",
        "print(b is a) # True"
      ]
    },
    {
      "cell_type": "code",
      "execution_count": null,
      "metadata": {
        "id": "VmJ31i33bTu_"
      },
      "outputs": [],
      "source": [
        "# Use copy method to copy arrays\n",
        "c = a.copy()\n",
        "print(c is a) # False"
      ]
    },
    {
      "cell_type": "markdown",
      "metadata": {
        "id": "lAbI7bvPbTu_"
      },
      "source": [
        "### Creating arrays"
      ]
    },
    {
      "cell_type": "markdown",
      "metadata": {
        "id": "I_2AS3V-bTu_"
      },
      "source": [
        "Fortunately, we do not have to create explicitly all our arrays and NumPy provides some\n",
        "functions to help us for the common situations."
      ]
    },
    {
      "cell_type": "code",
      "execution_count": null,
      "metadata": {
        "id": "uBwYwDPUbTu_"
      },
      "outputs": [],
      "source": [
        "# Create arrays full of zeros\n",
        "v = np.zeros(17)\n",
        "m = np.zeros((3, 4)) # Note the tuple argument\n",
        "print(v); print(m)"
      ]
    },
    {
      "cell_type": "code",
      "execution_count": null,
      "metadata": {
        "id": "w_W8LIe2bTu_"
      },
      "outputs": [],
      "source": [
        "# Create arrays full of ones\n",
        "v = np.ones(17)\n",
        "m = np.ones((3, 4))\n",
        "print(v); print(m)"
      ]
    },
    {
      "cell_type": "code",
      "execution_count": null,
      "metadata": {
        "id": "onNh-mAxbTu_"
      },
      "outputs": [],
      "source": [
        "# Create arrays with uninitialized entries\n",
        "v = np.empty(17)\n",
        "m = np.empty((3, 4))\n",
        "print(v); print(m)"
      ]
    },
    {
      "cell_type": "markdown",
      "metadata": {
        "id": "eS3vlyE8bTvA"
      },
      "source": [
        "We have also at our disposal such tools for matrices:"
      ]
    },
    {
      "cell_type": "code",
      "execution_count": null,
      "metadata": {
        "id": "st9tYx4nbTvA"
      },
      "outputs": [],
      "source": [
        "# Identity matrix\n",
        "m = np.identity(5)\n",
        "print(m)"
      ]
    },
    {
      "cell_type": "code",
      "execution_count": null,
      "metadata": {
        "id": "liSfILLibTvA"
      },
      "outputs": [],
      "source": [
        "# Diagonal matrix from a vector\n",
        "v = np.array([1.0, 2.0, 3.0])\n",
        "m = np.diag(v)\n",
        "print(m)"
      ]
    },
    {
      "cell_type": "code",
      "execution_count": null,
      "metadata": {
        "id": "9nt7PhZubTvA"
      },
      "outputs": [],
      "source": [
        "# Vector from the matrix diagonal\n",
        "m = np.array([[1.0, 2.0],\n",
        "[3.0, 4.0]])\n",
        "v = m.diagonal() # Equivalent to n = np.diag(m)\n",
        "print(v)"
      ]
    },
    {
      "cell_type": "markdown",
      "metadata": {
        "id": "sz7ubdqDbTvA"
      },
      "source": [
        "To avoid difficult commands based on `range` when creating arrays, NumPy provides two\n",
        "useful functions. The first one, `arange` is similar to `range` but the returned object is an array. The second function, `linspace`, returns an array of evenly spaced numbers over a specified\n",
        "interval. This second function is very useful to plot a function, for instance."
      ]
    },
    {
      "cell_type": "code",
      "execution_count": null,
      "metadata": {
        "id": "EYDiz6tRbTvA"
      },
      "outputs": [],
      "source": [
        "# Create arrays in range style\n",
        "v = np.arange(17); print(v)"
      ]
    },
    {
      "cell_type": "code",
      "execution_count": null,
      "metadata": {
        "id": "srYIsnhhbTvA"
      },
      "outputs": [],
      "source": [
        "v = np.arange(8, 17); print(v)"
      ]
    },
    {
      "cell_type": "code",
      "execution_count": null,
      "metadata": {
        "id": "5ab29gbsbTvA"
      },
      "outputs": [],
      "source": [
        "v = np.arange(8, 17, 2); print(v)"
      ]
    },
    {
      "cell_type": "code",
      "execution_count": null,
      "metadata": {
        "id": "CfqifPymbTvA"
      },
      "outputs": [],
      "source": [
        "# Useful for matrices too!\n",
        "m = np.arange(8, 17).reshape(3, 3)\n",
        "print(m)"
      ]
    },
    {
      "cell_type": "code",
      "execution_count": null,
      "metadata": {
        "id": "tWsDyIyGbTvB"
      },
      "outputs": [],
      "source": [
        "# Evenly spaced numbers\n",
        "x = np.linspace(2, 3, 10); print(x)"
      ]
    },
    {
      "cell_type": "code",
      "execution_count": null,
      "metadata": {
        "id": "zyoXfTihbTvB"
      },
      "outputs": [],
      "source": [
        "# Useful to plot a function\n",
        "import matplotlib.pyplot as plt\n",
        "\n",
        "x = np.linspace(0, 1, 256)\n",
        "plt.plot(x, np.sin(2 * np.pi * x), 'r-')\n",
        "plt.grid()"
      ]
    },
    {
      "cell_type": "markdown",
      "metadata": {
        "id": "-CDGF-VlbTvB"
      },
      "source": [
        "### Indexing with boolean arrays"
      ]
    },
    {
      "cell_type": "markdown",
      "metadata": {
        "id": "qSB-c9e5bTvB"
      },
      "source": [
        "NumPy offers a syntax based on boolean arrays to access some items in an array. This way\n",
        "can be very useful when we handle data sets and it is available to get values but also to modify\n",
        "them."
      ]
    },
    {
      "cell_type": "code",
      "execution_count": null,
      "metadata": {
        "id": "oSCBOB4mbTvB"
      },
      "outputs": [],
      "source": [
        "# Note the concatenation\n",
        "a = np.append(np.arange(10), np.arange(8, -1, -1))\n",
        "a"
      ]
    },
    {
      "cell_type": "code",
      "execution_count": null,
      "metadata": {
        "id": "44FiKw9ObTvB"
      },
      "outputs": [],
      "source": [
        "# Explicit boolean array ...\n",
        "b = [i % 3 != 0 for i in range(len(a))]\n",
        "print(a[b])"
      ]
    },
    {
      "cell_type": "code",
      "execution_count": null,
      "metadata": {
        "id": "sj8ZBP5pbTvB"
      },
      "outputs": [],
      "source": [
        "# ... or determined by conditions\n",
        "b = a >= 7\n",
        "print(a[b])"
      ]
    },
    {
      "cell_type": "code",
      "execution_count": null,
      "metadata": {
        "id": "jnqFM_iybTvB"
      },
      "outputs": [],
      "source": [
        "# Useful to modify values\n",
        "import matplotlib.pyplot as plt\n",
        "\n",
        "x = np.linspace(-2 * np.pi, 2 * np.pi, 256)\n",
        "y = np.sin(x)\n",
        "y[y > 0.5] = 0.5 # Nice syntax, isn't it?\n",
        "plt.plot(x, y);"
      ]
    },
    {
      "cell_type": "code",
      "execution_count": null,
      "metadata": {
        "id": "e-CzP9jtbTvB"
      },
      "outputs": [],
      "source": [
        "# With matrices\n",
        "a = np.arange(12).reshape(3,4)\n",
        "b1 = np.array([False,True,True])\n",
        "b2 = np.array([True,False,True,False])\n",
        "a[b1, :] # Selecting rows"
      ]
    },
    {
      "cell_type": "code",
      "execution_count": null,
      "metadata": {
        "id": "BVR4W6JLbTvC"
      },
      "outputs": [],
      "source": [
        "a[:, b2] # Selecting columns"
      ]
    },
    {
      "cell_type": "code",
      "execution_count": null,
      "metadata": {
        "id": "_U6dTFiabTvC"
      },
      "outputs": [],
      "source": [
        "a[b1, b2] # Selecting both"
      ]
    },
    {
      "cell_type": "markdown",
      "metadata": {
        "id": "ljXArjiSbTvC"
      },
      "source": [
        "### More with matrices"
      ]
    },
    {
      "cell_type": "markdown",
      "metadata": {
        "id": "umxg5yNvbTvC"
      },
      "source": [
        "When we are working with matrices, more specific operations and tools are needed. First,\n",
        "there are common matrices operations."
      ]
    },
    {
      "cell_type": "code",
      "execution_count": null,
      "metadata": {
        "id": "rmMoClqfbTvC"
      },
      "outputs": [],
      "source": [
        "m1 = np.array([[1,1], [0,1]])\n",
        "m2 = np.array([[2,0], [3,4]])\n",
        "\n",
        "# Addition works as usual\n",
        "print(m1 + m2)"
      ]
    },
    {
      "cell_type": "code",
      "execution_count": null,
      "metadata": {
        "id": "qYFtnjyxbTvC"
      },
      "outputs": [],
      "source": [
        "# Be careful with multiplication!\n",
        "print(m1 * m2) # Item by item"
      ]
    },
    {
      "cell_type": "code",
      "execution_count": null,
      "metadata": {
        "id": "xOw9mRk6bTvC"
      },
      "outputs": [],
      "source": [
        "print(m1.dot(m2)) # Right matrix multiplication"
      ]
    },
    {
      "cell_type": "code",
      "execution_count": null,
      "metadata": {
        "id": "IpDtyYE8bTvC"
      },
      "outputs": [],
      "source": [
        "print(np.dot(m1, m2)) # Idem from np namespace"
      ]
    },
    {
      "cell_type": "code",
      "execution_count": null,
      "metadata": {
        "id": "SEW1RTpXbTvD"
      },
      "outputs": [],
      "source": [
        "# Many NumPy functions can be applied on axis (sum, mean, min, ...)\n",
        "print(m1.sum()) # Sum of all items"
      ]
    },
    {
      "cell_type": "code",
      "execution_count": null,
      "metadata": {
        "id": "vpFlDkcQbTvD"
      },
      "outputs": [],
      "source": [
        "print(m1.sum(axis=0)) # Sum of each column"
      ]
    },
    {
      "cell_type": "code",
      "execution_count": null,
      "metadata": {
        "id": "evNTSSD8bTvD"
      },
      "outputs": [],
      "source": [
        "print(m1.sum(axis=1)) # Sum of each row"
      ]
    },
    {
      "cell_type": "markdown",
      "metadata": {
        "id": "j4q_i9x5bTvD"
      },
      "source": [
        "Of course, NumPy also supplies tools to handle matrices as `array` objects in Python scripts."
      ]
    },
    {
      "cell_type": "code",
      "execution_count": null,
      "metadata": {
        "id": "6gsr_Ky4bTvD"
      },
      "outputs": [],
      "source": [
        "# Stacking rows and columns\n",
        "v1 = np.array([1, 2, 3])\n",
        "v2 = np.array([4, 5, 6])\n",
        "m1 = np.vstack((v1, v2)) # Pay attention to tuple\n",
        "print(m1)"
      ]
    },
    {
      "cell_type": "code",
      "execution_count": null,
      "metadata": {
        "id": "Lc0_ElXZbTvD"
      },
      "outputs": [],
      "source": [
        "m2 = np.hstack((v1, v2)) # One line\n",
        "print(m2)"
      ]
    },
    {
      "cell_type": "code",
      "execution_count": null,
      "metadata": {
        "id": "WHYaymqVbTvH"
      },
      "outputs": [],
      "source": [
        "v1 = np.array([[1], [2], [3]])\n",
        "v2 = np.array([[4], [5], [6]])\n",
        "m3 = np.hstack((v1, v2)) # Three lines\n",
        "print(m3)"
      ]
    },
    {
      "cell_type": "code",
      "execution_count": null,
      "metadata": {
        "id": "BrpQmx2dbTvH"
      },
      "outputs": [],
      "source": [
        "# Iterate on matrix rows\n",
        "for row in m3:\n",
        "    print('--->', row)"
      ]
    },
    {
      "cell_type": "code",
      "execution_count": null,
      "metadata": {
        "id": "oNZa46ttbTvH"
      },
      "outputs": [],
      "source": [
        "# Iterate on matrix elements\n",
        "for item in m3.flat: # Operator flat\n",
        "    print('--->', item)"
      ]
    },
    {
      "cell_type": "markdown",
      "metadata": {
        "id": "2W5kCyUbbTvH"
      },
      "source": [
        "Matrix calculation with NumPy is not restricted to such elementary operations and a\n",
        "large set of linear alegra tools are supplied. Note that some functions have to be taken from\n",
        "the submodule `numpy.linalg` (see [module documentation](https://docs.scipy.org/doc/numpy/reference/routines.linalg.html) for details)."
      ]
    },
    {
      "cell_type": "code",
      "execution_count": null,
      "metadata": {
        "id": "8IyFzyQkbTvH"
      },
      "outputs": [],
      "source": [
        "m1 = np.arange(12).reshape(3, 4)\n",
        "m2 = np.array([[3, 1, 2],\n",
        "               [2, 0, 5],\n",
        "               [1, 2, 3]])\n",
        "\n",
        "# Transpose operator\n",
        "print(m1.T)\n",
        "print(m1.transpose())\n",
        "print(np.transpose(m1))"
      ]
    },
    {
      "cell_type": "code",
      "execution_count": null,
      "metadata": {
        "id": "KXKxzJxwbTvH"
      },
      "outputs": [],
      "source": [
        "# Determinant and trace operators\n",
        "print(np.linalg.det(m2))\n",
        "print(np.trace(m2)) # Or m2.trace()"
      ]
    },
    {
      "cell_type": "code",
      "execution_count": null,
      "metadata": {
        "id": "BxqVsYDwbTvH"
      },
      "outputs": [],
      "source": [
        "# Inverse matrix\n",
        "np.linalg.inv(m1) # Raise a LinAlgError exception"
      ]
    },
    {
      "cell_type": "code",
      "execution_count": null,
      "metadata": {
        "id": "Tiz33qV5bTvI"
      },
      "outputs": [],
      "source": [
        "m2_inv = np.linalg.inv(m2)\n",
        "print(np.dot(m2, m2_inv))"
      ]
    },
    {
      "cell_type": "code",
      "execution_count": null,
      "metadata": {
        "id": "sf2rPZkKbTvI"
      },
      "outputs": [],
      "source": [
        "# Eigenvalues and eigenvectors\n",
        "np.linalg.eigh(np.dot(m1, m1.T)) # For Hermitian matrix only\n",
        "np.linalg.eig(m2) # Otherwise, right eigenvectors are returned"
      ]
    },
    {
      "cell_type": "markdown",
      "metadata": {
        "id": "jiIJ9ohNbTvI"
      },
      "source": [
        "More advanced procedures are at your disposal and we encourage you to browse the\n",
        "[NumPy documentation](https://docs.scipy.org/doc/) to discover all the possibilities. As an example, we give below the\n",
        "commands to perform a least squares polynomial fit."
      ]
    },
    {
      "cell_type": "code",
      "execution_count": null,
      "metadata": {
        "id": "3eNOwE-jbTvI"
      },
      "outputs": [],
      "source": [
        "import numpy as np\n",
        "import matplotlib.pyplot as plt\n",
        "\n",
        "x = np.array([0.0, 1.0, 2.0, 3.0, 4.0, 5.0])\n",
        "y = np.array([0.0, 0.8, 0.9, 0.1, -0.8, -1.0])\n",
        "z = np.polyfit(x, y, 3) # Polynomial of degree 3\n",
        "\n",
        "print(z) # Array z contains the coefficients of the polynomial\n",
        "\n",
        "plt.plot(x, y, 'bo')\n",
        "plt.axis([-1, 6, -2, 2])\n",
        "\n",
        "# Create a function for polynomial given by z\n",
        "pol_z = np.poly1d(z)\n",
        "plt.plot(x, pol_z(x), 'r--');"
      ]
    },
    {
      "cell_type": "markdown",
      "metadata": {
        "id": "GBkk3c0fbTvI"
      },
      "source": [
        "### A bit of randomness"
      ]
    },
    {
      "cell_type": "markdown",
      "metadata": {
        "id": "FPnBi6mzbTvI"
      },
      "source": [
        "Among a lot of other things, NumPy supplies [a large set of random generators](https://docs.scipy.org/doc/numpy-1.16.1/reference/routines.random.html) in the sub-\n",
        "module `numpy.random`. Some distribution are already available in the standard library but,\n",
        "with `numpy.random` functions, you are able to directly get array objects."
      ]
    },
    {
      "cell_type": "code",
      "execution_count": null,
      "metadata": {
        "id": "YPoY5PXtbTvI"
      },
      "outputs": [],
      "source": [
        "import numpy.random as rnd"
      ]
    },
    {
      "cell_type": "markdown",
      "metadata": {
        "id": "tkzA-k3IbTvI"
      },
      "source": [
        "Random arrays."
      ]
    },
    {
      "cell_type": "code",
      "execution_count": null,
      "metadata": {
        "id": "wpVBfF0gbTvJ",
        "colab": {
          "base_uri": "https://localhost:8080/"
        },
        "outputId": "a79afc71-b48e-473e-b0bd-805234d4b96a"
      },
      "outputs": [
        {
          "output_type": "execute_result",
          "data": {
            "text/plain": [
              "array([0.75989825, 0.93793382, 0.31249813])"
            ]
          },
          "metadata": {},
          "execution_count": 109
        }
      ],
      "source": [
        "rnd.rand(3)"
      ]
    },
    {
      "cell_type": "code",
      "execution_count": null,
      "metadata": {
        "id": "9_ZmTTa3bTvJ",
        "colab": {
          "base_uri": "https://localhost:8080/"
        },
        "outputId": "9f38b2bd-5f71-4680-c522-dc0c8055047c"
      },
      "outputs": [
        {
          "output_type": "execute_result",
          "data": {
            "text/plain": [
              "array([[ 1.13512029, -1.3159919 ,  1.3586511 ],\n",
              "       [ 0.70234856, -0.40445859, -2.83493889]])"
            ]
          },
          "metadata": {},
          "execution_count": 110
        }
      ],
      "source": [
        "rnd.randn(2, 3) # Standard normal distribution"
      ]
    },
    {
      "cell_type": "markdown",
      "metadata": {
        "id": "hKYncil5bTvJ"
      },
      "source": [
        "Random sample."
      ]
    },
    {
      "cell_type": "code",
      "execution_count": null,
      "metadata": {
        "id": "873N72n0bTvJ",
        "colab": {
          "base_uri": "https://localhost:8080/"
        },
        "outputId": "6071acf8-db9d-4583-b953-2bbd59d7bb04"
      },
      "outputs": [
        {
          "output_type": "execute_result",
          "data": {
            "text/plain": [
              "array([17,  8,  3,  8])"
            ]
          },
          "metadata": {},
          "execution_count": 113
        }
      ],
      "source": [
        "rnd.choice(np.array([17, 8, 19, 1, 3, 15]), 4) # With replace"
      ]
    },
    {
      "cell_type": "code",
      "execution_count": null,
      "metadata": {
        "id": "EGY5pMcGbTvJ",
        "colab": {
          "base_uri": "https://localhost:8080/"
        },
        "outputId": "2e9786ec-da5d-44f8-e068-0324ff242fc3"
      },
      "outputs": [
        {
          "output_type": "execute_result",
          "data": {
            "text/plain": [
              "array([17,  1,  8, 15])"
            ]
          },
          "metadata": {},
          "execution_count": 114
        }
      ],
      "source": [
        "rnd.choice(np.array([17, 8, 19, 1, 3, 15]), 4, False) # No replace"
      ]
    },
    {
      "cell_type": "markdown",
      "metadata": {
        "id": "Ozs3iXxQbTvJ"
      },
      "source": [
        "Distributions."
      ]
    },
    {
      "cell_type": "code",
      "execution_count": null,
      "metadata": {
        "id": "zPYzIyTsbTvJ",
        "colab": {
          "base_uri": "https://localhost:8080/"
        },
        "outputId": "7ec8ef9c-22d9-47ae-a15b-4adefb131512"
      },
      "outputs": [
        {
          "output_type": "execute_result",
          "data": {
            "text/plain": [
              "array([0.76729672, 0.44590875, 0.57496151, 0.4834807 , 0.22815584])"
            ]
          },
          "metadata": {},
          "execution_count": 115
        }
      ],
      "source": [
        "rnd.standard_exponential(5) # Standard exponential"
      ]
    },
    {
      "cell_type": "code",
      "execution_count": null,
      "metadata": {
        "id": "s9HtJEylbTvJ",
        "colab": {
          "base_uri": "https://localhost:8080/"
        },
        "outputId": "45b4d2da-694c-4060-abf1-982d89d10182"
      },
      "outputs": [
        {
          "output_type": "execute_result",
          "data": {
            "text/plain": [
              "array([1.06120151, 4.35740817, 0.56502226, 0.82124312, 2.70515629])"
            ]
          },
          "metadata": {},
          "execution_count": 116
        }
      ],
      "source": [
        "rnd.exponential(2, 5) # Exponential with parameter 2"
      ]
    },
    {
      "cell_type": "code",
      "execution_count": null,
      "metadata": {
        "id": "VOjQ3BG7bTvJ",
        "colab": {
          "base_uri": "https://localhost:8080/"
        },
        "outputId": "56cf9253-5f73-4887-ae8a-3f9c1e0712a4"
      },
      "outputs": [
        {
          "output_type": "execute_result",
          "data": {
            "text/plain": [
              "array([5, 5, 1, 2, 2, 4, 3, 4, 3, 0])"
            ]
          },
          "metadata": {},
          "execution_count": 117
        }
      ],
      "source": [
        "rnd.poisson(np.pi, 10) # Poisson with parameter pi"
      ]
    },
    {
      "cell_type": "markdown",
      "metadata": {
        "id": "AhsTWDoQbTvK"
      },
      "source": [
        "As an illustration, let us run a Brownian motion simulation in the plane:"
      ]
    },
    {
      "cell_type": "code",
      "execution_count": null,
      "metadata": {
        "id": "GZS_aemFbTvK",
        "colab": {
          "base_uri": "https://localhost:8080/",
          "height": 282
        },
        "outputId": "ea7003c4-27c4-4a24-e669-c3c0c58eb887"
      },
      "outputs": [
        {
          "output_type": "execute_result",
          "data": {
            "text/plain": [
              "[<matplotlib.lines.Line2D at 0x7f69bfd73950>]"
            ]
          },
          "metadata": {},
          "execution_count": 118
        },
        {
          "output_type": "display_data",
          "data": {
            "text/plain": [
              "<Figure size 432x288 with 1 Axes>"
            ],
            "image/png": "[encoded data removed]"
          },
          "metadata": {
            "needs_background": "light"
          }
        }
      ],
      "source": [
        "import numpy as np\n",
        "import numpy.random as rnd\n",
        "import matplotlib.pyplot as plt\n",
        "\n",
        "n = 10000\n",
        "u = rnd.choice([-1, 1], n).cumsum() / np.sqrt(n)\n",
        "v = rnd.choice([-1, 1], n).cumsum() / np.sqrt(n)\n",
        "\n",
        "plt.plot(u, v, 'k-')"
      ]
    }
  ],
  "metadata": {
    "kernelspec": {
      "display_name": "Python 3",
      "language": "python",
      "name": "python3"
    },
    "language_info": {
      "codemirror_mode": {
        "name": "ipython",
        "version": 3
      },
      "file_extension": ".py",
      "mimetype": "text/x-python",
      "name": "python",
      "nbconvert_exporter": "python",
      "pygments_lexer": "ipython3",
      "version": "3.7.3"
    },
    "colab": {
      "provenance": [],
      "collapsed_sections": [
        "a3k_3cgBbTt3",
        "JkcEBCwpbTt5",
        "EVUtEn_nbTuU",
        "Ztu-68NfbTuZ",
        "gOTlTEQVbTua",
        "17A-d9zcbTua",
        "UGZ4NMnYbTuc",
        "ilr4Z_jlbTue",
        "PXgCU4lmbTui",
        "xIbFWZZqbTut",
        "alRkNT5wbTuu",
        "UA9OS5Q7bTuv",
        "2tEFpa5pbTuw",
        "iSpeDeaObTux",
        "TCpmOwOAbTuz",
        "U7w-GO-AbTu0",
        "iJswtbqEbTu2",
        "DFuugUVebTu3",
        "5Nml2h3ebTu5",
        "aXph85fTbTu5",
        "u64r3GXzbTu6",
        "-pWZ9eCebTu7",
        "lAbI7bvPbTu_",
        "-CDGF-VlbTvB",
        "ljXArjiSbTvC",
        "GBkk3c0fbTvI"
      ]
    }
  },
  "nbformat": 4,
  "nbformat_minor": 0
}